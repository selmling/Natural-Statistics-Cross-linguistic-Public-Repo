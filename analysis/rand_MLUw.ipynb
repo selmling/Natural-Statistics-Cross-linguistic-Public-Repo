{
 "cells": [
  {
   "attachments": {},
   "cell_type": "markdown",
   "metadata": {},
   "source": [
    "# Natural Statistics Cross-linguistic: \n",
    "\n",
    "#### MLUw analysis - random sample\n",
    "\n",
    "----"
   ]
  },
  {
   "cell_type": "code",
   "execution_count": 1,
   "metadata": {},
   "outputs": [],
   "source": [
    "import pandas as pd\n",
    "import numpy as np\n",
    "import sys\n",
    "sys.path.insert(0, \"data_proc\")\n",
    "import contingent_extraction\n",
    "import warnings\n",
    "warnings.filterwarnings('ignore')"
   ]
  },
  {
   "cell_type": "code",
   "execution_count": 2,
   "id": "eb413bec",
   "metadata": {},
   "outputs": [],
   "source": [
    "TSE_rand_dat_inc = pd.read_csv(\"../data/TSE_cont_dat.csv\")\n",
    "TSE_rand_dat_inc.rename(columns={'Langauge_name': 'Language_name'}, inplace=True)\n",
    "TSE_rand_dat_inc['target_child_id'] = TSE_rand_dat_inc['transcript_id']"
   ]
  },
  {
   "cell_type": "code",
   "execution_count": 3,
   "id": "2ba53ae8",
   "metadata": {},
   "outputs": [],
   "source": [
    "%load_ext rpy2.ipython"
   ]
  },
  {
   "cell_type": "code",
   "execution_count": 4,
   "id": "94b7ecb2",
   "metadata": {},
   "outputs": [
    {
     "data": {
      "text/plain": [
       "── Attaching packages ─────────────────────────────────────── tidyverse 1.3.1 ──\n",
       "✔ ggplot2 3.4.2     ✔ purrr   1.0.1\n",
       "✔ tibble  3.2.1     ✔ dplyr   1.1.2\n",
       "✔ tidyr   1.3.0     ✔ stringr 1.5.0\n",
       "✔ readr   2.1.4     ✔ forcats 1.0.0\n",
       "── Conflicts ────────────────────────────────────────── tidyverse_conflicts() ──\n",
       "✖ dplyr::filter() masks stats::filter()\n",
       "✖ dplyr::lag()    masks stats::lag()\n"
      ]
     },
     "metadata": {},
     "output_type": "display_data"
    }
   ],
   "source": [
    "%%R -i TSE_rand_dat_inc\n",
    "\n",
    "library(tidyverse)\n",
    "\n",
    "# ---- count number of tokens per row\n",
    "\n",
    "TSE_rand_dat_inc <- TSE_rand_dat_inc %>% \n",
    "    mutate(num_tokens = str_count(gloss, \"\\\\w+\"))\n",
    "\n",
    "# save to file\n",
    "\n",
    "write_csv(TSE_rand_dat_inc, file=\"../data/TSE_cont_dat.csv\")\n"
   ]
  },
  {
   "cell_type": "code",
   "execution_count": 5,
   "id": "6f4a9539",
   "metadata": {},
   "outputs": [],
   "source": [
    "%%R -o TSE_rand_dat_inc\n",
    "\n",
    "TSE_rand_dat_inc <- TSE_rand_dat_inc"
   ]
  },
  {
   "cell_type": "code",
   "execution_count": 6,
   "id": "84d12b2d",
   "metadata": {},
   "outputs": [],
   "source": [
    "rand_dat_inc = pd.read_csv(\"../data/rand_dat_inc_master.csv\", index_col=0, low_memory=False)"
   ]
  },
  {
   "cell_type": "code",
   "execution_count": 7,
   "metadata": {},
   "outputs": [],
   "source": [
    "# load and clean data\n",
    "rand_dat_inc=rand_dat_inc[rand_dat_inc[\"language\"]!=\"ara\"]\n",
    "rand_dat_inc=rand_dat_inc[(rand_dat_inc[\"target_child_age\"]>=5) & (rand_dat_inc[\"target_child_age\"]<=30)]"
   ]
  },
  {
   "cell_type": "code",
   "execution_count": 8,
   "id": "5e29fd17",
   "metadata": {},
   "outputs": [],
   "source": [
    "# this way we include older and younger Tseltal kids\n",
    "rand_dat_inc = pd.concat([TSE_rand_dat_inc, rand_dat_inc])"
   ]
  },
  {
   "cell_type": "code",
   "execution_count": 9,
   "id": "49e8a43f",
   "metadata": {},
   "outputs": [],
   "source": [
    "rand_dat_inc_cg = rand_dat_inc[rand_dat_inc[\"caregiver\"]==\"caregiver\"]\n",
    "\n",
    "rand_dat_inc_cg[\"contingent\"] = np.where(rand_dat_inc_cg[\"contingent\"]==1, \"contingent\", \"non-contingent\")\n",
    "\n",
    "rand_dat_inc_cg = rand_dat_inc_cg[rand_dat_inc_cg[\"gloss\"].notna()]\n",
    "rand_dat_inc_cg = rand_dat_inc_cg[rand_dat_inc_cg[\"gloss\"]!=\"xxx\"]\n",
    "rand_dat_inc_cg = rand_dat_inc_cg[rand_dat_inc_cg[\"gloss\"]!=\"yyy\"]\n",
    "rand_dat_inc_cg = rand_dat_inc_cg[rand_dat_inc_cg[\"gloss\"]!=\"www\"]"
   ]
  },
  {
   "cell_type": "code",
   "execution_count": 10,
   "id": "b0790afc",
   "metadata": {},
   "outputs": [],
   "source": [
    "# add play context and year of study\n",
    "\n",
    "play_context = pd.read_csv(\"../data/context_data.csv\")\n",
    "play_context = play_context.rename(columns={\"Corpus\": \"corpus_name\"})\n",
    "\n",
    "# print(play_context.to_markdown())\n",
    "\n",
    "rand_dat_inc_cg = rand_dat_inc_cg.merge(play_context,on='corpus_name')\n",
    "\n",
    "rand_dat_inc_cg[\"Activity\"] = rand_dat_inc_cg[\"Activity\"].fillna(\"NaN\")\n",
    "\n",
    "rand_dat_inc_cg[\"context\"] = rand_dat_inc_cg[\"Location\"] + rand_dat_inc_cg[\"Activity\"]\n",
    "\n",
    "rand_dat_inc_cg[\"context\"] = rand_dat_inc_cg[\"context\"].replace({\"HomeBook-reading\":\"Home: book reading\",\n",
    "                                                                 \"HomeInterview/Unstructured\":\"Home: interview/unstructured\",\n",
    "                                                                 \"HomeNaN\":\"Home: unreported\",\n",
    "                                                                 \"HomeOther\":\"Home: other\",\n",
    "                                                                 \"HomeUnstructured\":\"Home: unstructured\",\n",
    "                                                                 \"LabOther\":\"Lab: other\",\n",
    "                                                                 \"LabTabletop play\":\"Lab: tabletop play\",\n",
    "                                                                 \"LabInterview/Unstructured\":\"Lab: interview/unstructured\",\n",
    "                                                                 \"LabUnstructured\":\"Lab: unstructured\",\n",
    "                                                                 np.nan:\"Unreported\",\n",
    "                                                                 \"OtherUnstructured\":\"Other: unstructured\"})\n",
    "\n",
    "# # year of study\n",
    "# corpora_year = pd.read_csv(\"../data/corpora_year.csv\")\n",
    "# corpora_year = corpora_year.rename(columns={\"Corpora\": \"corpus_name\"})\n",
    "# corpora_year = corpora_year[[\"corpus_name\", \"Year collected\"]]\n",
    "\n",
    "# rand_dat_inc_cg = rand_dat_inc_cg.merge(corpora_year,on='corpus_name')"
   ]
  },
  {
   "cell_type": "code",
   "execution_count": 11,
   "id": "c25847b9",
   "metadata": {},
   "outputs": [
    {
     "data": {
      "text/plain": [
       "Loading required package: Matrix\n",
       "\n",
       "Attaching package: ‘Matrix’\n",
       "\n",
       "The following objects are masked from ‘package:tidyr’:\n",
       "\n",
       "    expand, pack, unpack\n",
       "\n",
       "\n",
       "Attaching package: ‘lmerTest’\n",
       "\n",
       "The following object is masked from ‘package:lme4’:\n",
       "\n",
       "    lmer\n",
       "\n",
       "The following object is masked from ‘package:stats’:\n",
       "\n",
       "    step\n",
       "\n",
       "\n",
       "Attaching package: ‘kableExtra’\n",
       "\n",
       "The following object is masked from ‘package:dplyr’:\n",
       "\n",
       "    group_rows\n",
       "\n"
      ]
     },
     "metadata": {},
     "output_type": "display_data"
    }
   ],
   "source": [
    "%%R -i rand_dat_inc_cg\n",
    "\n",
    "library(\"lme4\")\n",
    "library(\"knitr\")\n",
    "library(\"broom\")\n",
    "library(\"emmeans\")\n",
    "library(\"lmerTest\")\n",
    "library(\"kableExtra\")\n",
    "\n",
    "options(scipen = 999)"
   ]
  },
  {
   "cell_type": "code",
   "execution_count": 12,
   "id": "f2cc7137",
   "metadata": {},
   "outputs": [
    {
     "name": "stdout",
     "output_type": "stream",
     "text": [
      "Joining with `by = join_by(transcript_id)`\n"
     ]
    }
   ],
   "source": [
    "%%R -o rand_dat_inc_cg\n",
    "\n",
    "# ---- create caregiver type categories\n",
    "\n",
    "caregiver_type <- rand_dat_inc_cg %>%\n",
    "  group_by(transcript_id) %>%\n",
    "  summarise(\n",
    "    caregiver_type = case_when(\n",
    "      all(speaker_role == \"Mother\") ~ \"Mother only\",\n",
    "      all(speaker_role == \"Father\") ~ \"Father only\",\n",
    "      any(speaker_role %in% c(\"Mother\", \"Father\")) ~ \"Mother & Father\",\n",
    "      TRUE ~ \"Unknown\"\n",
    "    )\n",
    "  )\n",
    "\n",
    "rand_dat_inc_cg <- rand_dat_inc_cg %>%\n",
    "  left_join(caregiver_type)"
   ]
  },
  {
   "cell_type": "code",
   "execution_count": 13,
   "metadata": {},
   "outputs": [],
   "source": [
    "rand_mlu_stats = (rand_dat_inc_cg.groupby([\"Language_name\",\"target_child_id\",\"transcript_id\",\"contingent\"])\n",
    "                                  .num_tokens\n",
    "                                  .agg([\"mean\"])\n",
    "                                  .reset_index())\n",
    "rand_mlu_sumstats =  rand_mlu_stats.rename({'mean': 'means'}, axis=1)"
   ]
  },
  {
   "cell_type": "code",
   "execution_count": 14,
   "id": "40e1ccff",
   "metadata": {},
   "outputs": [
    {
     "name": "stdout",
     "output_type": "stream",
     "text": [
      "NULL\n"
     ]
    }
   ],
   "source": [
    "%%R -i rand_mlu_sumstats\n",
    "\n",
    "# ^import rand_mlu_sumstats into R"
   ]
  },
  {
   "cell_type": "code",
   "execution_count": 15,
   "id": "efad6d0d",
   "metadata": {},
   "outputs": [
    {
     "name": "stdout",
     "output_type": "stream",
     "text": [
      "Joining with `by = join_by(transcript_id)`\n"
     ]
    }
   ],
   "source": [
    "%%R -o rand_mlu_sumstats\n",
    "\n",
    "rand_mlu_sumstats <- rand_mlu_sumstats %>%\n",
    "    left_join(caregiver_type) %>%\n",
    "    filter(Language_name != \"Mandarin\") %>%\n",
    "    filter(Language_name != \"Polish\")"
   ]
  },
  {
   "cell_type": "code",
   "execution_count": 16,
   "metadata": {},
   "outputs": [],
   "source": [
    "# save data to file\n",
    "rand_mlu_sumstats.to_csv(\"../data/rand_mlu_sumstats.csv\")"
   ]
  },
  {
   "attachments": {},
   "cell_type": "markdown",
   "metadata": {},
   "source": [
    "----\n",
    "#### MLUw plot"
   ]
  },
  {
   "attachments": {},
   "cell_type": "markdown",
   "metadata": {},
   "source": [
    "Simple plot"
   ]
  },
  {
   "cell_type": "code",
   "execution_count": 17,
   "metadata": {},
   "outputs": [
    {
     "data": {
      "text/plain": [
       "In addition: Warning messages:\n",
       "1: The `fun.y` argument of `stat_summary()` is deprecated as of ggplot2 3.3.0.\n",
       "ℹ Please use the `fun` argument instead.\n",
       "This warning is displayed once every 8 hours.\n",
       "Call `lifecycle::last_lifecycle_warnings()` to see where this warning was\n",
       "generated. \n",
       "2: Using `size` aesthetic for lines was deprecated in ggplot2 3.4.0.\n",
       "ℹ Please use `linewidth` instead.\n",
       "This warning is displayed once every 8 hours.\n",
       "Call `lifecycle::last_lifecycle_warnings()` to see where this warning was\n",
       "generated. \n",
       "3: The `size` argument of `element_rect()` is deprecated as of ggplot2 3.4.0.\n",
       "ℹ Please use the `linewidth` argument instead.\n",
       "This warning is displayed once every 8 hours.\n",
       "Call `lifecycle::last_lifecycle_warnings()` to see where this warning was\n",
       "generated. \n",
       "4: Removed 177 rows containing non-finite values (`stat_summary()`). \n",
       "5: Removed 177 rows containing non-finite values (`stat_summary()`). \n"
      ]
     },
     "metadata": {},
     "output_type": "display_data"
    }
   ],
   "source": [
    "%%R -i rand_mlu_sumstats\n",
    "\n",
    "library('ggplot2')\n",
    "library('repr')\n",
    "options(repr.plot.width=6, repr.plot.height=12)\n",
    "\n",
    "xlabs <- c(\"C\", \"NC\")\n",
    "\n",
    "# ara_label <- data.frame(means=c(0),contingent = c(1.5),language=\"ara\") # no adult speech transcribed\n",
    "deu_label <- data.frame(means=c(5.8),contingent = c(1.5),Language_name=\"German\")\n",
    "eng_label <- data.frame(means=c(5.8),contingent = c(1.5),Language_name=\"English\")\n",
    "est_label <- data.frame(means=c(5.8),contingent = c(1.5),Language_name=\"Estonian\")\n",
    "# fas_label <- data.frame(means=c(5.8),contingent = c(1.5),Language_name=\"Persian\")\n",
    "fas_ns_label <- data.frame(means=c(6),contingent = c(1.5),Language_name=\"Persian\")\n",
    "fra_label <- data.frame(means=c(5.8),contingent = c(1.5),Language_name=\"French\")\n",
    "hrv_label <- data.frame(means=c(5.8),contingent = c(1.5),Language_name=\"Croatian\")\n",
    "jpn_label <- data.frame(means=c(5.8),contingent = c(1.5),Language_name=\"Japanese\")\n",
    "kor_label <- data.frame(means=c(5.8),contingent = c(1.5),Language_name=\"Korean\")\n",
    "# nor_label <- data.frame(means=c(5.8),contingent = c(1.5),Language_name=\"Norwegian\")\n",
    "nor_ns_label <- data.frame(means=c(5.8),contingent = c(1.5),Language_name=\"Norwegian\")\n",
    "# pol_label <- data.frame(means=c(6),contingent = c(1.5),Language_name=\"Polish\")\n",
    "por_label <- data.frame(means=c(5.8),contingent = c(1.5),Language_name=\"Portuguese\")\n",
    "spa_label <- data.frame(means=c(5.8),contingent = c(1.5),Language_name=\"Spanish\")\n",
    "swe_label <- data.frame(means=c(5.8),contingent = c(1.5),Language_name=\"Swedish\")\n",
    "tse_label <- data.frame(means=c(5.8),contingent = c(1.5),Language_name=\"Tseltal\")\n",
    "# zho_label <- data.frame(means=c(5.8),contingent = c(1.5),Language_name=\"Mandarin\")\n",
    "# zho_ns_label <- data.frame(means=c(6),contingent = c(1.5),Language_name=\"Mandarin\")\n",
    "\n",
    "\n",
    "p <- ggplot(rand_mlu_sumstats, aes(x = contingent, y = means, color = Language_name)) +\n",
    "     stat_summary(fun.y=mean, geom=\"point\", shape=19, size=1.75) + \n",
    "     stat_summary(fun.data = mean_se, geom = \"errorbar\", size=1.25, width = .5) +\n",
    "     facet_wrap(. ~ Language_name,ncol = 7) + \n",
    "     geom_text(data = deu_label,label = \"***\",size=8,color=\"black\") + \n",
    "     geom_text(data = eng_label,label = \"***\",size=8,color=\"black\") +  \n",
    "     geom_text(data = est_label,label = \"**\",size=8,color=\"black\") +  \n",
    "     geom_text(data = fas_ns_label,label = \"ns\",size=4,color=\"black\",fontface = \"italic\") +\n",
    "#      geom_text(data = fas_label,label = \"*\",size=8, color=\"black\") +\n",
    "     geom_text(data = fra_label,label = \"***\",size=8,color=\"black\") +  \n",
    "     geom_text(data = hrv_label,label = \"***\",size=8,color=\"black\") + \n",
    "     geom_text(data = jpn_label,label = \"***\",size=8,color=\"black\") + \n",
    "     geom_text(data = kor_label,label = \"***\",size=8,color=\"black\") +  \n",
    "     geom_text(data = nor_ns_label,label = \"**\",size=8,color=\"black\") +  \n",
    "     geom_text(data = por_label,label = \"***\",size=8,color=\"black\") +  \n",
    "     geom_text(data = spa_label,label = \"***\",size=8,color=\"black\") + \n",
    "     geom_text(data = swe_label,label = \"***\",size=8,color=\"black\") + \n",
    "     geom_text(data = tse_label,label = \"\",size=8,color=\"black\") + \n",
    "     ylim(0, 6) +\n",
    "     labs(tag=\"B\",\n",
    "          y = \"Mean Length of Utterances in Words\",\n",
    "          x = \"\") +\n",
    "     theme_classic() +\n",
    "     scale_x_discrete(labels= xlabs) +\n",
    "     theme(text = element_text(size=16),\n",
    "           axis.text.x = element_text(vjust = 0.5, hjust=0.5),\n",
    "           legend.title = element_blank(),\n",
    "           legend.background = element_rect(fill=alpha(\"white\",0.90),\n",
    "                                                            size=0, linetype=\"dotted\",\n",
    "                                                            colour = \"white\"),\n",
    "           legend.text=element_text(size=16))\n",
    "      ggsave(\"../figures/token_mlu_rand.pdf\", width = 11.5, height = 4.2)"
   ]
  },
  {
   "attachments": {},
   "cell_type": "markdown",
   "metadata": {},
   "source": [
    "for manuscript"
   ]
  },
  {
   "cell_type": "code",
   "execution_count": 18,
   "metadata": {},
   "outputs": [
    {
     "data": {
      "text/plain": [
       "In addition: Warning messages:\n",
       "1: Removed 177 rows containing non-finite values (`stat_summary()`). \n",
       "2: Removed 177 rows containing non-finite values (`stat_summary()`). \n"
      ]
     },
     "metadata": {},
     "output_type": "display_data"
    }
   ],
   "source": [
    "%%R -i rand_mlu_sumstats\n",
    "\n",
    "library('ggplot2')\n",
    "library('repr')\n",
    "options(repr.plot.width=6, repr.plot.height=12)\n",
    "\n",
    "xlabs <- c(\"C\", \"NC\")\n",
    "\n",
    "# ara_label <- data.frame(means=c(0),contingent = c(1.5),language=\"ara\") # no adult speech transcribed\n",
    "deu_label <- data.frame(means=c(5.65),contingent = c(1.5),Language_name=\"German\")\n",
    "eng_label <- data.frame(means=c(5.65),contingent = c(1.5),Language_name=\"English\")\n",
    "est_label <- data.frame(means=c(5.65),contingent = c(1.5),Language_name=\"Estonian\")\n",
    "# fas_label <- data.frame(means=c(5.8),contingent = c(1.5),Language_name=\"Persian\")\n",
    "fas_ns_label <- data.frame(means=c(6),contingent = c(1.5),Language_name=\"Persian\")\n",
    "fra_label <- data.frame(means=c(5.65),contingent = c(1.5),Language_name=\"French\")\n",
    "hrv_label <- data.frame(means=c(5.65),contingent = c(1.5),Language_name=\"Croatian\")\n",
    "jpn_label <- data.frame(means=c(5.65),contingent = c(1.5),Language_name=\"Japanese\")\n",
    "kor_label <- data.frame(means=c(5.65),contingent = c(1.5),Language_name=\"Korean\")\n",
    "# nor_label <- data.frame(means=c(5.8),contingent = c(1.5),Language_name=\"Norwegian\")\n",
    "nor_ns_label <- data.frame(means=c(5.65),contingent = c(1.5),Language_name=\"Norwegian\")\n",
    "# pol_label <- data.frame(means=c(6),contingent = c(1.5),Language_name=\"Polish\")\n",
    "por_label <- data.frame(means=c(5.65),contingent = c(1.5),Language_name=\"Portuguese\")\n",
    "spa_label <- data.frame(means=c(5.65),contingent = c(1.5),Language_name=\"Spanish\")\n",
    "swe_label <- data.frame(means=c(5.65),contingent = c(1.5),Language_name=\"Swedish\")\n",
    "# zho_label <- data.frame(means=c(5.8),contingent = c(1.5),Language_name=\"Mandarin\")\n",
    "# zho_ns_label <- data.frame(means=c(6),contingent = c(1.5),Language_name=\"Mandarin\")\n",
    "\n",
    "\n",
    "p <- ggplot(rand_mlu_sumstats, aes(x = contingent, y = means, color = Language_name)) +\n",
    "     stat_summary(fun.y=mean, geom=\"point\", shape=19, size=1.75) + \n",
    "     stat_summary(fun.data = mean_se, geom = \"errorbar\", size=1.25, width = .4) +\n",
    "     facet_wrap(. ~ Language_name,ncol = 7) + \n",
    "     geom_text(data = deu_label,label = \"***\",size=6,color=\"black\") + \n",
    "     geom_text(data = eng_label,label = \"***\",size=6,color=\"black\") +  \n",
    "     geom_text(data = est_label,label = \"**\",size=6,color=\"black\") +  \n",
    "     geom_text(data = fas_ns_label,label = \"ns\",size=3,color=\"black\",fontface = \"italic\") +\n",
    "#      geom_text(data = fas_label,label = \"*\",size=8, color=\"black\") +\n",
    "     geom_text(data = fra_label,label = \"***\",size=6,color=\"black\") +  \n",
    "     geom_text(data = hrv_label,label = \"***\",size=6,color=\"black\") + \n",
    "     geom_text(data = jpn_label,label = \"***\",size=6,color=\"black\") + \n",
    "     geom_text(data = kor_label,label = \"***\",size=6,color=\"black\") +  \n",
    "     geom_text(data = nor_ns_label,label = \"**\",size=6,color=\"black\") +  \n",
    "     geom_text(data = por_label,label = \"***\",size=6,color=\"black\") +  \n",
    "     geom_text(data = spa_label,label = \"***\",size=6,color=\"black\") + \n",
    "     geom_text(data = swe_label,label = \"***\",size=6,color=\"black\") + \n",
    "     geom_text(data = tse_label,label = \"\",size=6,color=\"black\") + \n",
    "#      geom_text(data = zho_label,label = \"*\",size=8, color=\"black\") +\n",
    "     ylim(0, 6) +\n",
    "     labs(tag=\"B\",\n",
    "          y = \"Mean Length of Utterances in Words\", x = \"\") +\n",
    "     theme_classic() +\n",
    "     scale_x_discrete(labels= xlabs) +\n",
    "     theme(text = element_text(size=11.5),\n",
    "           axis.text.x = element_text(vjust = 0.5, hjust=0.5),\n",
    "           legend.position=\"none\")\n",
    "      ggsave(\"../figures/figure_2_B.pdf\", width = 11.5, height = 4.2)"
   ]
  },
  {
   "cell_type": "code",
   "execution_count": 19,
   "id": "0de6e31a",
   "metadata": {},
   "outputs": [],
   "source": [
    "MLUw_dat = rand_dat_inc_cg[['Language_name','num_tokens','contingent','transcript_id','target_child_id','caregiver_type']]"
   ]
  },
  {
   "cell_type": "markdown",
   "id": "1074635e",
   "metadata": {},
   "source": [
    "Descriptives"
   ]
  },
  {
   "cell_type": "code",
   "execution_count": 20,
   "id": "b55c0361",
   "metadata": {},
   "outputs": [
    {
     "name": "stdout",
     "output_type": "stream",
     "text": [
      "`summarise()` has grouped output by 'Language_name'. You can override using the\n",
      "`.groups` argument.\n",
      "\n",
      "\n",
      "|Language   |Contingent M (SD) |Non-Contingent M (SD) |\n",
      "|:----------|:-----------------|:---------------------|\n",
      "|Croatian   |3.72 (0.8)        |4.07 (0.82)           |\n",
      "|English    |3.7 (1.71)        |4.34 (1.32)           |\n",
      "|Estonian   |3.91 (0.42)       |4.53 (0.65)           |\n",
      "|French     |3.97 (1.28)       |4.45 (1.22)           |\n",
      "|German     |4.49 (1.03)       |5.34 (1.02)           |\n",
      "|Japanese   |2.3 (0.45)        |2.93 (0.55)           |\n",
      "|Korean     |3.78 (0.7)        |4.25 (0.66)           |\n",
      "|Norwegian  |3.38 (1.38)       |4.08 (1.49)           |\n",
      "|Persian    |2.76 (0.37)       |3.19 (0.32)           |\n",
      "|Portuguese |3.94 (0.89)       |4.45 (0.88)           |\n",
      "|Spanish    |3.34 (0.61)       |3.82 (0.63)           |\n",
      "|Swedish    |3.27 (0.66)       |3.95 (0.77)           |\n",
      "|Tseltal    |2.83 (0.48)       |3.58 (0.48)           |\n"
     ]
    }
   ],
   "source": [
    "%%R -i rand_mlu_sumstats\n",
    "\n",
    "rand_mlu_sumstats %>%\n",
    "    group_by(Language_name, contingent) %>%\n",
    "    summarize(mean = mean(means),\n",
    "              sd = sd(means)) %>%\n",
    "    pivot_wider(names_from = contingent, values_from = c(mean, sd)) %>%\n",
    "    select(Language_name, mean_contingent, sd_contingent, `mean_non-contingent`, `sd_non-contingent`) %>%\n",
    "    `colnames<-`(c(\"Language\", \"Contingent Mean\", \"Contingent SD\", \"Non-Contingent Mean\", \"Non-Contingent SD\")) %>%\n",
    "    mutate(across(where(is.numeric), ~ round(., 2))) %>%\n",
    "    unite(\"Contingent M (SD)\", \"Contingent Mean\", \"Contingent SD\", sep = \" (\", na.rm = TRUE) %>%\n",
    "    mutate(`Contingent M (SD)` = paste0(`Contingent M (SD)`, \")\")) %>%\n",
    "    unite(\"Non-Contingent M (SD)\", \"Non-Contingent Mean\", \"Non-Contingent SD\", sep = \" (\", na.rm = TRUE) %>%\n",
    "    mutate(`Non-Contingent M (SD)` = paste0(`Non-Contingent M (SD)`, \")\")) %>%\n",
    "    kbl(\"pipe\")"
   ]
  },
  {
   "cell_type": "markdown",
   "id": "cc5a1127",
   "metadata": {},
   "source": [
    "#### Statistical analyses\n",
    "\n",
    "By language"
   ]
  },
  {
   "cell_type": "code",
   "execution_count": 21,
   "id": "ed93b38b",
   "metadata": {},
   "outputs": [
    {
     "name": "stdout",
     "output_type": "stream",
     "text": [
      "Joining with `by = join_by(Language_name)`\n"
     ]
    },
    {
     "data": {
      "text/plain": [
       "boundary (singular) fit: see help('isSingular')\n",
       "boundary (singular) fit: see help('isSingular')\n",
       "Note: D.f. calculations have been disabled because the number of observations exceeds 3000.\n",
       "To enable adjustments, add the argument 'pbkrtest.limit = 6241' (or larger)\n",
       "[or, globally, 'set emm_options(pbkrtest.limit = 6241)' or larger];\n",
       "but be warned that this may result in large computation time and memory use.\n",
       "Note: D.f. calculations have been disabled because the number of observations exceeds 3000.\n",
       "To enable adjustments, add the argument 'lmerTest.limit = 6241' (or larger)\n",
       "[or, globally, 'set emm_options(lmerTest.limit = 6241)' or larger];\n",
       "but be warned that this may result in large computation time and memory use.\n",
       "Note: D.f. calculations have been disabled because the number of observations exceeds 3000.\n",
       "To enable adjustments, add the argument 'pbkrtest.limit = 100059' (or larger)\n",
       "[or, globally, 'set emm_options(pbkrtest.limit = 100059)' or larger];\n",
       "but be warned that this may result in large computation time and memory use.\n",
       "Note: D.f. calculations have been disabled because the number of observations exceeds 3000.\n",
       "To enable adjustments, add the argument 'lmerTest.limit = 100059' (or larger)\n",
       "[or, globally, 'set emm_options(lmerTest.limit = 100059)' or larger];\n",
       "but be warned that this may result in large computation time and memory use.\n",
       "Note: D.f. calculations have been disabled because the number of observations exceeds 3000.\n",
       "To enable adjustments, add the argument 'pbkrtest.limit = 21178' (or larger)\n",
       "[or, globally, 'set emm_options(pbkrtest.limit = 21178)' or larger];\n",
       "but be warned that this may result in large computation time and memory use.\n",
       "Note: D.f. calculations have been disabled because the number of observations exceeds 3000.\n",
       "To enable adjustments, add the argument 'lmerTest.limit = 21178' (or larger)\n",
       "[or, globally, 'set emm_options(lmerTest.limit = 21178)' or larger];\n",
       "but be warned that this may result in large computation time and memory use.\n",
       "Note: D.f. calculations have been disabled because the number of observations exceeds 3000.\n",
       "To enable adjustments, add the argument 'pbkrtest.limit = 4452' (or larger)\n",
       "[or, globally, 'set emm_options(pbkrtest.limit = 4452)' or larger];\n",
       "but be warned that this may result in large computation time and memory use.\n",
       "Note: D.f. calculations have been disabled because the number of observations exceeds 3000.\n",
       "To enable adjustments, add the argument 'lmerTest.limit = 4452' (or larger)\n",
       "[or, globally, 'set emm_options(lmerTest.limit = 4452)' or larger];\n",
       "but be warned that this may result in large computation time and memory use.\n",
       "Note: D.f. calculations have been disabled because the number of observations exceeds 3000.\n",
       "To enable adjustments, add the argument 'pbkrtest.limit = 25124' (or larger)\n",
       "[or, globally, 'set emm_options(pbkrtest.limit = 25124)' or larger];\n",
       "but be warned that this may result in large computation time and memory use.\n",
       "Note: D.f. calculations have been disabled because the number of observations exceeds 3000.\n",
       "To enable adjustments, add the argument 'lmerTest.limit = 25124' (or larger)\n",
       "[or, globally, 'set emm_options(lmerTest.limit = 25124)' or larger];\n",
       "but be warned that this may result in large computation time and memory use.\n",
       "Note: D.f. calculations have been disabled because the number of observations exceeds 3000.\n",
       "To enable adjustments, add the argument 'pbkrtest.limit = 4375' (or larger)\n",
       "[or, globally, 'set emm_options(pbkrtest.limit = 4375)' or larger];\n",
       "but be warned that this may result in large computation time and memory use.\n",
       "Note: D.f. calculations have been disabled because the number of observations exceeds 3000.\n",
       "To enable adjustments, add the argument 'lmerTest.limit = 4375' (or larger)\n",
       "[or, globally, 'set emm_options(lmerTest.limit = 4375)' or larger];\n",
       "but be warned that this may result in large computation time and memory use.\n",
       "Note: D.f. calculations have been disabled because the number of observations exceeds 3000.\n",
       "To enable adjustments, add the argument 'pbkrtest.limit = 4615' (or larger)\n",
       "[or, globally, 'set emm_options(pbkrtest.limit = 4615)' or larger];\n",
       "but be warned that this may result in large computation time and memory use.\n",
       "Note: D.f. calculations have been disabled because the number of observations exceeds 3000.\n",
       "To enable adjustments, add the argument 'lmerTest.limit = 4615' (or larger)\n",
       "[or, globally, 'set emm_options(lmerTest.limit = 4615)' or larger];\n",
       "but be warned that this may result in large computation time and memory use.\n",
       "Note: D.f. calculations have been disabled because the number of observations exceeds 3000.\n",
       "To enable adjustments, add the argument 'pbkrtest.limit = 3157' (or larger)\n",
       "[or, globally, 'set emm_options(pbkrtest.limit = 3157)' or larger];\n",
       "but be warned that this may result in large computation time and memory use.\n",
       "Note: D.f. calculations have been disabled because the number of observations exceeds 3000.\n",
       "To enable adjustments, add the argument 'lmerTest.limit = 3157' (or larger)\n",
       "[or, globally, 'set emm_options(lmerTest.limit = 3157)' or larger];\n",
       "but be warned that this may result in large computation time and memory use.\n",
       "In addition: Warning messages:\n",
       "1: `cols` is now required when using `unnest()`.\n",
       "ℹ Please use `cols = c(effect_size)`. \n",
       "2: `cols` is now required when using `unnest()`.\n",
       "ℹ Please use `cols = c(effect_size)`. \n",
       "3: `cols` is now required when using `unnest()`.\n",
       "ℹ Please use `cols = c(effect_size)`. \n",
       "4: `cols` is now required when using `unnest()`.\n",
       "ℹ Please use `cols = c(effect_size)`. \n"
      ]
     },
     "metadata": {},
     "output_type": "display_data"
    }
   ],
   "source": [
    "%%R -i MLUw_dat\n",
    "\n",
    "MLUw_dat <- MLUw_dat %>%\n",
    "    filter(Language_name != \"Mandarin\") %>%\n",
    "    filter(Language_name != \"Polish\")\n",
    "\n",
    "# vectors for rows to remove from lmer\n",
    "case_study <- c(\"Persian\") # only 1 target child analyzed\n",
    "\n",
    "case_study_cgtype_compare <- c(\"Korean\") # only 1 target child analyzed, varies in CG type\n",
    "\n",
    "no_cgtype_compare <- c(\"Portuguese\", \"Tseltal\") # only `Mother only`\n",
    "\n",
    "# single_tran <- c(\"Polish\") # only 1 transcript\n",
    "\n",
    "# nests of models\n",
    "mlu_nest1 <- MLUw_dat %>%\n",
    "    filter(!Language_name %in% case_study) %>%\n",
    "    filter(!Language_name %in% no_cgtype_compare) %>%\n",
    "    filter(!Language_name %in% case_study_cgtype_compare) %>%\n",
    "    group_by(Language_name) %>%\n",
    "    nest() %>%\n",
    "    mutate(fit = map(data, ~ lmer(num_tokens ~ contingent + caregiver_type +\n",
    "                                (1|target_child_id) +\n",
    "                                (1|transcript_id),\n",
    "                                data = .,\n",
    "                                REML= FALSE)),\n",
    "           summary = map(fit, ~ emmeans(., \"contingent\")),\n",
    "           contrasts = map(summary, ~ summary(contrast(., method = \"pairwise\"))),\n",
    "           effect_size = map2(summary, fit, ~ eff_size(.x, sigma = sigma(.y), edf = df.residual(.y)))) %>%\n",
    "    select(Language_name, contrasts, effect_size) %>%\n",
    "    unnest(cols = c(contrasts)) %>%\n",
    "    mutate(effect_size = map(effect_size, ~ summary(.))) %>%\n",
    "    unnest() %>%\n",
    "    mutate(statistic = coalesce(`z.ratio`,`t.ratio`), .before = p.value) %>%\n",
    "    select (-c(`z.ratio`,`t.ratio`))\n",
    "\n",
    "mlu_nest2 <- MLUw_dat %>%\n",
    "    filter(Language_name %in% case_study_cgtype_compare) %>%\n",
    "    group_by(Language_name) %>%\n",
    "    nest() %>%\n",
    "    mutate(fit = map(data, ~ lmer(num_tokens ~ contingent + caregiver_type +\n",
    "                                (1|transcript_id),\n",
    "                                data = .,\n",
    "                                REML= FALSE)),\n",
    "           summary = map(fit, ~ emmeans(., \"contingent\")),\n",
    "           contrasts = map(summary, ~ summary(contrast(., method = \"pairwise\"))),\n",
    "           effect_size = map2(summary, fit, ~ eff_size(.x, sigma = sigma(.y), edf = df.residual(.y)))) %>%\n",
    "    select(Language_name, contrasts, effect_size) %>%\n",
    "    unnest(cols = c(contrasts)) %>%\n",
    "    mutate(effect_size = map(effect_size, ~ summary(.))) %>%\n",
    "    unnest() %>%\n",
    "    mutate(statistic = coalesce(`z.ratio`), .before = p.value) %>%\n",
    "    select (-c(`z.ratio`))\n",
    "\n",
    "mlu_nest3 <- MLUw_dat %>%\n",
    "    filter(Language_name %in% no_cgtype_compare) %>%\n",
    "    group_by(Language_name) %>%\n",
    "    nest() %>%\n",
    "    mutate(fit = map(data, ~ lmer(num_tokens ~ contingent + \n",
    "                                (1|target_child_id) +\n",
    "                                (1|transcript_id),\n",
    "                                data = .,\n",
    "                                REML= FALSE)),\n",
    "           summary = map(fit, ~ emmeans(., \"contingent\")),\n",
    "           contrasts = map(summary, ~ summary(contrast(., method = \"pairwise\"))),\n",
    "           effect_size = map2(summary, fit, ~ eff_size(.x, sigma = sigma(.y), edf = df.residual(.y)))) %>%\n",
    "    select(Language_name, contrasts, effect_size) %>%\n",
    "    unnest(cols = c(contrasts)) %>%\n",
    "    mutate(effect_size = map(effect_size, ~ summary(.))) %>%\n",
    "    unnest() %>%\n",
    "    mutate(statistic = coalesce(`t.ratio`), .before = p.value) %>%\n",
    "    select (-c(`t.ratio`))\n",
    "\n",
    "mlu_nest4 <- MLUw_dat %>%\n",
    "    filter(Language_name %in% case_study) %>%\n",
    "    group_by(Language_name) %>%\n",
    "    nest() %>%\n",
    "    mutate(fit = map(data, ~ lmer(num_tokens ~ contingent +\n",
    "                                (1|transcript_id),\n",
    "                                data = .,\n",
    "                                REML= FALSE)),\n",
    "           summary = map(fit, ~ emmeans(., \"contingent\")),\n",
    "           contrasts = map(summary, ~ summary(contrast(., method = \"pairwise\"))),\n",
    "           effect_size = map2(summary, fit, ~ eff_size(.x, sigma = sigma(.y), edf = df.residual(.y)))) %>%\n",
    "    select(Language_name, contrasts, effect_size) %>%\n",
    "    unnest(cols = c(contrasts)) %>%\n",
    "    mutate(effect_size = map(effect_size, ~ summary(.))) %>%\n",
    "    unnest() %>%\n",
    "    mutate(statistic = coalesce(`z.ratio`), .before = p.value) %>%\n",
    "    select (-c(`z.ratio`))\n",
    "    \n",
    "# number of transcripts per language\n",
    "sample_size <- MLUw_dat %>%\n",
    "    group_by(Language_name) %>%\n",
    "    summarize(n = n_distinct(transcript_id))\n",
    "    \n",
    "# combine lmer summaries and correct p-values for multiple comparisons\n",
    "emms_all <- list(mlu_nest1, mlu_nest2, mlu_nest3, mlu_nest4) %>% \n",
    "    reduce(bind_rows) %>%\n",
    "    mutate(p.value = p.adjust(p.value, \"holm\", 13)) %>%\n",
    "    left_join(sample_size)"
   ]
  },
  {
   "cell_type": "markdown",
   "id": "7e7ddf01",
   "metadata": {},
   "source": [
    "Format statistics table"
   ]
  },
  {
   "cell_type": "code",
   "execution_count": 22,
   "id": "83eccd1d",
   "metadata": {},
   "outputs": [
    {
     "name": "stdout",
     "output_type": "stream",
     "text": [
      "\n",
      "\n",
      "|Language (n)    |Estimate (SE) | Test statistic| Effect size|Adjusted p-value |\n",
      "|:---------------|:-------------|--------------:|-----------:|:----------------|\n",
      "|Croatian (58)   |-0.37 (0.07)  |          -5.00|       -0.13|<.0001           |\n",
      "|English (882)   |-0.69 (0.03)  |         -26.23|       -0.23|<.0001           |\n",
      "|Estonian (22)   |-0.61 (0.12)  |          -4.88|       -0.21|<.0001           |\n",
      "|French (279)    |-0.53 (0.05)  |          -9.77|       -0.16|<.0001           |\n",
      "|German (38)     |-0.89 (0.11)  |          -8.38|       -0.26|<.0001           |\n",
      "|Japanese (160)  |-0.65 (0.03)  |         -23.54|       -0.32|<.0001           |\n",
      "|Korean (28)     |-0.46 (0.07)  |          -6.66|       -0.22|<.0001           |\n",
      "|Norwegian (28)  |-0.66 (0.14)  |          -4.59|       -0.24|0.0001           |\n",
      "|Persian (12)    |-0.41 (0.1)   |          -4.30|       -0.18|0.0002           |\n",
      "|Portuguese (23) |-0.69 (0.13)  |          -5.32|       -0.22|<.0001           |\n",
      "|Spanish (30)    |-0.53 (0.07)  |          -7.41|       -0.23|<.0001           |\n",
      "|Swedish (16)    |-0.64 (0.09)  |          -6.97|       -0.28|<.0001           |\n",
      "|Tseltal (10)    |-0.83 (0.13)  |          -6.43|       -0.30|<.0001           |\n"
     ]
    }
   ],
   "source": [
    "%%R\n",
    "\n",
    "table_maker = function(data) { data %>%\n",
    "    select(Language_name, n, estimate, SE, statistic, effect.size, p.value) %>%\n",
    "    `colnames<-`(c(\"Language\", \"n\", \"Estimate\", \"SE\", \"Test statistic\", \"Effect size\", \"Adjusted p-value\")) %>%\n",
    "    mutate_at(vars(-c(`Adjusted p-value`,Language)), round,2) %>%\n",
    "    mutate(`Adjusted p-value` = format(round(`Adjusted p-value`,4),nsmall=4)) %>%\n",
    "    mutate(`Adjusted p-value` = gsub(\"0.0000\",\"<.0001\",`Adjusted p-value`)) %>%\n",
    "    unite(\"Estimate (SE)\", c('Estimate','SE'), sep=\" (\") %>%\n",
    "    mutate(`Estimate (SE)` = paste0(`Estimate (SE)`,\")\")) %>%\n",
    "    unite(\"Language (n)\", c('Language','n'), sep=\" (\") %>%\n",
    "    mutate(`Language (n)` = paste0(`Language (n)`,\")\")) %>%\n",
    "    arrange(`Language (n)`)\n",
    "    }\n",
    "\n",
    "MLU_stats_table <- table_maker(emms_all)\n",
    "\n",
    "kable(MLU_stats_table, \"pipe\")"
   ]
  },
  {
   "cell_type": "code",
   "execution_count": 23,
   "id": "1e496357",
   "metadata": {},
   "outputs": [
    {
     "name": "stdout",
     "output_type": "stream",
     "text": [
      "Adding missing grouping variables: `Language_name`\n"
     ]
    }
   ],
   "source": [
    "%%R \n",
    "\n",
    "# create clean language column\n",
    "\n",
    "MLU_stats_table <- MLU_stats_table %>%\n",
    "  mutate(Clean_Language = str_extract(`Language (n)`, \"^[^\\\\(]+\"))\n",
    "\n",
    "# extract effect size CI\n",
    "\n",
    "CIs <- emms_all %>% \n",
    "    select(`lower.CL`,`upper.CL`) %>%\n",
    "    `colnames<-`(c(\"Clean_Language\", \"CI+\", \"CI-\")) %>%\n",
    "    arrange(Clean_Language)\n",
    "\n",
    "# add columns sample and measure and save\n",
    "\n",
    "MLU_stats_table %>%\n",
    "    mutate(`CI+` = CIs$`CI+`,\n",
    "           `CI-` = CIs$`CI-`,\n",
    "           sample = \"rand\",\n",
    "           measure = \"mlu\") %>%\n",
    "    write.csv(file = \"../data/rand_mlu_stats.csv\")"
   ]
  },
  {
   "cell_type": "code",
   "execution_count": 24,
   "id": "63ad0158",
   "metadata": {},
   "outputs": [
    {
     "name": "stdout",
     "output_type": "stream",
     "text": [
      "\n",
      "\n",
      "|Language_name |sign_cat |   n|      prop|\n",
      "|:-------------|:--------|---:|---------:|\n",
      "|Croatian      |+        |  39| 0.6724138|\n",
      "|English       |+        | 652| 0.7392290|\n",
      "|Estonian      |+        |  21| 0.9545455|\n",
      "|French        |+        | 194| 0.6953405|\n",
      "|German        |+        |  33| 0.8684211|\n",
      "|Japanese      |+        | 151| 0.9437500|\n",
      "|Korean        |+        |  27| 0.9642857|\n",
      "|Norwegian     |+        |  21| 0.7500000|\n",
      "|Persian       |+        |  10| 0.8333333|\n",
      "|Portuguese    |+        |  18| 0.7826087|\n",
      "|Spanish       |+        |  26| 0.8666667|\n",
      "|Swedish       |+        |  16| 1.0000000|\n",
      "|Tseltal       |+        |   9| 0.9000000|\n"
     ]
    }
   ],
   "source": [
    "%%R \n",
    "\n",
    "# ---- Sign test per language\n",
    "\n",
    "rand_mlu_stats_wide <- rand_mlu_sumstats %>%\n",
    "  spread(key = contingent, value = means) %>%\n",
    "  mutate(diff = `non-contingent` - contingent,\n",
    "         sign_cat = case_when(\n",
    "           diff > 0 ~ \"+\",\n",
    "           diff < 0 ~ \"-\",\n",
    "           TRUE ~ \"0\")) %>%\n",
    "  group_by(Language_name) %>%\n",
    "  count(sign_cat) %>%\n",
    "  mutate(prop = n / sum(n)) %>%\n",
    "  filter(sign_cat == \"+\")\n",
    "\n",
    "rand_mlu_stats_wide %>%\n",
    "  mutate(measure = \"Mean Length of Utterance in Words\") %>%\n",
    "  write.csv(file = \"../data/rand_mlu_signtest.csv\")\n",
    "  \n",
    "kbl(rand_mlu_stats_wide,\"pipe\")"
   ]
  },
  {
   "cell_type": "code",
   "execution_count": 25,
   "id": "bd68c4be",
   "metadata": {},
   "outputs": [
    {
     "name": "stdout",
     "output_type": "stream",
     "text": [
      "# A tibble: 13 × 5\n",
      "   Language_name successes trials test_result `Adjusted p-value`\n",
      "   <chr>             <dbl>  <int> <list>      <chr>             \n",
      " 1 Croatian             39     58 <htest>     0.0531            \n",
      " 2 English             652    858 <htest>     <.0001            \n",
      " 3 Estonian             21     22 <htest>     0.0001            \n",
      " 4 French              194    275 <htest>     <.0001            \n",
      " 5 German               33     38 <htest>     <.0001            \n",
      " 6 Japanese            151    160 <htest>     <.0001            \n",
      " 7 Korean               27     28 <htest>     <.0001            \n",
      " 8 Norwegian            21     27 <htest>     0.0355            \n",
      " 9 Persian              10     12 <htest>     0.0771            \n",
      "10 Portuguese           18     23 <htest>     0.0531            \n",
      "11 Spanish              26     30 <htest>     0.0004            \n",
      "12 Swedish              16     16 <htest>     0.0002            \n",
      "13 Tseltal               9     10 <htest>     0.0645            \n"
     ]
    }
   ],
   "source": [
    "%%R \n",
    "\n",
    "sign_tests <- rand_mlu_sumstats %>%\n",
    "  spread(key = contingent, value = means) %>%\n",
    "  filter(!is.na(contingent) & !is.na(`non-contingent`)) %>%\n",
    "  mutate(diff = `non-contingent` - contingent,\n",
    "         success = if_else(diff > 0, 1, 0)) %>%\n",
    "  group_by(Language_name) %>%\n",
    "  summarize(successes = sum(success),\n",
    "            trials = n(),\n",
    "            .groups = 'drop')\n",
    "\n",
    "# Nest the data and run binom.test\n",
    "sign_tests %>%\n",
    "  mutate(\n",
    "    test_result = purrr::map2(successes, trials, ~binom.test(x = .x, n = .y)),\n",
    "    `Adjusted p-value` = map_dbl(test_result, 'p.value'),\n",
    "    `Adjusted p-value` = p.adjust(`Adjusted p-value`, \"holm\", 14),\n",
    "    `Adjusted p-value` = format(round(`Adjusted p-value`,4),nsmall=4),\n",
    "    `Adjusted p-value` = gsub(\"0.0000\",\"<.0001\",`Adjusted p-value`)\n",
    "  )"
   ]
  },
  {
   "cell_type": "markdown",
   "id": "875f12db",
   "metadata": {},
   "source": [
    "By play context"
   ]
  },
  {
   "cell_type": "code",
   "execution_count": 26,
   "id": "0a59fd5d",
   "metadata": {},
   "outputs": [],
   "source": [
    "rand_mlu_sumstats_contex = (rand_dat_inc_cg.groupby([\"context\",\"target_child_id\",\"transcript_id\",\"contingent\"])\n",
    "                                  .num_tokens\n",
    "                                  .agg([\"mean\"])\n",
    "                                  .reset_index())\n",
    "\n",
    "rand_mlu_sumstats_contex =  rand_mlu_sumstats_contex.rename({'mean': 'means'}, axis=1)"
   ]
  },
  {
   "cell_type": "code",
   "execution_count": 31,
   "id": "e11cab4b",
   "metadata": {},
   "outputs": [
    {
     "name": "stdout",
     "output_type": "stream",
     "text": [
      "Joining with `by = join_by(context)`\n"
     ]
    },
    {
     "data": {
      "text/plain": [
       "In addition: Warning message:\n",
       "`cols` is now required when using `unnest()`.\n",
       "ℹ Please use `cols = c(effect_size)`. \n"
      ]
     },
     "metadata": {},
     "output_type": "display_data"
    }
   ],
   "source": [
    "%%R -i rand_mlu_sumstats_contex\n",
    "\n",
    "emm_options(pbkrtest.limit = 96789)\n",
    "\n",
    "# vectors for rows to remove from lmer\n",
    "single_tran <- c(\"Home: interview/unstructured\") # only 1 transcript\n",
    "\n",
    "contex_sample_size <- rand_mlu_sumstats_contex %>%\n",
    "    group_by(context) %>%\n",
    "    summarize(n = n_distinct(transcript_id))\n",
    "\n",
    "mlu_contex_nest_1 <- rand_dat_inc_cg %>%\n",
    "    filter(!context %in% single_tran) %>%\n",
    "    group_by(context) %>%\n",
    "    nest() %>%\n",
    "    mutate(fit = map(data, ~ lmer(num_tokens ~ contingent +\n",
    "                                (1|transcript_id),\n",
    "                                data = .,\n",
    "                                REML= FALSE)),\n",
    "           summary = map(fit, ~ emmeans(., \"contingent\")),\n",
    "           contrasts = map(summary, ~ summary(contrast(., method = \"pairwise\"))),\n",
    "           effect_size = map2(summary, fit, ~ eff_size(.x, sigma = sigma(.y), edf = df.residual(.y)))) %>%\n",
    "    select(context, contrasts, effect_size) %>%\n",
    "    unnest(cols = c(contrasts)) %>%\n",
    "    mutate(effect_size = map(effect_size, ~ summary(.))) %>%\n",
    "    unnest() %>%\n",
    "    mutate(statistic = coalesce(`t.ratio`), .before = p.value) %>%\n",
    "    select (-c(`t.ratio`))\n",
    "\n",
    "mlu_contex_nest_2 <- rand_dat_inc_cg %>%\n",
    "    filter(context %in% single_tran) %>%\n",
    "    group_by(context) %>%\n",
    "    nest() %>%\n",
    "    mutate(fit = map(data, ~ lm(num_tokens ~ contingent,\n",
    "                                data = .,\n",
    "                                REML= FALSE)),\n",
    "           summary = map(fit, ~ emmeans(., \"contingent\")),\n",
    "           contrasts = map(summary, ~ summary(contrast(., method = \"pairwise\")))) %>%\n",
    "    select(context, contrasts) %>%\n",
    "    unnest(cols = c(contrasts))\n",
    "\n",
    "\n",
    "# combine lmer summaries and correct p-values for multiple comparisons\n",
    "context_emms_all <- list(mlu_contex_nest_1, mlu_contex_nest_2) %>% \n",
    "    reduce(bind_rows) %>%\n",
    "    mutate(p.value = p.adjust(p.value, \"holm\", 7)) %>%\n",
    "    left_join(contex_sample_size)"
   ]
  },
  {
   "cell_type": "code",
   "execution_count": 32,
   "id": "ce86b18f",
   "metadata": {},
   "outputs": [
    {
     "name": "stdout",
     "output_type": "stream",
     "text": [
      "\n",
      "\n",
      "|Play context (n)                  |Estimate (SE) | Test statistic| Effect size|Adjusted p-value |\n",
      "|:---------------------------------|:-------------|--------------:|-----------:|:----------------|\n",
      "|Home: book reading (28)           |-0.46 (0.07)  |          -6.67|       -0.22|<.0001           |\n",
      "|Home: other (20)                  |-0.54 (0.11)  |          -4.98|       -0.26|<.0001           |\n",
      "|Home: unreported (12)             |-0.41 (0.1)   |          -4.27|       -0.18|0.0001           |\n",
      "|Home: unstructured (900)          |-0.72 (0.02)  |         -32.14|       -0.24|<.0001           |\n",
      "|Lab: interview/unstructured (368) |-0.41 (0.05)  |          -8.18|       -0.15|<.0001           |\n",
      "|Lab: unstructured (26)            |-0.08 (0.08)  |          -1.01|       -0.04|1.0000           |\n",
      "|Other: unstructured (138)         |-0.85 (0.05)  |         -17.04|       -0.31|<.0001           |\n",
      "|Unreported (94)                   |-0.36 (0.04)  |          -9.26|       -0.21|<.0001           |\n"
     ]
    }
   ],
   "source": [
    "%%R\n",
    "\n",
    "table_maker = function(data) { data %>%\n",
    "    select(context, n, estimate, SE, statistic, effect.size, p.value) %>%\n",
    "    `colnames<-`(c(\"Play context\", \"n\", \"Estimate\", \"SE\", \"Test statistic\", \"Effect size\", \"Adjusted p-value\")) %>%\n",
    "    mutate_at(vars(-c(`Adjusted p-value`,`Play context`)), round,2) %>%\n",
    "    mutate(`Adjusted p-value` = format(round(`Adjusted p-value`,4),nsmall=4)) %>%\n",
    "    mutate(`Adjusted p-value` = gsub(\"0.0000\",\"<.0001\",`Adjusted p-value`)) %>%\n",
    "    unite(\"Estimate (SE)\", c('Estimate','SE'), sep=\" (\") %>%\n",
    "    mutate(`Estimate (SE)` = paste0(`Estimate (SE)`,\")\")) %>%\n",
    "    unite(\"Play context (n)\", c(`Play context`,'n'), sep=\" (\") %>%\n",
    "    mutate(`Play context (n)` = paste0(`Play context (n)`,\")\")) %>%\n",
    "    arrange(`Play context (n)`)\n",
    "    }\n",
    "\n",
    "mlu_context_stats_table <- table_maker(context_emms_all)\n",
    "\n",
    "kable(mlu_context_stats_table, \"pipe\")"
   ]
  },
  {
   "cell_type": "code",
   "execution_count": null,
   "id": "cd0956f4",
   "metadata": {},
   "outputs": [],
   "source": []
  }
 ],
 "metadata": {
  "kernelspec": {
   "display_name": "Python 3.10.7 64-bit",
   "language": "python",
   "name": "python3"
  },
  "language_info": {
   "codemirror_mode": {
    "name": "ipython",
    "version": 3
   },
   "file_extension": ".py",
   "mimetype": "text/x-python",
   "name": "python",
   "nbconvert_exporter": "python",
   "pygments_lexer": "ipython3",
   "version": "3.11.9"
  },
  "vscode": {
   "interpreter": {
    "hash": "aee8b7b246df8f9039afb4144a1f6fd8d2ca17a180786b69acc140d282b71a49"
   }
  }
 },
 "nbformat": 4,
 "nbformat_minor": 5
}
