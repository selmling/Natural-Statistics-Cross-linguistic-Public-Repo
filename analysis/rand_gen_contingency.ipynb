{
 "cells": [
  {
   "cell_type": "markdown",
   "metadata": {},
   "source": [
    "# Natural Statistics Cross-linguistic\n",
    "\n",
    "Random samples contingency variable generation."
   ]
  },
  {
   "cell_type": "code",
   "execution_count": 1,
   "metadata": {},
   "outputs": [],
   "source": [
    "import pandas as pd\n",
    "import numpy as np\n",
    "import sys\n",
    "sys.path.insert(0, \"data_proc\")\n",
    "import contingent_extraction\n",
    "import warnings\n",
    "warnings.filterwarnings('ignore')"
   ]
  },
  {
   "cell_type": "code",
   "execution_count": 2,
   "metadata": {
    "tags": []
   },
   "outputs": [],
   "source": [
    "# import extracted data\n",
    "rand_dat = pd.read_csv(\"../data/rand_dat.csv\",index_col=0, low_memory=False)"
   ]
  },
  {
   "cell_type": "code",
   "execution_count": 3,
   "metadata": {},
   "outputs": [],
   "source": [
    "# inspect data:\n",
    "# rand_dat.head()"
   ]
  },
  {
   "cell_type": "markdown",
   "metadata": {},
   "source": [
    "----\n",
    "\n",
    "#### How many languages are we analyzing?"
   ]
  },
  {
   "cell_type": "code",
   "execution_count": 4,
   "metadata": {},
   "outputs": [
    {
     "data": {
      "text/plain": [
       "18"
      ]
     },
     "execution_count": 4,
     "metadata": {},
     "output_type": "execute_result"
    }
   ],
   "source": [
    "rand_dat[\"language\"].unique() # list of all langauges across corpora\n",
    "int_rand_dat = rand_dat[~rand_dat[\"language\"].str.contains(\"eng\")]\n",
    "int_rand_dat[\"language\"].unique() # list of all languages that don't contain `eng` in language name\n",
    "len(int_rand_dat[\"language\"].unique()) # language count"
   ]
  },
  {
   "cell_type": "markdown",
   "metadata": {},
   "source": [
    "15 languages + 1 (`eng`) - 1 (`por swe`). Thus, **15 langauges**! `por swe` (Portugese and Swedish) is removed because we will only analyze monolingual corpora first."
   ]
  },
  {
   "cell_type": "markdown",
   "metadata": {},
   "source": [
    "----\n",
    "\n",
    "#### How many participants are we analyzing?\n",
    "\n",
    "Get only monolingual corpora to finalize rand_dat dataframe."
   ]
  },
  {
   "cell_type": "code",
   "execution_count": 5,
   "metadata": {},
   "outputs": [],
   "source": [
    "eng_rand_dat = rand_dat[rand_dat[\"language\"]==\"eng\"] # only english\n",
    "rand_dat_inc = pd.concat([eng_rand_dat, int_rand_dat]) # english and non-english\n",
    "rand_dat_inc = rand_dat_inc[rand_dat_inc[\"language\"]!= \"por swe\"]# exclude bilingual (por swe)"
   ]
  },
  {
   "cell_type": "code",
   "execution_count": 6,
   "metadata": {},
   "outputs": [],
   "source": [
    "rand_dat_inc=rand_dat_inc[rand_dat_inc[\"language\"]!=\"ara\"]\n",
    "rand_dat_inc=rand_dat_inc[(rand_dat_inc[\"target_child_age\"]>=5) & (rand_dat_inc[\"target_child_age\"]<=30)]# exclude under 5- and over 30-month-olds"
   ]
  },
  {
   "attachments": {},
   "cell_type": "markdown",
   "id": "0b43a042",
   "metadata": {},
   "source": [
    "----\n",
    "#### Transcript cleanse"
   ]
  },
  {
   "cell_type": "code",
   "execution_count": 7,
   "id": "5b354f35",
   "metadata": {},
   "outputs": [],
   "source": [
    "#\n",
    "# create 'caregiver' column\n",
    "#\n",
    "# add to this to include more speakers in \"caregiver\" category\n",
    "#\n",
    "\n",
    "conditions = [\n",
    "    (rand_dat_inc[\"speaker_role\"]==\"Mother\") | (rand_dat_inc[\"speaker_role\"]==\"Father\"),\n",
    "    (rand_dat_inc[\"speaker_role\"]==\"Target_Child\")]\n",
    "\n",
    "choices = ['caregiver', 'target_child']\n",
    "\n",
    "rand_dat_inc['caregiver'] = np.select(conditions, choices, default='other')\n",
    "\n",
    "# drop utterances where transcript = NaN\n",
    "rand_dat_inc = rand_dat_inc.drop(rand_dat_inc[(rand_dat_inc['caregiver'] == 'caregiver') &\n",
    "                                              (rand_dat_inc['gloss'].isna())].index)"
   ]
  },
  {
   "cell_type": "code",
   "execution_count": 8,
   "id": "07ba3af5",
   "metadata": {},
   "outputs": [],
   "source": [
    "# create language_name column\n",
    "\n",
    "language_labels = pd.read_csv(\"../data/language_labels.csv\")\n",
    "\n",
    "language_labels=language_labels.rename(columns={\"Language\":\"language\"})\n",
    "\n",
    "rand_dat_inc=rand_dat_inc.merge(language_labels,on='language',how=\"right\")\n"
   ]
  },
  {
   "cell_type": "code",
   "execution_count": 9,
   "id": "f4bda707",
   "metadata": {},
   "outputs": [],
   "source": [
    "# how many caregiver utterances per caregiver\n",
    "cg_utt_counts = rand_dat_inc.groupby(['Language_name','transcript_id','caregiver']).size().unstack(fill_value=0).reset_index()\n",
    "\n",
    "# how many transcripts with less than 5 caregiver utterances\n",
    "cg_utt_counts = cg_utt_counts[cg_utt_counts['caregiver'] < 5]\n",
    "# inspect data:\n",
    "# print(cg_utt_counts.to_markdown())"
   ]
  },
  {
   "cell_type": "code",
   "execution_count": 10,
   "id": "5dcad740",
   "metadata": {},
   "outputs": [],
   "source": [
    "# drop transcripts with less than 5 caregiver utterances\n",
    "cg_excluders = list(cg_utt_counts[\"transcript_id\"])\n",
    "\n",
    "rand_dat_inc = rand_dat_inc[~rand_dat_inc['transcript_id'].isin(cg_excluders)]"
   ]
  },
  {
   "cell_type": "code",
   "execution_count": 11,
   "id": "a91d45e9",
   "metadata": {},
   "outputs": [],
   "source": [
    "# how many target child utterances per transcript\n",
    "tc_utt_counts = rand_dat_inc.groupby(['Language_name','transcript_id','caregiver']).size().unstack(fill_value=0).reset_index()\n",
    "tc_utt_counts = tc_utt_counts[tc_utt_counts['target_child'] < 5]\n",
    "# inspect data:\n",
    "# print(tc_utt_counts.to_markdown())"
   ]
  },
  {
   "cell_type": "code",
   "execution_count": 12,
   "id": "b4945c00",
   "metadata": {},
   "outputs": [],
   "source": [
    "# drop transcripts with less than 5 target child utterances\n",
    "tc_excluders = list(tc_utt_counts[\"transcript_id\"])\n",
    "\n",
    "rand_dat_inc = rand_dat_inc[~rand_dat_inc['transcript_id'].isin(tc_excluders)]"
   ]
  },
  {
   "cell_type": "code",
   "execution_count": 13,
   "metadata": {
    "tags": []
   },
   "outputs": [
    {
     "name": "stdout",
     "output_type": "stream",
     "text": [
      "There are 14 different monolingual languages in this dataset.\n",
      "There are 436 infants in this dataset.\n",
      "There are 1578 different transcripts in this dataset\n"
     ]
    }
   ],
   "source": [
    "print(\"There are\", \n",
    "      len(rand_dat_inc[\"language\"].unique()),\n",
    "      \"different monolingual languages in this dataset.\")\n",
    "\n",
    "print(\"There are\",\n",
    "      len(rand_dat_inc[\"target_child_id\"].unique()),\n",
    "      \"infants in this dataset.\")\n",
    "\n",
    "print(\"There are\",\n",
    "      len(rand_dat_inc[\"transcript_id\"].unique()),\n",
    "      \"different transcripts in this dataset\")"
   ]
  },
  {
   "cell_type": "code",
   "execution_count": 14,
   "metadata": {
    "tags": []
   },
   "outputs": [],
   "source": [
    "# how many children per language\n",
    "child_counts = rand_dat_inc.groupby(['language','target_child_id']).nunique()\n",
    "count_table = child_counts.groupby(['language']).size().to_frame('count').reset_index()\n",
    "# inspect data:\n",
    "# print(count_table.to_markdown())"
   ]
  },
  {
   "cell_type": "code",
   "execution_count": 15,
   "metadata": {
    "tags": []
   },
   "outputs": [
    {
     "name": "stdout",
     "output_type": "stream",
     "text": [
      "|    | Language_name   |   count |\n",
      "|---:|:----------------|--------:|\n",
      "|  0 | Croatian        |      58 |\n",
      "|  1 | English         |     882 |\n",
      "|  2 | Estonian        |      22 |\n",
      "|  3 | French          |     279 |\n",
      "|  4 | German          |      38 |\n",
      "|  5 | Japanese        |     160 |\n",
      "|  6 | Korean          |      28 |\n",
      "|  7 | Mandarin        |       2 |\n",
      "|  8 | Norwegian       |      28 |\n",
      "|  9 | Persian         |      11 |\n",
      "| 10 | Polish          |       1 |\n",
      "| 11 | Portuguese      |      23 |\n",
      "| 12 | Spanish         |      30 |\n",
      "| 13 | Swedish         |      16 |\n"
     ]
    }
   ],
   "source": [
    "# how many transcripts per language\n",
    "transcript_counts = rand_dat_inc.groupby(['Language_name','transcript_id']).nunique()\n",
    "count_table = transcript_counts.groupby(['Language_name']).size().to_frame('count').reset_index()\n",
    "print(count_table.to_markdown())"
   ]
  },
  {
   "cell_type": "code",
   "execution_count": 16,
   "metadata": {
    "tags": []
   },
   "outputs": [],
   "source": [
    "# how many transcripts per language\n",
    "transcript_x_child_counts = rand_dat_inc.groupby(['language','transcript_id','target_child_id']).nunique()\n",
    "transcript_x_child_count_table = transcript_x_child_counts.groupby(['language','target_child_id']).size().to_frame('count').reset_index()\n",
    "# inspect data:\n",
    "# print(transcript_x_child_count_table.to_markdown())"
   ]
  },
  {
   "cell_type": "code",
   "execution_count": 17,
   "id": "eff354e3",
   "metadata": {
    "tags": []
   },
   "outputs": [
    {
     "name": "stdout",
     "output_type": "stream",
     "text": [
      "|    | 0            |\n",
      "|---:|:-------------|\n",
      "|  0 | Leo          |\n",
      "|  1 | Rigol        |\n",
      "|  2 | Peters       |\n",
      "|  3 | Rollins      |\n",
      "|  4 | Bloom        |\n",
      "|  5 | Brent        |\n",
      "|  6 | Nelson       |\n",
      "|  7 | Braunwald    |\n",
      "|  8 | Soderstrom   |\n",
      "|  9 | Sachs        |\n",
      "| 10 | McCune       |\n",
      "| 11 | NewmanRatner |\n",
      "| 12 | MacWhinney   |\n",
      "| 13 | Providence   |\n",
      "| 14 | Argus        |\n",
      "| 15 | Zupping      |\n",
      "| 16 | Family       |\n",
      "| 17 | York         |\n",
      "| 18 | Lyon         |\n",
      "| 19 | Yamaguchi    |\n",
      "| 20 | Paris        |\n",
      "| 21 | Hunkeler     |\n",
      "| 22 | Kovacevic    |\n",
      "| 23 | Ishii        |\n",
      "| 24 | MiiPro       |\n",
      "| 25 | Miyata       |\n",
      "| 26 | Ryu          |\n",
      "| 27 | Garmann      |\n",
      "| 28 | WeistJarosz  |\n",
      "| 29 | Santos       |\n",
      "| 30 | Nieva        |\n",
      "| 31 | Remedi       |\n",
      "| 32 | Lund         |\n",
      "| 33 | Andren       |\n",
      "| 34 | Tong         |\n"
     ]
    }
   ],
   "source": [
    "# how many corpora\n",
    "corpora = pd.DataFrame(rand_dat_inc[\"corpus_name\"].unique())\n",
    "# inspect data:\n",
    "print(corpora.to_markdown())"
   ]
  },
  {
   "cell_type": "code",
   "execution_count": 18,
   "id": "88e90309",
   "metadata": {
    "tags": []
   },
   "outputs": [
    {
     "name": "stdout",
     "output_type": "stream",
     "text": [
      "|    | Language_name   | corpus_name   |\n",
      "|---:|:----------------|:--------------|\n",
      "|  0 | Croatian        | Kovacevic     |\n",
      "|  1 | English         | Bloom         |\n",
      "|  2 | English         | Braunwald     |\n",
      "|  3 | English         | Brent         |\n",
      "|  4 | English         | MacWhinney    |\n",
      "|  5 | English         | McCune        |\n",
      "|  6 | English         | Nelson        |\n",
      "|  7 | English         | NewmanRatner  |\n",
      "|  8 | English         | Peters        |\n",
      "|  9 | English         | Providence    |\n",
      "| 10 | English         | Rollins       |\n",
      "| 11 | English         | Sachs         |\n",
      "| 12 | English         | Soderstrom    |\n",
      "| 13 | Estonian        | Argus         |\n",
      "| 14 | Estonian        | Zupping       |\n",
      "| 15 | French          | Hunkeler      |\n",
      "| 16 | French          | Lyon          |\n",
      "| 17 | French          | Paris         |\n",
      "| 18 | French          | Yamaguchi     |\n",
      "| 19 | French          | York          |\n",
      "| 20 | German          | Leo           |\n",
      "| 21 | German          | Rigol         |\n",
      "| 22 | Japanese        | Ishii         |\n",
      "| 23 | Japanese        | MiiPro        |\n",
      "| 24 | Japanese        | Miyata        |\n",
      "| 25 | Korean          | Ryu           |\n",
      "| 26 | Mandarin        | Tong          |\n",
      "| 27 | Norwegian       | Garmann       |\n",
      "| 28 | Persian         | Family        |\n",
      "| 29 | Polish          | WeistJarosz   |\n",
      "| 30 | Portuguese      | Santos        |\n",
      "| 31 | Spanish         | Nieva         |\n",
      "| 32 | Spanish         | Remedi        |\n",
      "| 33 | Swedish         | Andren        |\n",
      "| 34 | Swedish         | Lund          |\n"
     ]
    }
   ],
   "source": [
    "# how many corpora with language names\n",
    "\n",
    "corpora_langs = rand_dat_inc.groupby(['Language_name','corpus_name']).agg(['unique']).reset_index()\n",
    "corpora_langs = corpora_langs.iloc[:, 0:2]\n",
    "corpora_langs.columns.values[0] = \"Language_name\"\n",
    "corpora_langs.columns.values[1] = \"corpus_name\"\n",
    "# inspect data:\n",
    "print(corpora_langs.to_markdown())"
   ]
  },
  {
   "attachments": {},
   "cell_type": "markdown",
   "id": "cdcf0d74",
   "metadata": {},
   "source": [
    "----\n",
    "\n",
    "#### How old are the children?"
   ]
  },
  {
   "cell_type": "code",
   "execution_count": 19,
   "metadata": {
    "tags": []
   },
   "outputs": [
    {
     "data": {
      "text/plain": [
       "<Axes: >"
      ]
     },
     "execution_count": 19,
     "metadata": {},
     "output_type": "execute_result"
    },
    {
     "data": {
      "image/png": "[encoded data removed]",
      "text/plain": [
       "<Figure size 640x480 with 1 Axes>"
      ]
     },
     "metadata": {},
     "output_type": "display_data"
    }
   ],
   "source": [
    "# distribution of age groups\n",
    "ages = rand_dat_inc['target_child_age']\n",
    "# inspect data:\n",
    "ages.hist()"
   ]
  },
  {
   "cell_type": "code",
   "execution_count": 20,
   "id": "d9576b76",
   "metadata": {
    "tags": []
   },
   "outputs": [],
   "source": [
    "age_counts = rand_dat_inc.groupby(['language','transcript_id','target_child_age']).nunique()\n",
    "age_counts = age_counts.iloc[:, 0:2].reset_index()\n",
    "age_counts['target_child_age'].mean()\n",
    "\n",
    "age_counts=age_counts.merge(language_labels,on='language',how=\"right\")"
   ]
  },
  {
   "cell_type": "code",
   "execution_count": 21,
   "id": "a7e0f6af",
   "metadata": {},
   "outputs": [
    {
     "data": {
      "text/plain": [
       "array(['Target_Child', 'Mother', 'Relative', 'Father', 'Investigator',\n",
       "       'Brother', 'Media', 'Visitor', 'Playmate', 'Friend', 'Grandmother',\n",
       "       'Teenager', 'Unidentified', 'Sister', 'Adult', 'Environment',\n",
       "       'Grandfather', 'Caretaker', 'Boy', 'Child', 'Girl', 'Target_Adult'],\n",
       "      dtype=object)"
      ]
     },
     "execution_count": 21,
     "metadata": {},
     "output_type": "execute_result"
    }
   ],
   "source": [
    "# what are the speaker roles in the transcripts? (pre cleaning)\n",
    "# inspect data:\n",
    "rand_dat_inc[\"speaker_role\"].unique()"
   ]
  },
  {
   "cell_type": "code",
   "execution_count": 22,
   "metadata": {},
   "outputs": [],
   "source": [
    "# create target child speech only dataframe\n",
    "child_dat = rand_dat_inc[rand_dat_inc[\"speaker_role\"]==\"Target_Child\"]\n",
    "\n",
    "# save only the target child speech to file\n",
    "child_dat.to_csv(\"../data/child_dat.csv\")"
   ]
  },
  {
   "cell_type": "markdown",
   "metadata": {
    "tags": []
   },
   "source": [
    "----\n",
    "#### Geographic distribution\n",
    "\n",
    "Data for Figure 1"
   ]
  },
  {
   "cell_type": "code",
   "execution_count": 23,
   "metadata": {
    "tags": []
   },
   "outputs": [],
   "source": [
    "geo_dat = pd.read_csv(\"../data/langs_and_countries.csv\",index_col=0)"
   ]
  },
  {
   "cell_type": "code",
   "execution_count": 24,
   "metadata": {
    "tags": []
   },
   "outputs": [],
   "source": [
    "# create language name column\n",
    "\n",
    "geo_dat=geo_dat.rename(columns={\"Language\":\"language\"})\n",
    "\n",
    "geo_dat=geo_dat.merge(language_labels,on='language',how=\"right\")"
   ]
  },
  {
   "cell_type": "code",
   "execution_count": 25,
   "metadata": {
    "tags": []
   },
   "outputs": [],
   "source": [
    "%load_ext rpy2.ipython"
   ]
  },
  {
   "cell_type": "code",
   "execution_count": 26,
   "metadata": {},
   "outputs": [
    {
     "data": {
      "text/plain": [
       "── Attaching packages ─────────────────────────────────────── tidyverse 1.3.1 ──\n",
       "✔ ggplot2 3.4.2     ✔ purrr   1.0.1\n",
       "✔ tibble  3.2.1     ✔ dplyr   1.1.2\n",
       "✔ tidyr   1.3.0     ✔ stringr 1.5.0\n",
       "✔ readr   2.1.4     ✔ forcats 1.0.0\n",
       "── Conflicts ────────────────────────────────────────── tidyverse_conflicts() ──\n",
       "✖ dplyr::filter() masks stats::filter()\n",
       "✖ dplyr::lag()    masks stats::lag()\n"
      ]
     },
     "metadata": {},
     "output_type": "display_data"
    }
   ],
   "source": [
    "%%R \n",
    "\n",
    "library(\"tidyverse\")\n",
    "library(\"cowplot\")\n",
    "library(\"repr\")\n",
    "\n",
    "theme_black = function(base_size = 11, base_family = \"\") {\n",
    " \n",
    "  theme_grey(base_size = base_size, base_family = base_family) %+replace%\n",
    " \n",
    "    theme(\n",
    "      # Specify axis options\n",
    "      axis.line = element_line(colour = \"white\"),  \n",
    "      axis.text.x = element_text(color = \"white\",margin = margin(2, 2, 2, 2),size=8),  \n",
    "      axis.text.y = element_text(color = \"white\",hjust=1,margin = margin(2, 2, 2, 2)),  \n",
    "      axis.ticks = element_line(color = \"white\"),  \n",
    "      axis.title.x = element_text(size = base_size, color = \"white\"),  \n",
    "      axis.title.y = element_text(size = base_size, color = \"white\", angle = 90,margin = margin(0, 10, 0, 0)),  \n",
    "      # Specify legend options\n",
    "      legend.background = element_rect(color = NA, fill = \"black\"),  \n",
    "      legend.key = element_rect(color = \"white\",  fill = \"black\"),  \n",
    "      legend.key.size = unit(1.2, \"lines\"),  \n",
    "      legend.key.height = NULL,  \n",
    "      legend.key.width = NULL,      \n",
    "      legend.text = element_text(size = base_size*0.8, color = \"white\"),  \n",
    "      legend.title = element_text(size = base_size*0.8, face = \"bold\", hjust = 0, color = \"white\"),  \n",
    "      legend.position = \"right\",  \n",
    "      legend.text.align = NULL,  \n",
    "      legend.title.align = NULL,  \n",
    "      legend.direction = \"vertical\",  \n",
    "      legend.box = NULL, \n",
    "      # Specify panel options\n",
    "      panel.background = element_blank(),  \n",
    "      panel.border = element_blank(),  \n",
    "      panel.grid.major = element_blank(),  \n",
    "      panel.grid.minor = element_blank(),  \n",
    "#       panel.margin = unit(0.5, \"lines\"),   \n",
    "      # Specify facetting options\n",
    "      strip.background = element_rect(fill = \"black\", color = \"white\"),  \n",
    "      strip.text.x = element_text( color = \"white\"),  \n",
    "      strip.text.y = element_text(size = base_size*0.8, color = \"white\",angle = -90),  \n",
    "      # Specify plot options\n",
    "      plot.background = element_rect(color = \"black\", fill = \"black\"),  \n",
    "      plot.title = element_text(size = base_size, color = \"white\"),  \n",
    "      plot.margin = unit(rep(1, 4), \"lines\")\n",
    " \n",
    "    )\n",
    " \n",
    "}"
   ]
  },
  {
   "cell_type": "code",
   "execution_count": 27,
   "metadata": {
    "tags": []
   },
   "outputs": [
    {
     "data": {
      "text/plain": [
       "In addition: Warning messages:\n",
       "1: The `size` argument of `element_rect()` is deprecated as of ggplot2 3.4.0.\n",
       "ℹ Please use the `linewidth` argument instead.\n",
       "This warning is displayed once every 8 hours.\n",
       "Call `lifecycle::last_lifecycle_warnings()` to see where this warning was\n",
       "generated. \n",
       "2: Removed 1 rows containing missing values (`geom_point()`). \n"
      ]
     },
     "metadata": {},
     "output_type": "display_data"
    }
   ],
   "source": [
    "%%R -i geo_dat\n",
    "\n",
    "options(repr.plot.width=11.7, repr.plot.height=6.2)\n",
    "\n",
    "geo_dat <- geo_dat %>%\n",
    "    mutate(lang_fam_abbrv = recode(Language_Family,\n",
    "                                   `Indo-European` = \"I-E\",\n",
    "                                   `Uralic` = \"U\",\n",
    "                                   `Japonic` = \"J\",\n",
    "                                   `Koreanic` = \"K\",\n",
    "                                   `Sino-Tibetan` = \"S-T\"),\n",
    "           Language_label = Language_name,\n",
    "           Language_label = paste0(Language_label,\" (\",lang_fam_abbrv,\")\"))\n",
    "\n",
    "mp <- NULL\n",
    "\n",
    "mapWorld <- borders(\"world\",\n",
    "                    colour = \"white\",\n",
    "#                     colour=\"gray50\", # with white background\n",
    "                    fill=\"gray75\") # create a layer of borders\n",
    "\n",
    "mp <- ggplot() + mapWorld\n",
    "\n",
    "mp <- mp +\n",
    "      geom_point(aes(x=geo_dat$longitude, y=geo_dat$latitude,color=geo_dat$Language_label), size=3) +\n",
    "      # theme_black() +\n",
    "      theme_void() +\n",
    "      theme(text = element_text(size=16),\n",
    "            #plot.background = element_rect(fill = \"black\"),\n",
    "            legend.title = element_blank(),\n",
    "            legend.position = c(0.91, 0.55),\n",
    "            legend.background = element_rect(fill=alpha(\"white\",0.90),\n",
    "                                             size=0, linetype=\"dotted\",\n",
    "                                             colour = \"white\"),\n",
    "            legend.text=element_text(size=16,colour=\"black\"))\n",
    "\n",
    "ggsave(\"../figures/geo_dat.pdf\", width = 11.7, height = 6.2,dpi = 1200, scale = 1.2)\n",
    "# ggsave(\"../figures/geo_dat_black.pdf\", width = 11.7, height = 6.2,dpi = 1200)"
   ]
  },
  {
   "attachments": {},
   "cell_type": "markdown",
   "metadata": {},
   "source": [
    "----\n",
    "\n",
    "#### Child age distribution"
   ]
  },
  {
   "cell_type": "code",
   "execution_count": 28,
   "metadata": {
    "tags": []
   },
   "outputs": [],
   "source": [
    "%%R -i age_counts\n",
    "\n",
    "p <- ggplot(data=age_counts, aes(x = target_child_age, fill = Language_name)) +\n",
    "     geom_histogram(binwidth=2.5) +\n",
    "     facet_wrap(. ~ Language_name,ncol = 7) +\n",
    "     theme_classic() + theme(text = element_text(size=16),\n",
    "                             legend.title = element_blank(),\n",
    "                             legend.background = element_rect(fill=alpha(\"white\",0.90),\n",
    "                                                            size=0, linetype=\"dotted\",\n",
    "                                                            colour = \"white\"),\n",
    "                             legend.text=element_text(size=16)) +\n",
    "     labs(x = \"Child age (months)\", y = \"Freq\")\n",
    "    \n",
    "     ggsave(\"../figures/age_hist.pdf\", width = 11.7, height = 6.2)"
   ]
  },
  {
   "cell_type": "code",
   "execution_count": 29,
   "metadata": {},
   "outputs": [],
   "source": [
    "rand_dat_inc_age = rand_dat_inc.groupby(['Language_name','transcript_id','target_child_id','target_child_age']).nunique().reset_index()\n",
    "rand_dat_inc_age = rand_dat_inc_age[['Language_name','transcript_id','target_child_id','target_child_age']]"
   ]
  },
  {
   "cell_type": "code",
   "execution_count": 30,
   "metadata": {
    "tags": []
   },
   "outputs": [
    {
     "name": "stdout",
     "output_type": "stream",
     "text": [
      "# A tibble: 14 × 7\n",
      "   Language_name transcript_id_mean target_child_id_mean target_child_age_mean\n",
      "   <chr>                      <dbl>                <dbl>                 <dbl>\n",
      " 1 Croatian                  29222.               18280.                  23.6\n",
      " 2 English                   16683.                8523.                  17.6\n",
      " 3 Estonian                  20280.               12790.                  23.7\n",
      " 4 French                    45915.               24016.                  21.6\n",
      " 5 German                    31008                19117.                  25.9\n",
      " 6 Japanese                  21770.               13970.                  22.0\n",
      " 7 Korean                    28157.               17372                   21.8\n",
      " 8 Mandarin                  16830.               10061                   21.2\n",
      " 9 Norwegian                 44957.               23625.                  16.9\n",
      "10 Persian                   20942.               13594                   26.8\n",
      "11 Polish                    49733                25298                   22.7\n",
      "12 Portuguese                23252.               14773.                  23.8\n",
      "13 Spanish                   12303.                6093.                  23.6\n",
      "14 Swedish                   11486.                5850.                  22.8\n",
      "# ℹ 3 more variables: transcript_id_std.error <dbl>,\n",
      "#   target_child_id_std.error <dbl>, target_child_age_std.error <dbl>\n"
     ]
    },
    {
     "data": {
      "text/plain": [
       "In addition: Warning message:\n",
       "`funs()` was deprecated in dplyr 0.8.0.\n",
       "ℹ Please use a list of either functions or lambdas:\n",
       "\n",
       "# Simple named list: list(mean = mean, median = median)\n",
       "\n",
       "# Auto named with `tibble::lst()`: tibble::lst(mean, median)\n",
       "\n",
       "# Using lambdas list(~ mean(., trim = .2), ~ median(., na.rm = TRUE))\n",
       "Call `lifecycle::last_lifecycle_warnings()` to see where this warning was\n",
       "generated. \n"
      ]
     },
     "metadata": {},
     "output_type": "display_data"
    }
   ],
   "source": [
    "%%R -i rand_dat_inc_age\n",
    "\n",
    "library('plotrix')\n",
    "library('dplyr')\n",
    "\n",
    "age_summary <- rand_dat_inc_age %>% group_by(Language_name) %>%\n",
    "    summarise_all(funs(mean,std.error))\n",
    "age_summary"
   ]
  },
  {
   "cell_type": "code",
   "execution_count": 31,
   "metadata": {
    "tags": []
   },
   "outputs": [
    {
     "data": {
      "text/plain": [
       "In addition: Warning messages:\n",
       "1: Using `size` aesthetic for lines was deprecated in ggplot2 3.4.0.\n",
       "ℹ Please use `linewidth` instead.\n",
       "This warning is displayed once every 8 hours.\n",
       "Call `lifecycle::last_lifecycle_warnings()` to see where this warning was\n",
       "generated. \n",
       "2: Removed 1 rows containing missing values (`geom_errorbarh()`). \n"
      ]
     },
     "metadata": {},
     "output_type": "display_data"
    }
   ],
   "source": [
    "%%R\n",
    "\n",
    "library('ggplot2')\n",
    "\n",
    "\n",
    "p <- ggplot(data=age_summary, aes(x = target_child_age_mean,\n",
    "                                  y=Language_name, moe = target_child_age_std.error,\n",
    "                                  color = Language_name)) +\n",
    "     geom_point(aes(x = target_child_age_mean), size = 3) +\n",
    "     geom_errorbarh(aes(xmin = target_child_age_mean - target_child_age_std.error,\n",
    "                        xmax = target_child_age_mean + target_child_age_std.error), height = 0.5, size = 2) +\n",
    "     theme_classic() + theme(text = element_text(size=16),\n",
    "                             legend.title = element_blank(),\n",
    "                             legend.background = element_rect(fill=alpha(\"white\",0.90),\n",
    "                                                            size=0, linetype=\"dotted\",\n",
    "                                                            colour = \"white\"),\n",
    "                             legend.text=element_text(size=16)) +\n",
    "     labs(x = \"Child age (months)\", y = \"Language\") +\n",
    "     scale_y_discrete(limits=rev)\n",
    "     ggsave(\"../figures/age_line.pdf\", width = 11.7, height = 6.2)"
   ]
  },
  {
   "cell_type": "markdown",
   "metadata": {},
   "source": [
    "----\n",
    "\n",
    "#### Contingency assignment"
   ]
  },
  {
   "cell_type": "markdown",
   "metadata": {},
   "source": [
    "Using a contingency window of 3 to start:"
   ]
  },
  {
   "cell_type": "code",
   "execution_count": 32,
   "metadata": {
    "tags": []
   },
   "outputs": [],
   "source": [
    "# .001 buffer time to ensure that caregiver utterances that begin at the same moment as infant vocalizations are not artificially counted as contingent\n",
    "\n",
    "rand_dat_inc = contingent_extraction.assign_contingency(rand_dat_inc,3,.001) "
   ]
  },
  {
   "cell_type": "code",
   "execution_count": 33,
   "metadata": {},
   "outputs": [],
   "source": [
    "# save contingency assignment to file\n",
    "rand_dat_inc.to_csv(\"../data/rand_dat_inc_master.csv\")"
   ]
  },
  {
   "cell_type": "markdown",
   "metadata": {},
   "source": [
    "Number of contingent and non-contingent words (tokens)"
   ]
  },
  {
   "cell_type": "code",
   "execution_count": 34,
   "metadata": {},
   "outputs": [],
   "source": [
    "rand_dat_inc = pd.read_csv(\"../data/rand_dat_inc_master.csv\",index_col=0,low_memory=False)\n",
    "rand_dat_inc=rand_dat_inc[rand_dat_inc[\"language\"]!=\"ara\"]\n",
    "rand_dat_inc=rand_dat_inc[(rand_dat_inc[\"target_child_age\"]>=5) & (rand_dat_inc[\"target_child_age\"]<=30)]\n",
    "\n",
    "rand_dat_inc_cg = rand_dat_inc[rand_dat_inc[\"caregiver\"]==\"caregiver\"]\n",
    "\n",
    "rand_dat_inc_cg[\"contingent\"] = np.where(rand_dat_inc_cg[\"contingent\"]==1, \"contingent\", \"non-contingent\")\n",
    "\n",
    "rand_dat_inc_cg = rand_dat_inc_cg[rand_dat_inc_cg[\"gloss\"].notna()]\n",
    "rand_dat_inc_cg = rand_dat_inc_cg[rand_dat_inc_cg[\"gloss\"]!=\"xxx\"]\n",
    "rand_dat_inc_cg = rand_dat_inc_cg[rand_dat_inc_cg[\"gloss\"]!=\"yyy\"]\n",
    "rand_dat_inc_cg = rand_dat_inc_cg[rand_dat_inc_cg[\"gloss\"]!=\"www\"]"
   ]
  },
  {
   "cell_type": "code",
   "execution_count": 35,
   "metadata": {},
   "outputs": [
    {
     "name": "stdout",
     "output_type": "stream",
     "text": [
      "|    | language   | contingent     |   count |\n",
      "|---:|:-----------|:---------------|--------:|\n",
      "|  0 | deu        | contingent     |    1716 |\n",
      "|  1 | deu        | non-contingent |    2736 |\n",
      "|  2 | eng        | contingent     |   17715 |\n",
      "|  3 | eng        | non-contingent |   82344 |\n",
      "|  4 | est        | contingent     |     940 |\n",
      "|  5 | est        | non-contingent |    1538 |\n",
      "|  6 | fas        | contingent     |     136 |\n",
      "|  7 | fas        | non-contingent |     516 |\n",
      "|  8 | fra        | contingent     |    5494 |\n",
      "|  9 | fra        | non-contingent |   15684 |\n",
      "| 10 | hrv        | contingent     |    2472 |\n",
      "| 11 | hrv        | non-contingent |    3769 |\n",
      "| 12 | jpn        | contingent     |    9877 |\n",
      "| 13 | jpn        | non-contingent |   15247 |\n",
      "| 14 | kor        | contingent     |    1554 |\n",
      "| 15 | kor        | non-contingent |    3061 |\n",
      "| 16 | nor        | contingent     |     735 |\n",
      "| 17 | nor        | non-contingent |    1242 |\n",
      "| 18 | pol        | contingent     |      23 |\n",
      "| 19 | pol        | non-contingent |      29 |\n",
      "| 20 | por        | contingent     |    1070 |\n",
      "| 21 | por        | non-contingent |    1592 |\n",
      "| 22 | spa        | contingent     |    2340 |\n",
      "| 23 | spa        | non-contingent |    2035 |\n",
      "| 24 | swe        | contingent     |    1187 |\n",
      "| 25 | swe        | non-contingent |    1569 |\n",
      "| 26 | zho        | contingent     |      77 |\n",
      "| 27 | zho        | non-contingent |     301 |\n"
     ]
    }
   ],
   "source": [
    "# how many contingent and non-contingent total words per language\n",
    "\n",
    "contingent_noncontingent_counts = rand_dat_inc_cg.groupby(['language','contingent']).size().to_frame('count').reset_index()\n",
    "\n",
    "# inspect data:\n",
    "print(contingent_noncontingent_counts.to_markdown())"
   ]
  },
  {
   "cell_type": "code",
   "execution_count": 36,
   "metadata": {
    "tags": []
   },
   "outputs": [
    {
     "name": "stdout",
     "output_type": "stream",
     "text": [
      "|    | language   | contingent     |    means |\n",
      "|---:|:-----------|:---------------|---------:|\n",
      "|  0 | deu        | contingent     |  45.1579 |\n",
      "|  1 | deu        | non-contingent |  72      |\n",
      "|  2 | eng        | contingent     |  20.6469 |\n",
      "|  3 | eng        | non-contingent |  93.3605 |\n",
      "|  4 | est        | contingent     |  42.7273 |\n",
      "|  5 | est        | non-contingent |  69.9091 |\n",
      "|  6 | fas        | contingent     |  12.3636 |\n",
      "|  7 | fas        | non-contingent |  46.9091 |\n",
      "|  8 | fra        | contingent     |  19.9782 |\n",
      "|  9 | fra        | non-contingent |  56.2151 |\n",
      "| 10 | hrv        | contingent     |  42.6207 |\n",
      "| 11 | hrv        | non-contingent |  64.9828 |\n",
      "| 12 | jpn        | contingent     |  61.7313 |\n",
      "| 13 | jpn        | non-contingent |  95.2938 |\n",
      "| 14 | kor        | contingent     |  55.5    |\n",
      "| 15 | kor        | non-contingent | 109.321  |\n",
      "| 16 | nor        | contingent     |  26.25   |\n",
      "| 17 | nor        | non-contingent |  46      |\n",
      "| 18 | pol        | contingent     |  23      |\n",
      "| 19 | pol        | non-contingent |  29      |\n",
      "| 20 | por        | contingent     |  46.5217 |\n",
      "| 21 | por        | non-contingent |  69.2174 |\n",
      "| 22 | spa        | contingent     |  78      |\n",
      "| 23 | spa        | non-contingent |  67.8333 |\n",
      "| 24 | swe        | contingent     |  74.1875 |\n",
      "| 25 | swe        | non-contingent |  98.0625 |\n",
      "| 26 | zho        | contingent     |  38.5    |\n",
      "| 27 | zho        | non-contingent | 150.5    |\n"
     ]
    }
   ],
   "source": [
    "# average number of total contingent and non-contingent words per transcript across languages\n",
    "\n",
    "contingent_noncontingent_count_avgs = rand_dat_inc_cg.groupby(['language','contingent','transcript_id']).size().to_frame('count').reset_index()\n",
    "\n",
    "contingent_noncontingent_count_avgs =  contingent_noncontingent_count_avgs.rename({'count': 'counts'}, axis=1)\n",
    "\n",
    "contingent_noncontingent_count_avgs = (contingent_noncontingent_count_avgs.groupby([\"language\",\"contingent\"])\n",
    "                                       .counts\n",
    "                                       .agg([\"mean\"])\n",
    "                                       .reset_index())\n",
    "\n",
    "contingent_noncontingent_count_avgs =  contingent_noncontingent_count_avgs.rename({'mean': 'means'}, axis=1)\n",
    "\n",
    "# inspect data:\n",
    "print(contingent_noncontingent_count_avgs.to_markdown())"
   ]
  },
  {
   "cell_type": "markdown",
   "metadata": {},
   "source": [
    "----\n",
    "#### Context proportions across languages"
   ]
  },
  {
   "cell_type": "code",
   "execution_count": 37,
   "metadata": {},
   "outputs": [],
   "source": [
    "context_dat = pd.read_csv(\"../data/context_data.csv\")\n",
    "context_dat=context_dat.rename(columns={\"Language\":\"Language_name\"})\n",
    "context_dat=context_dat.rename(columns={\"Corpus\":\"corpus_name\"})"
   ]
  },
  {
   "cell_type": "code",
   "execution_count": 38,
   "metadata": {},
   "outputs": [],
   "source": [
    "rand_dat_inc=rand_dat_inc.merge(context_dat,on='corpus_name',how=\"right\")"
   ]
  },
  {
   "cell_type": "code",
   "execution_count": 39,
   "metadata": {},
   "outputs": [],
   "source": [
    "rand_dat_inc[\"Location\"] = rand_dat_inc[\"Location\"].fillna(\"NaN\")\n",
    "rand_dat_inc[\"Activity\"] = rand_dat_inc[\"Activity\"].fillna(\"NaN\")"
   ]
  },
  {
   "cell_type": "code",
   "execution_count": 40,
   "metadata": {},
   "outputs": [],
   "source": [
    "rand_dat_inc[\"context\"] = rand_dat_inc[\"Location\"] + rand_dat_inc[\"Activity\"]"
   ]
  },
  {
   "cell_type": "code",
   "execution_count": 41,
   "metadata": {},
   "outputs": [
    {
     "data": {
      "text/plain": [
       "array(['LabUnstructured', 'OtherUnstructured', 'HomeUnstructured',\n",
       "       'HomeOther', 'LabInterview/Unstructured', 'HomeNaN', 'NaNNaN',\n",
       "       'HomeBook-reading', 'HomeInterview/Unstructured'], dtype=object)"
      ]
     },
     "execution_count": 41,
     "metadata": {},
     "output_type": "execute_result"
    }
   ],
   "source": [
    "rand_dat_inc[\"context\"].unique()"
   ]
  },
  {
   "cell_type": "code",
   "execution_count": 42,
   "metadata": {},
   "outputs": [],
   "source": [
    "rand_dat_inc=rand_dat_inc.rename(columns={\"Language_name_x\":\"Language_name\"})"
   ]
  },
  {
   "cell_type": "code",
   "execution_count": 43,
   "metadata": {},
   "outputs": [],
   "source": [
    "# How many transcripts per corpora per different context\n",
    "\n",
    "context_counts = rand_dat_inc.groupby(['Language_name','context','transcript_id']).nunique().reset_index()"
   ]
  },
  {
   "cell_type": "code",
   "execution_count": 44,
   "metadata": {},
   "outputs": [
    {
     "name": "stdout",
     "output_type": "stream",
     "text": [
      "|    | Language_name   | context                    |   count |\n",
      "|---:|:----------------|:---------------------------|--------:|\n",
      "|  0 | Croatian        | HomeUnstructured           |      58 |\n",
      "|  1 | English         | HomeOther                  |      20 |\n",
      "|  2 | English         | HomeUnstructured           |     340 |\n",
      "|  3 | English         | LabInterview/Unstructured  |     368 |\n",
      "|  4 | English         | LabUnstructured            |      26 |\n",
      "|  5 | English         | OtherUnstructured          |     128 |\n",
      "|  6 | Estonian        | HomeUnstructured           |      22 |\n",
      "|  7 | French          | HomeUnstructured           |     238 |\n",
      "|  8 | French          | NaNNaN                     |      41 |\n",
      "|  9 | German          | HomeUnstructured           |      38 |\n",
      "| 10 | Japanese        | HomeUnstructured           |     107 |\n",
      "| 11 | Japanese        | NaNNaN                     |      53 |\n",
      "| 12 | Korean          | HomeBook-reading           |      28 |\n",
      "| 13 | Mandarin        | HomeUnstructured           |       2 |\n",
      "| 14 | Norwegian       | HomeUnstructured           |      28 |\n",
      "| 15 | Persian         | HomeNaN                    |      11 |\n",
      "| 16 | Polish          | HomeInterview/Unstructured |       1 |\n",
      "| 17 | Portuguese      | HomeUnstructured           |      23 |\n",
      "| 18 | Spanish         | HomeUnstructured           |      30 |\n",
      "| 19 | Swedish         | HomeUnstructured           |      16 |\n"
     ]
    }
   ],
   "source": [
    "count_table = context_counts.groupby(['Language_name','context']).size().to_frame('count').reset_index()\n",
    "\n",
    "print(count_table.to_markdown())"
   ]
  },
  {
   "cell_type": "code",
   "execution_count": 45,
   "metadata": {},
   "outputs": [],
   "source": [
    "count_table.to_csv(\"../data/context_counts_subject_level.csv\")"
   ]
  },
  {
   "cell_type": "code",
   "execution_count": null,
   "id": "500eae21",
   "metadata": {},
   "outputs": [],
   "source": []
  }
 ],
 "metadata": {
  "kernelspec": {
   "display_name": "Python 3.10.7 64-bit",
   "language": "python",
   "name": "python3"
  },
  "language_info": {
   "codemirror_mode": {
    "name": "ipython",
    "version": 3
   },
   "file_extension": ".py",
   "mimetype": "text/x-python",
   "name": "python",
   "nbconvert_exporter": "python",
   "pygments_lexer": "ipython3",
   "version": "3.11.9"
  },
  "vscode": {
   "interpreter": {
    "hash": "aee8b7b246df8f9039afb4144a1f6fd8d2ca17a180786b69acc140d282b71a49"
   }
  }
 },
 "nbformat": 4,
 "nbformat_minor": 5
}
