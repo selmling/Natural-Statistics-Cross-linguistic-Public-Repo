{
 "cells": [
  {
   "cell_type": "markdown",
   "metadata": {},
   "source": [
    "# Natural Statistics Cross-linguistic\n",
    "\n",
    "Random samples contingency variable generation."
   ]
  },
  {
   "cell_type": "code",
   "execution_count": 2,
   "metadata": {},
   "outputs": [],
   "source": [
    "import pandas as pd\n",
    "import numpy as np\n",
    "import sys\n",
    "sys.path.insert(0, \"data_proc\")\n",
    "import contingent_extraction\n",
    "import warnings\n",
    "warnings.filterwarnings('ignore')"
   ]
  },
  {
   "cell_type": "code",
   "execution_count": 3,
   "metadata": {
    "tags": []
   },
   "outputs": [],
   "source": [
    "rand_dat = pd.read_csv(\"../data/rand_dat.csv\", low_memory=False)"
   ]
  },
  {
   "cell_type": "code",
   "execution_count": 4,
   "metadata": {},
   "outputs": [],
   "source": [
    "# rand_dat.head()"
   ]
  },
  {
   "cell_type": "markdown",
   "metadata": {},
   "source": [
    "----\n",
    "\n",
    "#### How many languages are we analyzing?"
   ]
  },
  {
   "cell_type": "code",
   "execution_count": 5,
   "metadata": {},
   "outputs": [
    {
     "data": {
      "text/plain": [
       "15"
      ]
     },
     "execution_count": 5,
     "metadata": {},
     "output_type": "execute_result"
    }
   ],
   "source": [
    "rand_dat[\"language\"].unique() # list of all langauges across corpora\n",
    "int_rand_dat = rand_dat[~rand_dat[\"language\"].str.contains(\"eng\")]\n",
    "int_rand_dat[\"language\"].unique() # list of all languages that don't contain `eng` in language name\n",
    "len(int_rand_dat[\"language\"].unique()) # language count"
   ]
  },
  {
   "cell_type": "markdown",
   "metadata": {},
   "source": [
    "15 languages + 1 (`eng`) - 1 (`por swe`). Thus, **15 langauges**! `por swe` (Portugese and Swedish) is removed because we will only analyze monolingual corpora first."
   ]
  },
  {
   "cell_type": "markdown",
   "metadata": {},
   "source": [
    "----\n",
    "\n",
    "#### How many participants are we analyzing?\n",
    "\n",
    "Get only monolingual corpora to finalize rand_dat dataframe."
   ]
  },
  {
   "cell_type": "code",
   "execution_count": 6,
   "metadata": {},
   "outputs": [],
   "source": [
    "eng_rand_dat = rand_dat[rand_dat[\"language\"]==\"eng\"] # only english\n",
    "rand_dat_inc = eng_rand_dat.append(int_rand_dat) # english and non-english\n",
    "rand_dat_inc = rand_dat_inc[rand_dat_inc[\"language\"]!= \"por swe\"]# exclude bilingual (por swe)"
   ]
  },
  {
   "cell_type": "code",
   "execution_count": 7,
   "metadata": {},
   "outputs": [],
   "source": [
    "rand_dat_inc = pd.read_csv(\"../data/rand_dat.csv\",index_col=0,low_memory=False)\n",
    "rand_dat_inc=rand_dat_inc[rand_dat_inc[\"language\"]!=\"ara\"]\n",
    "rand_dat_inc=rand_dat_inc[(rand_dat_inc[\"target_child_age\"]>=5) & (rand_dat_inc[\"target_child_age\"]<=30)]# exclude under 5- and over 30-month-olds"
   ]
  },
  {
   "attachments": {},
   "cell_type": "markdown",
   "id": "0b43a042",
   "metadata": {},
   "source": [
    "----\n",
    "#### Transcript cleanse"
   ]
  },
  {
   "cell_type": "code",
   "execution_count": 8,
   "id": "5b354f35",
   "metadata": {},
   "outputs": [],
   "source": [
    "#\n",
    "# create 'caregiver' column\n",
    "#\n",
    "# add to this to include more speakers in \"caregiver\" category\n",
    "#\n",
    "\n",
    "conditions = [\n",
    "    (rand_dat_inc[\"speaker_role\"]==\"Mother\") | (rand_dat_inc[\"speaker_role\"]==\"Father\"),\n",
    "    (rand_dat_inc[\"speaker_role\"]==\"Target_Child\")]\n",
    "\n",
    "choices = ['caregiver', 'target_child']\n",
    "\n",
    "rand_dat_inc['caregiver'] = np.select(conditions, choices, default='other')\n",
    "\n",
    "# drop utterances where transcript = NaN\n",
    "rand_dat_inc = rand_dat_inc.drop(rand_dat_inc[(rand_dat_inc['caregiver'] == 'caregiver') &\n",
    "                                              (rand_dat_inc['gloss'].isna())].index)"
   ]
  },
  {
   "cell_type": "code",
   "execution_count": 10,
   "id": "07ba3af5",
   "metadata": {},
   "outputs": [],
   "source": [
    "# create language_name column\n",
    "\n",
    "language_labels = pd.read_csv(\"../data/language_labels.csv\")\n",
    "\n",
    "language_labels=language_labels.rename(columns={\"Language\":\"language\"})\n",
    "\n",
    "rand_dat_inc=rand_dat_inc.merge(language_labels,on='language',how=\"right\")\n"
   ]
  },
  {
   "cell_type": "code",
   "execution_count": 11,
   "id": "f4bda707",
   "metadata": {},
   "outputs": [
    {
     "name": "stdout",
     "output_type": "stream",
     "text": [
      "|      | Language_name   |   transcript_id |   caregiver |   other |   target_child |\n",
      "|-----:|:----------------|----------------:|------------:|--------:|---------------:|\n",
      "|   57 | Croatian        |           29287 |           0 |     153 |            108 |\n",
      "|   72 | English         |            4182 |           2 |       0 |            105 |\n",
      "|  146 | English         |            6987 |           0 |      48 |             34 |\n",
      "|  147 | English         |            6989 |           0 |      78 |             66 |\n",
      "|  148 | English         |            6990 |           0 |      65 |             55 |\n",
      "|  150 | English         |            6992 |           0 |      64 |             49 |\n",
      "|  153 | English         |            6996 |           0 |      47 |             48 |\n",
      "|  154 | English         |            7000 |           0 |      88 |             60 |\n",
      "|  245 | English         |            8480 |           0 |       0 |             66 |\n",
      "|  246 | English         |            8482 |           0 |       0 |              1 |\n",
      "|  247 | English         |            8485 |           0 |       0 |              7 |\n",
      "|  249 | English         |            8487 |           3 |       0 |             61 |\n",
      "|  250 | English         |            8488 |           0 |       0 |              1 |\n",
      "|  251 | English         |            8489 |           0 |       0 |              2 |\n",
      "|  254 | English         |            8500 |           0 |       0 |             33 |\n",
      "|  256 | English         |            8502 |           0 |       0 |             67 |\n",
      "|  258 | English         |            8504 |           3 |       0 |             47 |\n",
      "|  261 | English         |            8508 |           3 |       0 |             56 |\n",
      "|  266 | English         |            8518 |           1 |       0 |            101 |\n",
      "| 1103 | French          |           14325 |           0 |     236 |             59 |\n",
      "| 1177 | French          |           46684 |           1 |       3 |             36 |\n",
      "| 1190 | French          |           46700 |           2 |       0 |             77 |\n",
      "| 1200 | French          |           46716 |           1 |      13 |             49 |\n",
      "| 1235 | French          |           46792 |           1 |      82 |             30 |\n",
      "| 1277 | French          |           46909 |           0 |       0 |            107 |\n",
      "| 1296 | French          |           47023 |           0 |     124 |             84 |\n",
      "| 1365 | French          |           47175 |           3 |       0 |              3 |\n",
      "| 1368 | French          |           47179 |           4 |       0 |              0 |\n",
      "| 1377 | French          |           47189 |           1 |       0 |              3 |\n",
      "| 1614 | Norwegian       |           44929 |           1 |       3 |             65 |\n",
      "| 1615 | Norwegian       |           44930 |           0 |       1 |             66 |\n",
      "| 1618 | Norwegian       |           44933 |           3 |      31 |            112 |\n",
      "| 1619 | Norwegian       |           44934 |           2 |      24 |            111 |\n",
      "| 1620 | Norwegian       |           44935 |           0 |       6 |            105 |\n",
      "| 1621 | Norwegian       |           44936 |           4 |      20 |            124 |\n",
      "| 1623 | Norwegian       |           44938 |           2 |      17 |            159 |\n",
      "| 1624 | Norwegian       |           44939 |           4 |       7 |            187 |\n",
      "| 1625 | Norwegian       |           44940 |           1 |       3 |            163 |\n",
      "| 1626 | Norwegian       |           44941 |           3 |       6 |             86 |\n",
      "| 1629 | Norwegian       |           44944 |           2 |       5 |             64 |\n",
      "| 1634 | Norwegian       |           44949 |           2 |      14 |            163 |\n",
      "| 1640 | Norwegian       |           44955 |           4 |      32 |             88 |\n",
      "| 1642 | Norwegian       |           44958 |           2 |      12 |            119 |\n",
      "| 1644 | Norwegian       |           44960 |           0 |      37 |             91 |\n",
      "| 1645 | Norwegian       |           44962 |           2 |       8 |            115 |\n",
      "| 1646 | Norwegian       |           44963 |           1 |       0 |            157 |\n",
      "| 1650 | Norwegian       |           44967 |           1 |      31 |             40 |\n",
      "| 1651 | Norwegian       |           44968 |           0 |      33 |             13 |\n",
      "| 1652 | Norwegian       |           44969 |           0 |      14 |              9 |\n",
      "| 1653 | Norwegian       |           44970 |           2 |       0 |            146 |\n",
      "| 1654 | Norwegian       |           44971 |           0 |       0 |             60 |\n",
      "| 1655 | Norwegian       |           44972 |           0 |       3 |             71 |\n",
      "| 1659 | Norwegian       |           44976 |           2 |       5 |             77 |\n",
      "| 1660 | Norwegian       |           44977 |           3 |       0 |             98 |\n",
      "| 1661 | Norwegian       |           44978 |           0 |      36 |            109 |\n",
      "| 1662 | Norwegian       |           44979 |           0 |       3 |            108 |\n",
      "| 1664 | Norwegian       |           44981 |           1 |      13 |            108 |\n",
      "| 1665 | Norwegian       |           44982 |           0 |      52 |            140 |\n",
      "| 1666 | Norwegian       |           44983 |           3 |      45 |             54 |\n",
      "| 1672 | Persian         |           20937 |           0 |     146 |              9 |\n",
      "| 1727 | Spanish         |           12224 |           0 |     140 |             92 |\n"
     ]
    }
   ],
   "source": [
    "# how many caregiver utterances per caregiver\n",
    "cg_utt_counts = rand_dat_inc.groupby(['Language_name','transcript_id','caregiver']).size().unstack(fill_value=0).reset_index()\n",
    "\n",
    "# how many transcripts with less than 5 caregiver utterances\n",
    "cg_utt_counts = cg_utt_counts[cg_utt_counts['caregiver'] < 5]\n",
    "#print(cg_utt_counts.to_markdown())"
   ]
  },
  {
   "cell_type": "code",
   "execution_count": 12,
   "id": "5dcad740",
   "metadata": {},
   "outputs": [],
   "source": [
    "# drop transcripts with less than 5 caregiver utterances\n",
    "cg_excluders = list(cg_utt_counts[\"transcript_id\"])\n",
    "\n",
    "rand_dat_inc = rand_dat_inc[~rand_dat_inc['transcript_id'].isin(cg_excluders)]"
   ]
  },
  {
   "cell_type": "code",
   "execution_count": 14,
   "id": "a91d45e9",
   "metadata": {},
   "outputs": [],
   "source": [
    "# how many target child utterances per transcript\n",
    "tc_utt_counts = rand_dat_inc.groupby(['Language_name','transcript_id','caregiver']).size().unstack(fill_value=0).reset_index()\n",
    "tc_utt_counts = tc_utt_counts[tc_utt_counts['target_child'] < 5]\n",
    "#print(tc_utt_counts.to_markdown())"
   ]
  },
  {
   "cell_type": "code",
   "execution_count": 15,
   "id": "b4945c00",
   "metadata": {},
   "outputs": [],
   "source": [
    "# drop transcripts with less than 5 target child utterances\n",
    "tc_excluders = list(tc_utt_counts[\"transcript_id\"])\n",
    "\n",
    "rand_dat_inc = rand_dat_inc[~rand_dat_inc['transcript_id'].isin(tc_excluders)]"
   ]
  },
  {
   "cell_type": "code",
   "execution_count": 16,
   "metadata": {
    "tags": []
   },
   "outputs": [
    {
     "name": "stdout",
     "output_type": "stream",
     "text": [
      "There are 14 different monolingual languages in this dataset.\n",
      "There are 428 infants in this dataset.\n",
      "There are 1562 different transcripts in this dataset\n"
     ]
    }
   ],
   "source": [
    "print(\"There are\", \n",
    "      len(rand_dat_inc[\"language\"].unique()),\n",
    "      \"different monolingual languages in this dataset.\")\n",
    "\n",
    "print(\"There are\",\n",
    "      len(rand_dat_inc[\"target_child_id\"].unique()),\n",
    "      \"infants in this dataset.\")\n",
    "\n",
    "print(\"There are\",\n",
    "      len(rand_dat_inc[\"transcript_id\"].unique()),\n",
    "      \"different transcripts in this dataset\")"
   ]
  },
  {
   "cell_type": "code",
   "execution_count": 17,
   "metadata": {
    "tags": []
   },
   "outputs": [
    {
     "name": "stdout",
     "output_type": "stream",
     "text": [
      "|    | language   |   count |\n",
      "|---:|:-----------|--------:|\n",
      "|  0 | deu        |       4 |\n",
      "|  1 | eng        |     379 |\n",
      "|  2 | est        |       3 |\n",
      "|  3 | fas        |       1 |\n",
      "|  4 | fra        |      16 |\n",
      "|  5 | hrv        |       3 |\n",
      "|  6 | jpn        |       9 |\n",
      "|  7 | kor        |       1 |\n",
      "|  8 | nor        |       2 |\n",
      "|  9 | pol        |       1 |\n",
      "| 10 | por        |       2 |\n",
      "| 11 | spa        |       3 |\n",
      "| 12 | swe        |       3 |\n",
      "| 13 | zho        |       1 |\n"
     ]
    }
   ],
   "source": [
    "# how many children per language\n",
    "child_counts = rand_dat_inc.groupby(['language','target_child_id']).nunique()\n",
    "count_table = child_counts.groupby(['language']).size().to_frame('count').reset_index()\n",
    "print(count_table.to_markdown())"
   ]
  },
  {
   "cell_type": "code",
   "execution_count": 18,
   "metadata": {
    "tags": []
   },
   "outputs": [
    {
     "name": "stdout",
     "output_type": "stream",
     "text": [
      "|    | Language_name   |   count |\n",
      "|---:|:----------------|--------:|\n",
      "|  0 | Croatian        |      58 |\n",
      "|  1 | English         |     872 |\n",
      "|  2 | Estonian        |      22 |\n",
      "|  3 | French          |     275 |\n",
      "|  4 | German          |      38 |\n",
      "|  5 | Japanese        |     160 |\n",
      "|  6 | Korean          |      28 |\n",
      "|  7 | Mandarin        |       2 |\n",
      "|  8 | Norwegian       |      26 |\n",
      "|  9 | Persian         |      11 |\n",
      "| 10 | Polish          |       1 |\n",
      "| 11 | Portuguese      |      23 |\n",
      "| 12 | Spanish         |      30 |\n",
      "| 13 | Swedish         |      16 |\n"
     ]
    }
   ],
   "source": [
    "# how many transcripts per language\n",
    "transcript_counts = rand_dat_inc.groupby(['Language_name','transcript_id']).nunique()\n",
    "count_table = transcript_counts.groupby(['Language_name']).size().to_frame('count').reset_index()\n",
    "print(count_table.to_markdown())"
   ]
  },
  {
   "cell_type": "code",
   "execution_count": 19,
   "metadata": {
    "tags": []
   },
   "outputs": [],
   "source": [
    "# how many transcripts per language\n",
    "transcript_x_child_counts = rand_dat_inc.groupby(['language','transcript_id','target_child_id']).nunique()\n",
    "transcript_x_child_count_table = transcript_x_child_counts.groupby(['language','target_child_id']).size().to_frame('count').reset_index()\n",
    "# print(transcript_x_child_count_table.to_markdown())"
   ]
  },
  {
   "cell_type": "code",
   "execution_count": 20,
   "id": "eff354e3",
   "metadata": {
    "tags": []
   },
   "outputs": [
    {
     "name": "stdout",
     "output_type": "stream",
     "text": [
      "|    | 0            |\n",
      "|---:|:-------------|\n",
      "|  0 | Leo          |\n",
      "|  1 | Rigol        |\n",
      "|  2 | Peters       |\n",
      "|  3 | Rollins      |\n",
      "|  4 | Bloom        |\n",
      "|  5 | Brent        |\n",
      "|  6 | Nelson       |\n",
      "|  7 | Braunwald    |\n",
      "|  8 | Soderstrom   |\n",
      "|  9 | Sachs        |\n",
      "| 10 | McCune       |\n",
      "| 11 | NewmanRatner |\n",
      "| 12 | MacWhinney   |\n",
      "| 13 | Providence   |\n",
      "| 14 | Argus        |\n",
      "| 15 | Zupping      |\n",
      "| 16 | Family       |\n",
      "| 17 | York         |\n",
      "| 18 | Lyon         |\n",
      "| 19 | Yamaguchi    |\n",
      "| 20 | Paris        |\n",
      "| 21 | Hunkeler     |\n",
      "| 22 | Kovacevic    |\n",
      "| 23 | Ishii        |\n",
      "| 24 | MiiPro       |\n",
      "| 25 | Miyata       |\n",
      "| 26 | Ryu          |\n",
      "| 27 | Garmann      |\n",
      "| 28 | WeistJarosz  |\n",
      "| 29 | Santos       |\n",
      "| 30 | Nieva        |\n",
      "| 31 | Remedi       |\n",
      "| 32 | Lund         |\n",
      "| 33 | Andren       |\n",
      "| 34 | Tong         |\n"
     ]
    }
   ],
   "source": [
    "# how many corpora\n",
    "corpora = pd.DataFrame(rand_dat_inc[\"corpus_name\"].unique())\n",
    "print(corpora.to_markdown())"
   ]
  },
  {
   "cell_type": "code",
   "execution_count": 21,
   "id": "88e90309",
   "metadata": {
    "tags": []
   },
   "outputs": [
    {
     "name": "stdout",
     "output_type": "stream",
     "text": [
      "|    | Language_name   | corpus_name   |\n",
      "|---:|:----------------|:--------------|\n",
      "|  0 | Croatian        | Kovacevic     |\n",
      "|  1 | English         | Bloom         |\n",
      "|  2 | English         | Braunwald     |\n",
      "|  3 | English         | Brent         |\n",
      "|  4 | English         | MacWhinney    |\n",
      "|  5 | English         | McCune        |\n",
      "|  6 | English         | Nelson        |\n",
      "|  7 | English         | NewmanRatner  |\n",
      "|  8 | English         | Peters        |\n",
      "|  9 | English         | Providence    |\n",
      "| 10 | English         | Rollins       |\n",
      "| 11 | English         | Sachs         |\n",
      "| 12 | English         | Soderstrom    |\n",
      "| 13 | Estonian        | Argus         |\n",
      "| 14 | Estonian        | Zupping       |\n",
      "| 15 | French          | Hunkeler      |\n",
      "| 16 | French          | Lyon          |\n",
      "| 17 | French          | Paris         |\n",
      "| 18 | French          | Yamaguchi     |\n",
      "| 19 | French          | York          |\n",
      "| 20 | German          | Leo           |\n",
      "| 21 | German          | Rigol         |\n",
      "| 22 | Japanese        | Ishii         |\n",
      "| 23 | Japanese        | MiiPro        |\n",
      "| 24 | Japanese        | Miyata        |\n",
      "| 25 | Korean          | Ryu           |\n",
      "| 26 | Mandarin        | Tong          |\n",
      "| 27 | Norwegian       | Garmann       |\n",
      "| 28 | Persian         | Family        |\n",
      "| 29 | Polish          | WeistJarosz   |\n",
      "| 30 | Portuguese      | Santos        |\n",
      "| 31 | Spanish         | Nieva         |\n",
      "| 32 | Spanish         | Remedi        |\n",
      "| 33 | Swedish         | Andren        |\n",
      "| 34 | Swedish         | Lund          |\n"
     ]
    }
   ],
   "source": [
    "# how many corpora with language names\n",
    "\n",
    "corpora_langs = rand_dat_inc.groupby(['Language_name','corpus_name']).agg(['unique']).reset_index()\n",
    "corpora_langs = corpora_langs.iloc[:, 0:2]\n",
    "corpora_langs.columns.values[0] = \"Language_name\"\n",
    "corpora_langs.columns.values[1] = \"corpus_name\"\n",
    "\n",
    "print(corpora_langs.to_markdown())"
   ]
  },
  {
   "attachments": {},
   "cell_type": "markdown",
   "id": "cdcf0d74",
   "metadata": {},
   "source": [
    "----\n",
    "\n",
    "#### How old are the children?"
   ]
  },
  {
   "cell_type": "code",
   "execution_count": 22,
   "metadata": {
    "tags": []
   },
   "outputs": [
    {
     "data": {
      "text/plain": [
       "<Axes: >"
      ]
     },
     "execution_count": 22,
     "metadata": {},
     "output_type": "execute_result"
    },
    {
     "data": {
      "image/png": "[encoded data removed]",
      "text/plain": [
       "<Figure size 640x480 with 1 Axes>"
      ]
     },
     "metadata": {},
     "output_type": "display_data"
    }
   ],
   "source": [
    "# distribution of age groups\n",
    "ages = rand_dat_inc['target_child_age']\n",
    "ages.hist()"
   ]
  },
  {
   "cell_type": "code",
   "execution_count": 23,
   "id": "d9576b76",
   "metadata": {
    "tags": []
   },
   "outputs": [],
   "source": [
    "age_counts = rand_dat_inc.groupby(['language','transcript_id','target_child_age']).nunique()\n",
    "age_counts = age_counts.iloc[:, 0:2].reset_index()\n",
    "age_counts['target_child_age'].mean()\n",
    "\n",
    "age_counts=age_counts.merge(language_labels,on='language',how=\"right\")"
   ]
  },
  {
   "cell_type": "code",
   "execution_count": 24,
   "id": "a7e0f6af",
   "metadata": {},
   "outputs": [
    {
     "data": {
      "text/plain": [
       "array(['Target_Child', 'Mother', 'Relative', 'Father', 'Investigator',\n",
       "       'Brother', 'Media', 'Visitor', 'Playmate', 'Friend', 'Grandmother',\n",
       "       'Teenager', 'Unidentified', 'Sister', 'Adult', 'Environment',\n",
       "       'Grandfather', 'Caretaker', 'Boy', 'Child', 'Girl', 'Target_Adult'],\n",
       "      dtype=object)"
      ]
     },
     "execution_count": 24,
     "metadata": {},
     "output_type": "execute_result"
    }
   ],
   "source": [
    "# what are the speaker roles in the transcripts? (pre cleaning)\n",
    "rand_dat_inc[\"speaker_role\"].unique()"
   ]
  },
  {
   "cell_type": "code",
   "execution_count": 25,
   "metadata": {},
   "outputs": [],
   "source": [
    "child_dat = rand_dat_inc[rand_dat_inc[\"speaker_role\"]==\"Target_Child\"]"
   ]
  },
  {
   "cell_type": "code",
   "execution_count": 26,
   "metadata": {},
   "outputs": [],
   "source": [
    "# save only the target child speech to file\n",
    "child_dat.to_csv(\"../data/child_dat.csv\")"
   ]
  },
  {
   "cell_type": "markdown",
   "metadata": {
    "tags": []
   },
   "source": [
    "----\n",
    "#### Geographic distribution"
   ]
  },
  {
   "cell_type": "code",
   "execution_count": 28,
   "metadata": {
    "tags": []
   },
   "outputs": [],
   "source": [
    "geo_dat = pd.read_csv(\"../data/langs_and_countries.csv\",index_col=0)"
   ]
  },
  {
   "cell_type": "code",
   "execution_count": 29,
   "metadata": {
    "tags": []
   },
   "outputs": [],
   "source": [
    "# create language name column\n",
    "\n",
    "geo_dat=geo_dat.rename(columns={\"Language\":\"language\"})\n",
    "\n",
    "geo_dat=geo_dat.merge(language_labels,on='language',how=\"right\")"
   ]
  },
  {
   "cell_type": "code",
   "execution_count": 30,
   "metadata": {
    "tags": []
   },
   "outputs": [],
   "source": [
    "%load_ext rpy2.ipython"
   ]
  },
  {
   "cell_type": "code",
   "execution_count": 31,
   "metadata": {},
   "outputs": [
    {
     "name": "stdout",
     "output_type": "stream",
     "text": [
      "── Attaching core tidyverse packages ──────────────────────── tidyverse 2.0.0 ──\n",
      "✔ dplyr     1.1.2     ✔ readr     2.1.4\n",
      "✔ forcats   1.0.0     ✔ stringr   1.5.0\n",
      "✔ ggplot2   3.4.2     ✔ tibble    3.2.1\n",
      "✔ lubridate 1.9.2     ✔ tidyr     1.3.0\n",
      "✔ purrr     1.0.1     \n",
      "── Conflicts ────────────────────────────────────────── tidyverse_conflicts() ──\n",
      "✖ dplyr::filter() masks stats::filter()\n",
      "✖ dplyr::lag()    masks stats::lag()\n",
      "ℹ Use the conflicted package (<http://conflicted.r-lib.org/>) to force all conflicts to become errors\n"
     ]
    },
    {
     "name": "stderr",
     "output_type": "stream",
     "text": [
      "R[write to console]: \n",
      "Attaching package: ‘cowplot’\n",
      "\n",
      "\n",
      "R[write to console]: The following object is masked from ‘package:lubridate’:\n",
      "\n",
      "    stamp\n",
      "\n",
      "\n"
     ]
    }
   ],
   "source": [
    "%%R \n",
    "\n",
    "library(\"tidyverse\")\n",
    "library(\"cowplot\")\n",
    "library(\"repr\")\n",
    "\n",
    "theme_black = function(base_size = 11, base_family = \"\") {\n",
    " \n",
    "  theme_grey(base_size = base_size, base_family = base_family) %+replace%\n",
    " \n",
    "    theme(\n",
    "      # Specify axis options\n",
    "      axis.line = element_line(colour = \"white\"),  \n",
    "      axis.text.x = element_text(color = \"white\",margin = margin(2, 2, 2, 2),size=8),  \n",
    "      axis.text.y = element_text(color = \"white\",hjust=1,margin = margin(2, 2, 2, 2)),  \n",
    "      axis.ticks = element_line(color = \"white\"),  \n",
    "      axis.title.x = element_text(size = base_size, color = \"white\"),  \n",
    "      axis.title.y = element_text(size = base_size, color = \"white\", angle = 90,margin = margin(0, 10, 0, 0)),  \n",
    "      # Specify legend options\n",
    "      legend.background = element_rect(color = NA, fill = \"black\"),  \n",
    "      legend.key = element_rect(color = \"white\",  fill = \"black\"),  \n",
    "      legend.key.size = unit(1.2, \"lines\"),  \n",
    "      legend.key.height = NULL,  \n",
    "      legend.key.width = NULL,      \n",
    "      legend.text = element_text(size = base_size*0.8, color = \"white\"),  \n",
    "      legend.title = element_text(size = base_size*0.8, face = \"bold\", hjust = 0, color = \"white\"),  \n",
    "      legend.position = \"right\",  \n",
    "      legend.text.align = NULL,  \n",
    "      legend.title.align = NULL,  \n",
    "      legend.direction = \"vertical\",  \n",
    "      legend.box = NULL, \n",
    "      # Specify panel options\n",
    "      panel.background = element_blank(),  \n",
    "      panel.border = element_blank(),  \n",
    "      panel.grid.major = element_blank(),  \n",
    "      panel.grid.minor = element_blank(),  \n",
    "#       panel.margin = unit(0.5, \"lines\"),   \n",
    "      # Specify facetting options\n",
    "      strip.background = element_rect(fill = \"black\", color = \"white\"),  \n",
    "      strip.text.x = element_text( color = \"white\"),  \n",
    "      strip.text.y = element_text(size = base_size*0.8, color = \"white\",angle = -90),  \n",
    "      # Specify plot options\n",
    "      plot.background = element_rect(color = \"black\", fill = \"black\"),  \n",
    "      plot.title = element_text(size = base_size, color = \"white\"),  \n",
    "      plot.margin = unit(rep(1, 4), \"lines\")\n",
    " \n",
    "    )\n",
    " \n",
    "}"
   ]
  },
  {
   "cell_type": "code",
   "execution_count": 32,
   "metadata": {
    "tags": []
   },
   "outputs": [],
   "source": [
    "%%R -i geo_dat\n",
    "\n",
    "options(repr.plot.width=11.7, repr.plot.height=6.2)\n",
    "\n",
    "geo_dat <- geo_dat %>%\n",
    "    mutate(lang_fam_abbrv = recode(Language_Family,\n",
    "                                   `Indo-European` = \"I-E\",\n",
    "                                   `Uralic` = \"U\",\n",
    "                                   `Japonic` = \"J\",\n",
    "                                   `Koreanic` = \"K\",\n",
    "                                   `Sino-Tibetan` = \"S-T\"),\n",
    "           Language_label = Language_name,\n",
    "           Language_label = paste0(Language_label,\" (\",lang_fam_abbrv,\")\"))\n",
    "\n",
    "mp <- NULL\n",
    "\n",
    "mapWorld <- borders(\"world\",\n",
    "                    colour = \"white\",\n",
    "#                     colour=\"gray50\", # with white background\n",
    "                    fill=\"gray75\") # create a layer of borders\n",
    "\n",
    "mp <- ggplot() + mapWorld\n",
    "\n",
    "mp <- mp +\n",
    "      geom_point(aes(x=geo_dat$longitude, y=geo_dat$latitude,color=geo_dat$Language_label), size=3) +\n",
    "      # theme_black() +\n",
    "      theme_void() +\n",
    "      theme(text = element_text(size=16),\n",
    "            #plot.background = element_rect(fill = \"black\"),\n",
    "            legend.title = element_blank(),\n",
    "            legend.position = c(0.91, 0.55),\n",
    "            legend.background = element_rect(fill=alpha(\"white\",0.90),\n",
    "                                             size=0, linetype=\"dotted\",\n",
    "                                             colour = \"white\"),\n",
    "            legend.text=element_text(size=16,colour=\"black\"))\n",
    "\n",
    "ggsave(\"../figures/geo_dat.pdf\", width = 11.7, height = 6.2,dpi = 1200, scale = 1.2)\n",
    "# ggsave(\"../figures/geo_dat_black.pdf\", width = 11.7, height = 6.2,dpi = 1200)"
   ]
  },
  {
   "attachments": {},
   "cell_type": "markdown",
   "metadata": {},
   "source": [
    "----\n",
    "\n",
    "#### Child age distribution"
   ]
  },
  {
   "cell_type": "code",
   "execution_count": 33,
   "metadata": {
    "tags": []
   },
   "outputs": [],
   "source": [
    "%%R -i age_counts\n",
    "\n",
    "p <- ggplot(data=age_counts, aes(x = target_child_age, fill = Language_name)) +\n",
    "     geom_histogram(binwidth=2.5) +\n",
    "     facet_wrap(. ~ Language_name,ncol = 7) +\n",
    "     theme_classic() + theme(text = element_text(size=16),\n",
    "                             legend.title = element_blank(),\n",
    "                             legend.background = element_rect(fill=alpha(\"white\",0.90),\n",
    "                                                            size=0, linetype=\"dotted\",\n",
    "                                                            colour = \"white\"),\n",
    "                             legend.text=element_text(size=16)) +\n",
    "     labs(x = \"Child age (months)\", y = \"Freq\")\n",
    "    \n",
    "     ggsave(\"../figures/age_hist.pdf\", width = 11.7, height = 6.2)"
   ]
  },
  {
   "cell_type": "code",
   "execution_count": 34,
   "metadata": {},
   "outputs": [],
   "source": [
    "rand_dat_inc_age = rand_dat_inc.groupby(['Language_name','transcript_id','target_child_id','target_child_age']).nunique().reset_index()\n",
    "rand_dat_inc_age = rand_dat_inc_age[['Language_name','transcript_id','target_child_id','target_child_age']]"
   ]
  },
  {
   "cell_type": "code",
   "execution_count": 35,
   "metadata": {
    "tags": []
   },
   "outputs": [
    {
     "name": "stdout",
     "output_type": "stream",
     "text": [
      "# A tibble: 14 × 7\n",
      "   Language_name transcript_id_mean target_child_id_mean target_child_age_mean\n",
      "   <chr>                      <dbl>                <dbl>                 <dbl>\n",
      " 1 Croatian                  29222.               18280.                  23.6\n",
      " 2 English                   16760.                8571.                  17.7\n",
      " 3 Estonian                  20280.               12790.                  23.7\n",
      " 4 French                    45896.               24007.                  21.6\n",
      " 5 German                    31008                19117.                  25.9\n",
      " 6 Japanese                  21770.               13970.                  22.0\n",
      " 7 Korean                    28157.               17372                   21.8\n",
      " 8 Mandarin                  16830.               10061                   21.2\n",
      " 9 Norwegian                 44958.               23625.                  16.9\n",
      "10 Persian                   20942.               13594                   26.8\n",
      "11 Polish                    49733                25298                   22.7\n",
      "12 Portuguese                23252.               14773.                  23.8\n",
      "13 Spanish                   12303.                6093.                  23.6\n",
      "14 Swedish                   11486.                5850.                  22.8\n",
      "# ℹ 3 more variables: transcript_id_std.error <dbl>,\n",
      "#   target_child_id_std.error <dbl>, target_child_age_std.error <dbl>\n"
     ]
    }
   ],
   "source": [
    "%%R -i rand_dat_inc_age\n",
    "\n",
    "library('plotrix')\n",
    "library('dplyr')\n",
    "\n",
    "age_summary <- rand_dat_inc_age %>% group_by(Language_name) %>%\n",
    "    summarise_all(funs(mean,std.error))\n",
    "age_summary"
   ]
  },
  {
   "cell_type": "code",
   "execution_count": 36,
   "metadata": {
    "tags": []
   },
   "outputs": [],
   "source": [
    "%%R\n",
    "\n",
    "library('ggplot2')\n",
    "\n",
    "\n",
    "p <- ggplot(data=age_summary, aes(x = target_child_age_mean,\n",
    "                                  y=Language_name, moe = target_child_age_std.error,\n",
    "                                  color = Language_name)) +\n",
    "     geom_point(aes(x = target_child_age_mean), size = 3) +\n",
    "     geom_errorbarh(aes(xmin = target_child_age_mean - target_child_age_std.error,\n",
    "                        xmax = target_child_age_mean + target_child_age_std.error), height = 0.5, size = 2) +\n",
    "     theme_classic() + theme(text = element_text(size=16),\n",
    "                             legend.title = element_blank(),\n",
    "                             legend.background = element_rect(fill=alpha(\"white\",0.90),\n",
    "                                                            size=0, linetype=\"dotted\",\n",
    "                                                            colour = \"white\"),\n",
    "                             legend.text=element_text(size=16)) +\n",
    "     labs(x = \"Child age (months)\", y = \"Language\") +\n",
    "     scale_y_discrete(limits=rev)\n",
    "     ggsave(\"../figures/age_line.pdf\", width = 11.7, height = 6.2)"
   ]
  },
  {
   "cell_type": "markdown",
   "metadata": {},
   "source": [
    "----\n",
    "\n",
    "#### Contingency assignment"
   ]
  },
  {
   "cell_type": "markdown",
   "metadata": {},
   "source": [
    "Using a contingency window of 3 to start:"
   ]
  },
  {
   "cell_type": "code",
   "execution_count": 37,
   "metadata": {
    "tags": []
   },
   "outputs": [],
   "source": [
    "# .001 buffer time to ensure that caregiver utterances that begin at the same moment as infant vocalizations are not artificially counted as contingent\n",
    "\n",
    "rand_dat_inc = contingent_extraction.assign_contingency(rand_dat_inc,3,.001) "
   ]
  },
  {
   "cell_type": "code",
   "execution_count": 38,
   "metadata": {},
   "outputs": [],
   "source": [
    "rand_dat_inc.to_csv(\"../data/rand_dat_inc_master.csv\")"
   ]
  },
  {
   "cell_type": "markdown",
   "metadata": {},
   "source": [
    "Number of contingent and non-contingent words (tokens)"
   ]
  },
  {
   "cell_type": "code",
   "execution_count": 39,
   "metadata": {},
   "outputs": [],
   "source": [
    "rand_dat_inc = pd.read_csv(\"../data/rand_dat_inc_master.csv\",index_col=0,low_memory=False)\n",
    "rand_dat_inc=rand_dat_inc[rand_dat_inc[\"language\"]!=\"ara\"]\n",
    "rand_dat_inc=rand_dat_inc[(rand_dat_inc[\"target_child_age\"]>=5) & (rand_dat_inc[\"target_child_age\"]<=30)]\n",
    "\n",
    "rand_dat_inc_cg = rand_dat_inc[rand_dat_inc[\"caregiver\"]==\"caregiver\"]\n",
    "\n",
    "rand_dat_inc_cg[\"contingent\"] = np.where(rand_dat_inc_cg[\"contingent\"]==1, \"contingent\", \"non-contingent\")\n",
    "\n",
    "rand_dat_inc_cg = rand_dat_inc_cg[rand_dat_inc_cg[\"gloss\"].notna()]\n",
    "rand_dat_inc_cg = rand_dat_inc_cg[rand_dat_inc_cg[\"gloss\"]!=\"xxx\"]\n",
    "rand_dat_inc_cg = rand_dat_inc_cg[rand_dat_inc_cg[\"gloss\"]!=\"yyy\"]\n",
    "rand_dat_inc_cg = rand_dat_inc_cg[rand_dat_inc_cg[\"gloss\"]!=\"www\"]"
   ]
  },
  {
   "cell_type": "code",
   "execution_count": 40,
   "metadata": {},
   "outputs": [
    {
     "name": "stdout",
     "output_type": "stream",
     "text": [
      "|    | language   | contingent     |   count |\n",
      "|---:|:-----------|:---------------|--------:|\n",
      "|  0 | deu        | contingent     |    1570 |\n",
      "|  1 | deu        | non-contingent |    2642 |\n",
      "|  2 | eng        | contingent     |   14609 |\n",
      "|  3 | eng        | non-contingent |   75400 |\n",
      "|  4 | est        | contingent     |     644 |\n",
      "|  5 | est        | non-contingent |    1336 |\n",
      "|  6 | fas        | contingent     |      71 |\n",
      "|  7 | fas        | non-contingent |     422 |\n",
      "|  8 | fra        | contingent     |    4687 |\n",
      "|  9 | fra        | non-contingent |   14955 |\n",
      "| 10 | hrv        | contingent     |    1743 |\n",
      "| 11 | hrv        | non-contingent |    3419 |\n",
      "| 12 | jpn        | contingent     |    8480 |\n",
      "| 13 | jpn        | non-contingent |   14586 |\n",
      "| 14 | kor        | contingent     |    1060 |\n",
      "| 15 | kor        | non-contingent |    2682 |\n",
      "| 16 | nor        | contingent     |     624 |\n",
      "| 17 | nor        | non-contingent |    1160 |\n",
      "| 18 | pol        | contingent     |      19 |\n",
      "| 19 | pol        | non-contingent |      24 |\n",
      "| 20 | por        | contingent     |     919 |\n",
      "| 21 | por        | non-contingent |    1447 |\n",
      "| 22 | spa        | contingent     |    1609 |\n",
      "| 23 | spa        | non-contingent |    1885 |\n",
      "| 24 | swe        | contingent     |    1009 |\n",
      "| 25 | swe        | non-contingent |    1419 |\n",
      "| 26 | zho        | contingent     |      54 |\n",
      "| 27 | zho        | non-contingent |     239 |\n"
     ]
    }
   ],
   "source": [
    "# how many contingent and non-contingent total words per language\n",
    "\n",
    "contingent_noncontingent_counts = rand_dat_inc_cg.groupby(['language','contingent']).size().to_frame('count').reset_index()\n",
    "\n",
    "print(contingent_noncontingent_counts.to_markdown())"
   ]
  },
  {
   "cell_type": "code",
   "execution_count": 41,
   "metadata": {
    "tags": []
   },
   "outputs": [
    {
     "name": "stdout",
     "output_type": "stream",
     "text": [
      "|    | language   | contingent     |     means |\n",
      "|---:|:-----------|:---------------|----------:|\n",
      "|  0 | deu        | contingent     |  41.3158  |\n",
      "|  1 | deu        | non-contingent |  69.5263  |\n",
      "|  2 | eng        | contingent     |  17.2683  |\n",
      "|  3 | eng        | non-contingent |  86.4679  |\n",
      "|  4 | est        | contingent     |  29.2727  |\n",
      "|  5 | est        | non-contingent |  60.7273  |\n",
      "|  6 | fas        | contingent     |   6.45455 |\n",
      "|  7 | fas        | non-contingent |  38.3636  |\n",
      "|  8 | fra        | contingent     |  17.2952  |\n",
      "|  9 | fra        | non-contingent |  54.3818  |\n",
      "| 10 | hrv        | contingent     |  30.0517  |\n",
      "| 11 | hrv        | non-contingent |  58.9483  |\n",
      "| 12 | jpn        | contingent     |  53       |\n",
      "| 13 | jpn        | non-contingent |  91.1625  |\n",
      "| 14 | kor        | contingent     |  37.8571  |\n",
      "| 15 | kor        | non-contingent |  95.7857  |\n",
      "| 16 | nor        | contingent     |  24       |\n",
      "| 17 | nor        | non-contingent |  50.4348  |\n",
      "| 18 | pol        | contingent     |  19       |\n",
      "| 19 | pol        | non-contingent |  24       |\n",
      "| 20 | por        | contingent     |  39.9565  |\n",
      "| 21 | por        | non-contingent |  62.913   |\n",
      "| 22 | spa        | contingent     |  53.6333  |\n",
      "| 23 | spa        | non-contingent |  62.8333  |\n",
      "| 24 | swe        | contingent     |  63.0625  |\n",
      "| 25 | swe        | non-contingent |  88.6875  |\n",
      "| 26 | zho        | contingent     |  27       |\n",
      "| 27 | zho        | non-contingent | 119.5     |\n"
     ]
    }
   ],
   "source": [
    "# average number of total contingent and non-contingent words per transcript across languages\n",
    "\n",
    "contingent_noncontingent_count_avgs = rand_dat_inc_cg.groupby(['language','contingent','transcript_id']).size().to_frame('count').reset_index()\n",
    "\n",
    "contingent_noncontingent_count_avgs =  contingent_noncontingent_count_avgs.rename({'count': 'counts'}, axis=1)\n",
    "\n",
    "contingent_noncontingent_count_avgs = (contingent_noncontingent_count_avgs.groupby([\"language\",\"contingent\"])\n",
    "                                       .counts\n",
    "                                       .agg([\"mean\"])\n",
    "                                       .reset_index())\n",
    "\n",
    "contingent_noncontingent_count_avgs =  contingent_noncontingent_count_avgs.rename({'mean': 'means'}, axis=1)\n",
    "\n",
    "print(contingent_noncontingent_count_avgs.to_markdown())"
   ]
  },
  {
   "cell_type": "markdown",
   "metadata": {},
   "source": [
    "Context proportions across languages"
   ]
  },
  {
   "cell_type": "code",
   "execution_count": 42,
   "metadata": {},
   "outputs": [],
   "source": [
    "context_dat = pd.read_csv(\"../data/context_data.csv\")\n",
    "context_dat=context_dat.rename(columns={\"Language\":\"Language_name\"})\n",
    "context_dat=context_dat.rename(columns={\"Corpus\":\"corpus_name\"})"
   ]
  },
  {
   "cell_type": "code",
   "execution_count": 43,
   "metadata": {},
   "outputs": [],
   "source": [
    "rand_dat_inc=rand_dat_inc.merge(context_dat,on='corpus_name',how=\"right\")"
   ]
  },
  {
   "cell_type": "code",
   "execution_count": 44,
   "metadata": {},
   "outputs": [],
   "source": [
    "rand_dat_inc[\"Location\"] = rand_dat_inc[\"Location\"].fillna(\"NaN\")\n",
    "rand_dat_inc[\"Activity\"] = rand_dat_inc[\"Activity\"].fillna(\"NaN\")"
   ]
  },
  {
   "cell_type": "code",
   "execution_count": 45,
   "metadata": {},
   "outputs": [],
   "source": [
    "rand_dat_inc[\"context\"] = rand_dat_inc[\"Location\"] + rand_dat_inc[\"Activity\"]"
   ]
  },
  {
   "cell_type": "code",
   "execution_count": 46,
   "metadata": {},
   "outputs": [
    {
     "data": {
      "text/plain": [
       "array(['LabUnstructured', 'OtherUnstructured', 'LabTabletop play',\n",
       "       'HomeUnstructured', 'HomeOther', 'LabInterview/Unstructured',\n",
       "       'HomeNaN', 'NaNNaN', 'HomeBook-reading',\n",
       "       'HomeInterview/Unstructured'], dtype=object)"
      ]
     },
     "execution_count": 46,
     "metadata": {},
     "output_type": "execute_result"
    }
   ],
   "source": [
    "rand_dat_inc[\"context\"].unique()"
   ]
  },
  {
   "cell_type": "code",
   "execution_count": 47,
   "metadata": {},
   "outputs": [],
   "source": [
    "rand_dat_inc=rand_dat_inc.rename(columns={\"Language_name_x\":\"Language_name\"})"
   ]
  },
  {
   "cell_type": "code",
   "execution_count": 48,
   "metadata": {},
   "outputs": [],
   "source": [
    "# How many transcripts per corpora per different context\n",
    "\n",
    "context_counts = rand_dat_inc.groupby(['Language_name','context','transcript_id']).nunique().reset_index()"
   ]
  },
  {
   "cell_type": "code",
   "execution_count": 49,
   "metadata": {},
   "outputs": [
    {
     "name": "stdout",
     "output_type": "stream",
     "text": [
      "|    | Language_name   | context                    |   count |\n",
      "|---:|:----------------|:---------------------------|--------:|\n",
      "|  0 | Croatian        | HomeUnstructured           |      58 |\n",
      "|  1 | English         | HomeOther                  |      20 |\n",
      "|  2 | English         | HomeUnstructured           |     338 |\n",
      "|  3 | English         | LabInterview/Unstructured  |     360 |\n",
      "|  4 | English         | LabTabletop play           |      26 |\n",
      "|  5 | English         | LabUnstructured            |      26 |\n",
      "|  6 | English         | OtherUnstructured          |     128 |\n",
      "|  7 | Estonian        | HomeUnstructured           |      22 |\n",
      "|  8 | French          | HomeUnstructured           |     238 |\n",
      "|  9 | French          | NaNNaN                     |      37 |\n",
      "| 10 | German          | HomeUnstructured           |      38 |\n",
      "| 11 | Japanese        | HomeUnstructured           |     107 |\n",
      "| 12 | Japanese        | NaNNaN                     |      53 |\n",
      "| 13 | Korean          | HomeBook-reading           |      28 |\n",
      "| 14 | Mandarin        | HomeUnstructured           |       2 |\n",
      "| 15 | Norwegian       | HomeUnstructured           |      26 |\n",
      "| 16 | Persian         | HomeNaN                    |      11 |\n",
      "| 17 | Polish          | HomeInterview/Unstructured |       1 |\n",
      "| 18 | Portuguese      | HomeUnstructured           |      23 |\n",
      "| 19 | Spanish         | HomeUnstructured           |      30 |\n",
      "| 20 | Swedish         | HomeUnstructured           |      16 |\n"
     ]
    }
   ],
   "source": [
    "count_table = context_counts.groupby(['Language_name','context']).size().to_frame('count').reset_index()\n",
    "\n",
    "print(count_table.to_markdown())"
   ]
  },
  {
   "cell_type": "code",
   "execution_count": 50,
   "metadata": {},
   "outputs": [],
   "source": [
    "count_table.to_csv(\"../data/context_counts_subject_level.csv\")"
   ]
  },
  {
   "cell_type": "code",
   "execution_count": null,
   "id": "7324cb09",
   "metadata": {},
   "outputs": [],
   "source": []
  }
 ],
 "metadata": {
  "kernelspec": {
   "display_name": "Python 3.10.7 64-bit",
   "language": "python",
   "name": "python3"
  },
  "language_info": {
   "codemirror_mode": {
    "name": "ipython",
    "version": 3
   },
   "file_extension": ".py",
   "mimetype": "text/x-python",
   "name": "python",
   "nbconvert_exporter": "python",
   "pygments_lexer": "ipython3",
   "version": "3.11.0rc1"
  },
  "vscode": {
   "interpreter": {
    "hash": "aee8b7b246df8f9039afb4144a1f6fd8d2ca17a180786b69acc140d282b71a49"
   }
  }
 },
 "nbformat": 4,
 "nbformat_minor": 5
}
