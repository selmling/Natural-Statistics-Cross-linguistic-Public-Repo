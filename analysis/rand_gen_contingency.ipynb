{
 "cells": [
  {
   "cell_type": "markdown",
   "metadata": {},
   "source": [
    "# Natural Statistics Cross-linguistic\n",
    "\n",
    "Random samples contingency variable generation."
   ]
  },
  {
   "cell_type": "code",
   "execution_count": 9,
   "metadata": {},
   "outputs": [],
   "source": [
    "import pandas as pd\n",
    "import numpy as np\n",
    "import sys\n",
    "sys.path.insert(0, \"data_proc\")\n",
    "import contingent_extraction\n",
    "import warnings\n",
    "warnings.filterwarnings('ignore')"
   ]
  },
  {
   "cell_type": "code",
   "execution_count": 10,
   "metadata": {
    "tags": []
   },
   "outputs": [],
   "source": [
    "rand_dat = pd.read_csv(\"../data/rand_dat.csv\",index_col=0, low_memory=False)"
   ]
  },
  {
   "cell_type": "code",
   "execution_count": 11,
   "metadata": {},
   "outputs": [],
   "source": [
    "# rand_dat.head()"
   ]
  },
  {
   "cell_type": "markdown",
   "metadata": {},
   "source": [
    "----\n",
    "\n",
    "#### How many languages are we analyzing?"
   ]
  },
  {
   "cell_type": "code",
   "execution_count": 12,
   "metadata": {},
   "outputs": [
    {
     "data": {
      "text/plain": [
       "15"
      ]
     },
     "execution_count": 12,
     "metadata": {},
     "output_type": "execute_result"
    }
   ],
   "source": [
    "rand_dat[\"language\"].unique() # list of all langauges across corpora\n",
    "int_rand_dat = rand_dat[~rand_dat[\"language\"].str.contains(\"eng\")]\n",
    "int_rand_dat[\"language\"].unique() # list of all languages that don't contain `eng` in language name\n",
    "len(int_rand_dat[\"language\"].unique()) # language count"
   ]
  },
  {
   "cell_type": "markdown",
   "metadata": {},
   "source": [
    "15 languages + 1 (`eng`) - 1 (`por swe`). Thus, **15 langauges**! `por swe` (Portugese and Swedish) is removed because we will only analyze monolingual corpora first."
   ]
  },
  {
   "cell_type": "markdown",
   "metadata": {},
   "source": [
    "----\n",
    "\n",
    "#### How many participants are we analyzing?\n",
    "\n",
    "Get only monolingual corpora to finalize rand_dat dataframe."
   ]
  },
  {
   "cell_type": "code",
   "execution_count": 13,
   "metadata": {},
   "outputs": [],
   "source": [
    "eng_rand_dat = rand_dat[rand_dat[\"language\"]==\"eng\"] # only english\n",
    "rand_dat_inc = pd.concat([eng_rand_dat, int_rand_dat]) # english and non-english\n",
    "rand_dat_inc = rand_dat_inc[rand_dat_inc[\"language\"]!= \"por swe\"]# exclude bilingual (por swe)"
   ]
  },
  {
   "cell_type": "code",
   "execution_count": 14,
   "metadata": {},
   "outputs": [],
   "source": [
    "rand_dat_inc=rand_dat_inc[rand_dat_inc[\"language\"]!=\"ara\"]\n",
    "rand_dat_inc=rand_dat_inc[(rand_dat_inc[\"target_child_age\"]>=5) & (rand_dat_inc[\"target_child_age\"]<=30)]# exclude under 5- and over 30-month-olds"
   ]
  },
  {
   "attachments": {},
   "cell_type": "markdown",
   "id": "0b43a042",
   "metadata": {},
   "source": [
    "----\n",
    "#### Transcript cleanse"
   ]
  },
  {
   "cell_type": "code",
   "execution_count": 15,
   "id": "5b354f35",
   "metadata": {},
   "outputs": [],
   "source": [
    "#\n",
    "# create 'caregiver' column\n",
    "#\n",
    "# add to this to include more speakers in \"caregiver\" category\n",
    "#\n",
    "\n",
    "conditions = [\n",
    "    (rand_dat_inc[\"speaker_role\"]==\"Mother\") | (rand_dat_inc[\"speaker_role\"]==\"Father\"),\n",
    "    (rand_dat_inc[\"speaker_role\"]==\"Target_Child\")]\n",
    "\n",
    "choices = ['caregiver', 'target_child']\n",
    "\n",
    "rand_dat_inc['caregiver'] = np.select(conditions, choices, default='other')\n",
    "\n",
    "# drop utterances where transcript = NaN\n",
    "rand_dat_inc = rand_dat_inc.drop(rand_dat_inc[(rand_dat_inc['caregiver'] == 'caregiver') &\n",
    "                                              (rand_dat_inc['gloss'].isna())].index)"
   ]
  },
  {
   "cell_type": "code",
   "execution_count": 16,
   "id": "07ba3af5",
   "metadata": {},
   "outputs": [],
   "source": [
    "# create language_name column\n",
    "\n",
    "language_labels = pd.read_csv(\"../data/language_labels.csv\")\n",
    "\n",
    "language_labels=language_labels.rename(columns={\"Language\":\"language\"})\n",
    "\n",
    "rand_dat_inc=rand_dat_inc.merge(language_labels,on='language',how=\"right\")\n"
   ]
  },
  {
   "cell_type": "code",
   "execution_count": 19,
   "id": "f4bda707",
   "metadata": {},
   "outputs": [
    {
     "name": "stdout",
     "output_type": "stream",
     "text": [
      "|      | Language_name   |   transcript_id |   caregiver |   other |   target_child |\n",
      "|-----:|:----------------|----------------:|------------:|--------:|---------------:|\n",
      "|   57 | Croatian        |           29287 |           0 |     161 |            117 |\n",
      "|   72 | English         |            4182 |           3 |       0 |            136 |\n",
      "|  146 | English         |            6987 |           0 |      69 |             38 |\n",
      "|  147 | English         |            6989 |           0 |      93 |             87 |\n",
      "|  148 | English         |            6990 |           0 |      88 |             66 |\n",
      "|  150 | English         |            6992 |           0 |      73 |             53 |\n",
      "|  153 | English         |            6996 |           0 |      65 |             61 |\n",
      "|  154 | English         |            7000 |           0 |      96 |             68 |\n",
      "|  245 | English         |            8480 |           0 |       0 |             76 |\n",
      "|  246 | English         |            8482 |           0 |       0 |              1 |\n",
      "|  247 | English         |            8485 |           0 |       0 |              8 |\n",
      "|  249 | English         |            8487 |           3 |       0 |             84 |\n",
      "|  250 | English         |            8488 |           0 |       0 |              1 |\n",
      "|  251 | English         |            8489 |           0 |       0 |              2 |\n",
      "|  254 | English         |            8500 |           0 |       0 |             38 |\n",
      "|  256 | English         |            8502 |           0 |       0 |             75 |\n",
      "|  258 | English         |            8504 |           3 |       0 |             60 |\n",
      "|  261 | English         |            8508 |           3 |       0 |             76 |\n",
      "|  266 | English         |            8518 |           1 |       0 |            119 |\n",
      "| 1103 | French          |           14325 |           0 |     244 |             61 |\n",
      "| 1177 | French          |           46684 |           1 |       3 |             36 |\n",
      "| 1190 | French          |           46700 |           2 |       0 |             78 |\n",
      "| 1200 | French          |           46716 |           1 |      13 |             49 |\n",
      "| 1235 | French          |           46792 |           1 |      83 |             30 |\n",
      "| 1277 | French          |           46909 |           0 |       0 |            122 |\n",
      "| 1296 | French          |           47023 |           0 |     126 |             86 |\n",
      "| 1365 | French          |           47175 |           3 |       0 |              3 |\n",
      "| 1377 | French          |           47189 |           2 |       0 |              3 |\n",
      "| 1614 | Norwegian       |           44929 |           1 |       3 |             71 |\n",
      "| 1615 | Norwegian       |           44930 |           0 |       1 |             75 |\n",
      "| 1618 | Norwegian       |           44933 |           3 |      37 |            129 |\n",
      "| 1619 | Norwegian       |           44934 |           4 |      33 |            139 |\n",
      "| 1620 | Norwegian       |           44935 |           0 |       7 |            121 |\n",
      "| 1623 | Norwegian       |           44938 |           2 |      19 |            178 |\n",
      "| 1624 | Norwegian       |           44939 |           4 |       9 |            204 |\n",
      "| 1625 | Norwegian       |           44940 |           2 |       3 |            189 |\n",
      "| 1626 | Norwegian       |           44941 |           3 |       9 |            102 |\n",
      "| 1629 | Norwegian       |           44944 |           2 |       9 |             75 |\n",
      "| 1634 | Norwegian       |           44949 |           3 |      15 |            180 |\n",
      "| 1642 | Norwegian       |           44958 |           2 |      14 |            135 |\n",
      "| 1644 | Norwegian       |           44960 |           0 |      38 |             93 |\n",
      "| 1645 | Norwegian       |           44962 |           2 |       8 |            120 |\n",
      "| 1646 | Norwegian       |           44963 |           1 |       0 |            163 |\n",
      "| 1650 | Norwegian       |           44967 |           1 |      33 |             41 |\n",
      "| 1651 | Norwegian       |           44968 |           0 |      37 |             15 |\n",
      "| 1652 | Norwegian       |           44969 |           0 |      15 |             10 |\n",
      "| 1653 | Norwegian       |           44970 |           3 |       0 |            159 |\n",
      "| 1654 | Norwegian       |           44971 |           0 |       0 |             65 |\n",
      "| 1655 | Norwegian       |           44972 |           0 |       3 |             75 |\n",
      "| 1659 | Norwegian       |           44976 |           2 |       7 |             77 |\n",
      "| 1660 | Norwegian       |           44977 |           3 |       0 |            101 |\n",
      "| 1661 | Norwegian       |           44978 |           0 |      36 |            115 |\n",
      "| 1662 | Norwegian       |           44979 |           0 |       3 |            115 |\n",
      "| 1664 | Norwegian       |           44981 |           1 |      15 |            121 |\n",
      "| 1665 | Norwegian       |           44982 |           0 |      54 |            149 |\n",
      "| 1666 | Norwegian       |           44983 |           4 |      48 |             62 |\n",
      "| 1672 | Persian         |           20937 |           0 |     168 |             12 |\n",
      "| 1727 | Spanish         |           12224 |           0 |     159 |            114 |\n"
     ]
    }
   ],
   "source": [
    "# how many caregiver utterances per caregiver\n",
    "cg_utt_counts = rand_dat_inc.groupby(['Language_name','transcript_id','caregiver']).size().unstack(fill_value=0).reset_index()\n",
    "\n",
    "# how many transcripts with less than 5 caregiver utterances\n",
    "cg_utt_counts = cg_utt_counts[cg_utt_counts['caregiver'] < 5]\n",
    "# print(cg_utt_counts.to_markdown())"
   ]
  },
  {
   "cell_type": "code",
   "execution_count": 20,
   "id": "5dcad740",
   "metadata": {},
   "outputs": [],
   "source": [
    "# drop transcripts with less than 5 caregiver utterances\n",
    "cg_excluders = list(cg_utt_counts[\"transcript_id\"])\n",
    "\n",
    "rand_dat_inc = rand_dat_inc[~rand_dat_inc['transcript_id'].isin(cg_excluders)]"
   ]
  },
  {
   "cell_type": "code",
   "execution_count": 22,
   "id": "a91d45e9",
   "metadata": {},
   "outputs": [
    {
     "name": "stdout",
     "output_type": "stream",
     "text": [
      "|      | Language_name   |   transcript_id |   caregiver |   other |   target_child |\n",
      "|-----:|:----------------|----------------:|------------:|--------:|---------------:|\n",
      "|   44 | Croatian        |           29248 |          10 |       0 |              3 |\n",
      "|   59 | English         |            3719 |         122 |       0 |              0 |\n",
      "|   60 | English         |            3726 |          93 |       0 |              1 |\n",
      "|   61 | English         |            3736 |         184 |       0 |              0 |\n",
      "|  122 | English         |            4568 |         107 |       0 |              1 |\n",
      "|  160 | English         |            8276 |         182 |       0 |              3 |\n",
      "|  167 | English         |            8286 |         134 |       0 |              3 |\n",
      "|  169 | English         |            8289 |         129 |       0 |              2 |\n",
      "|  171 | English         |            8291 |          52 |       0 |              3 |\n",
      "|  176 | English         |            8304 |         136 |       0 |              0 |\n",
      "|  177 | English         |            8307 |         110 |       0 |              3 |\n",
      "|  179 | English         |            8315 |         111 |       2 |              3 |\n",
      "|  183 | English         |            8325 |         110 |       1 |              1 |\n",
      "|  184 | English         |            8327 |         209 |       0 |              0 |\n",
      "|  186 | English         |            8331 |         119 |       0 |              0 |\n",
      "|  188 | English         |            8335 |          91 |       0 |              1 |\n",
      "|  189 | English         |            8340 |          42 |       0 |              1 |\n",
      "|  190 | English         |            8342 |          70 |       0 |              1 |\n",
      "|  191 | English         |            8343 |          39 |       0 |              0 |\n",
      "|  192 | English         |            8345 |          64 |       0 |              0 |\n",
      "|  193 | English         |            8365 |          56 |       0 |              0 |\n",
      "|  194 | English         |            8368 |          13 |       0 |              0 |\n",
      "|  195 | English         |            8378 |          47 |       0 |              1 |\n",
      "|  199 | English         |            8386 |          83 |       0 |              0 |\n",
      "|  200 | English         |            8387 |          95 |       0 |              1 |\n",
      "|  201 | English         |            8388 |          95 |       0 |              1 |\n",
      "|  202 | English         |            8390 |         126 |       0 |              1 |\n",
      "|  203 | English         |            8391 |         139 |       0 |              3 |\n",
      "|  209 | English         |            8399 |         168 |       7 |              1 |\n",
      "|  210 | English         |            8401 |         112 |       0 |              2 |\n",
      "|  212 | English         |            8410 |         126 |       0 |              0 |\n",
      "|  213 | English         |            8421 |         118 |       0 |              0 |\n",
      "|  214 | English         |            8424 |         152 |       0 |              0 |\n",
      "|  215 | English         |            8427 |         130 |       0 |              1 |\n",
      "|  221 | English         |            8451 |          79 |       0 |              1 |\n",
      "|  223 | English         |            8456 |         118 |       0 |              0 |\n",
      "|  226 | English         |            8465 |          91 |       0 |              3 |\n",
      "|  227 | English         |            8466 |         198 |       0 |              3 |\n",
      "|  228 | English         |            8469 |          10 |       0 |              3 |\n",
      "|  229 | English         |            8470 |         156 |       0 |              2 |\n",
      "|  231 | English         |            8474 |         111 |       0 |              4 |\n",
      "|  232 | English         |            8475 |         153 |       0 |              2 |\n",
      "|  340 | English         |            9469 |          96 |       0 |              4 |\n",
      "|  423 | English         |           10156 |         140 |       0 |              4 |\n",
      "|  426 | English         |           10160 |         180 |       0 |              0 |\n",
      "|  440 | English         |           10177 |         153 |       0 |              3 |\n",
      "|  442 | English         |           10179 |         203 |       0 |              4 |\n",
      "|  445 | English         |           10182 |         138 |       0 |              4 |\n",
      "|  452 | English         |           10190 |         100 |       3 |              3 |\n",
      "|  457 | English         |           10199 |         140 |       5 |              4 |\n",
      "|  463 | English         |           10206 |         143 |       0 |              2 |\n",
      "|  464 | English         |           10207 |          41 |       0 |              1 |\n",
      "|  467 | English         |           10212 |          75 |       0 |              3 |\n",
      "|  468 | English         |           10213 |          74 |       0 |              4 |\n",
      "|  470 | English         |           10217 |         135 |       0 |              2 |\n",
      "|  471 | English         |           10218 |         155 |       0 |              2 |\n",
      "|  472 | English         |           10219 |          72 |       0 |              2 |\n",
      "|  475 | English         |           10222 |         157 |       0 |              2 |\n",
      "|  481 | English         |           10228 |         127 |       0 |              1 |\n",
      "|  483 | English         |           10230 |         146 |       0 |              4 |\n",
      "|  491 | English         |           10240 |          72 |       1 |              2 |\n",
      "|  501 | English         |           10254 |         132 |       0 |              3 |\n",
      "|  502 | English         |           10255 |         141 |       0 |              4 |\n",
      "|  505 | English         |           10258 |          90 |       0 |              0 |\n",
      "|  515 | English         |           10273 |         123 |       0 |              3 |\n",
      "|  519 | English         |           10278 |         105 |       0 |              2 |\n",
      "|  523 | English         |           10284 |         119 |       0 |              2 |\n",
      "|  524 | English         |           10285 |         140 |       0 |              1 |\n",
      "|  527 | English         |           10288 |          77 |       0 |              1 |\n",
      "|  529 | English         |           10290 |         181 |       0 |              1 |\n",
      "|  535 | English         |           10297 |         142 |       0 |              1 |\n",
      "|  539 | English         |           10303 |         143 |       0 |              1 |\n",
      "|  541 | English         |           10306 |          90 |       0 |              2 |\n",
      "|  545 | English         |           10310 |          43 |       0 |              2 |\n",
      "|  546 | English         |           10315 |         127 |       2 |              4 |\n",
      "|  552 | English         |           10326 |         190 |       0 |              3 |\n",
      "|  554 | English         |           10329 |          86 |       0 |              3 |\n",
      "|  573 | English         |           10378 |         152 |       0 |              3 |\n",
      "|  580 | English         |           10396 |         110 |       0 |              2 |\n",
      "|  591 | English         |           10408 |         130 |       0 |              4 |\n",
      "|  594 | English         |           10412 |         161 |       0 |              2 |\n",
      "|  598 | English         |           10418 |          76 |       0 |              4 |\n",
      "|  602 | English         |           10424 |         104 |       0 |              3 |\n",
      "|  604 | English         |           10426 |         156 |       0 |              1 |\n",
      "|  609 | English         |           10431 |         140 |       0 |              1 |\n",
      "|  610 | English         |           10434 |         151 |       0 |              3 |\n",
      "|  614 | English         |           10438 |         118 |       1 |              1 |\n",
      "|  630 | English         |           10459 |          75 |       0 |              4 |\n",
      "|  642 | English         |           10473 |         137 |       0 |              2 |\n",
      "|  644 | English         |           10476 |         116 |       1 |              2 |\n",
      "|  647 | English         |           10481 |         194 |       0 |              4 |\n",
      "|  648 | English         |           10482 |          90 |       2 |              2 |\n",
      "|  652 | English         |           10487 |          95 |       0 |              3 |\n",
      "|  655 | English         |           10491 |         163 |       0 |              2 |\n",
      "|  659 | English         |           10497 |         123 |       0 |              1 |\n",
      "|  661 | English         |           10499 |         153 |       0 |              2 |\n",
      "|  662 | English         |           10500 |         150 |       0 |              4 |\n",
      "|  664 | English         |           10503 |         125 |       0 |              3 |\n",
      "|  665 | English         |           10504 |          77 |       0 |              2 |\n",
      "|  674 | English         |           10514 |         134 |       0 |              0 |\n",
      "|  675 | English         |           10515 |         159 |       0 |              4 |\n",
      "|  679 | English         |           10521 |         131 |       0 |              4 |\n",
      "|  689 | English         |           10532 |         100 |       0 |              3 |\n",
      "|  716 | English         |           10564 |         157 |       0 |              3 |\n",
      "|  751 | English         |           10604 |          94 |       0 |              3 |\n",
      "|  772 | English         |           10627 |         130 |       0 |              4 |\n",
      "|  842 | English         |           10799 |         118 |      19 |              0 |\n",
      "|  845 | English         |           10928 |         114 |      17 |              0 |\n",
      "|  847 | English         |           10959 |         100 |      14 |              4 |\n",
      "|  849 | English         |           10978 |         153 |      16 |              0 |\n",
      "|  852 | English         |           11105 |          86 |      29 |              4 |\n",
      "|  856 | English         |           11151 |          80 |      24 |              2 |\n",
      "|  857 | English         |           11210 |          84 |       8 |              0 |\n",
      "|  860 | English         |           11239 |         272 |      34 |              1 |\n",
      "| 1308 | French          |           47123 |          54 |       1 |              4 |\n",
      "| 1341 | French          |           47179 |           6 |       0 |              3 |\n",
      "| 1355 | French          |           47195 |           5 |       0 |              4 |\n"
     ]
    }
   ],
   "source": [
    "# how many target child utterances per transcript\n",
    "tc_utt_counts = rand_dat_inc.groupby(['Language_name','transcript_id','caregiver']).size().unstack(fill_value=0).reset_index()\n",
    "tc_utt_counts = tc_utt_counts[tc_utt_counts['target_child'] < 5]\n",
    "print(tc_utt_counts.to_markdown())"
   ]
  },
  {
   "cell_type": "code",
   "execution_count": 23,
   "id": "b4945c00",
   "metadata": {},
   "outputs": [],
   "source": [
    "# drop transcripts with less than 5 target child utterances\n",
    "tc_excluders = list(tc_utt_counts[\"transcript_id\"])\n",
    "\n",
    "rand_dat_inc = rand_dat_inc[~rand_dat_inc['transcript_id'].isin(tc_excluders)]"
   ]
  },
  {
   "cell_type": "code",
   "execution_count": 24,
   "metadata": {
    "tags": []
   },
   "outputs": [
    {
     "name": "stdout",
     "output_type": "stream",
     "text": [
      "There are 14 different monolingual languages in this dataset.\n",
      "There are 436 infants in this dataset.\n",
      "There are 1578 different transcripts in this dataset\n"
     ]
    }
   ],
   "source": [
    "print(\"There are\", \n",
    "      len(rand_dat_inc[\"language\"].unique()),\n",
    "      \"different monolingual languages in this dataset.\")\n",
    "\n",
    "print(\"There are\",\n",
    "      len(rand_dat_inc[\"target_child_id\"].unique()),\n",
    "      \"infants in this dataset.\")\n",
    "\n",
    "print(\"There are\",\n",
    "      len(rand_dat_inc[\"transcript_id\"].unique()),\n",
    "      \"different transcripts in this dataset\")"
   ]
  },
  {
   "cell_type": "code",
   "execution_count": 25,
   "metadata": {
    "tags": []
   },
   "outputs": [
    {
     "name": "stdout",
     "output_type": "stream",
     "text": [
      "|    | language   |   count |\n",
      "|---:|:-----------|--------:|\n",
      "|  0 | deu        |       4 |\n",
      "|  1 | eng        |     387 |\n",
      "|  2 | est        |       3 |\n",
      "|  3 | fas        |       1 |\n",
      "|  4 | fra        |      16 |\n",
      "|  5 | hrv        |       3 |\n",
      "|  6 | jpn        |       9 |\n",
      "|  7 | kor        |       1 |\n",
      "|  8 | nor        |       2 |\n",
      "|  9 | pol        |       1 |\n",
      "| 10 | por        |       2 |\n",
      "| 11 | spa        |       3 |\n",
      "| 12 | swe        |       3 |\n",
      "| 13 | zho        |       1 |\n"
     ]
    }
   ],
   "source": [
    "# how many children per language\n",
    "child_counts = rand_dat_inc.groupby(['language','target_child_id']).nunique()\n",
    "count_table = child_counts.groupby(['language']).size().to_frame('count').reset_index()\n",
    "print(count_table.to_markdown())"
   ]
  },
  {
   "cell_type": "code",
   "execution_count": 27,
   "metadata": {
    "tags": []
   },
   "outputs": [
    {
     "name": "stdout",
     "output_type": "stream",
     "text": [
      "|    | Language_name   |   count |\n",
      "|---:|:----------------|--------:|\n",
      "|  0 | Croatian        |      58 |\n",
      "|  1 | English         |     882 |\n",
      "|  2 | Estonian        |      22 |\n",
      "|  3 | French          |     279 |\n",
      "|  4 | German          |      38 |\n",
      "|  5 | Japanese        |     160 |\n",
      "|  6 | Korean          |      28 |\n",
      "|  7 | Mandarin        |       2 |\n",
      "|  8 | Norwegian       |      28 |\n",
      "|  9 | Persian         |      11 |\n",
      "| 10 | Polish          |       1 |\n",
      "| 11 | Portuguese      |      23 |\n",
      "| 12 | Spanish         |      30 |\n",
      "| 13 | Swedish         |      16 |\n"
     ]
    }
   ],
   "source": [
    "# how many transcripts per language\n",
    "transcript_counts = rand_dat_inc.groupby(['Language_name','transcript_id']).nunique()\n",
    "count_table = transcript_counts.groupby(['Language_name']).size().to_frame('count').reset_index()\n",
    "print(count_table.to_markdown())"
   ]
  },
  {
   "cell_type": "code",
   "execution_count": 28,
   "metadata": {
    "tags": []
   },
   "outputs": [],
   "source": [
    "# how many transcripts per language\n",
    "transcript_x_child_counts = rand_dat_inc.groupby(['language','transcript_id','target_child_id']).nunique()\n",
    "transcript_x_child_count_table = transcript_x_child_counts.groupby(['language','target_child_id']).size().to_frame('count').reset_index()\n",
    "# print(transcript_x_child_count_table.to_markdown())"
   ]
  },
  {
   "cell_type": "code",
   "execution_count": 29,
   "id": "eff354e3",
   "metadata": {
    "tags": []
   },
   "outputs": [
    {
     "name": "stdout",
     "output_type": "stream",
     "text": [
      "|    | 0            |\n",
      "|---:|:-------------|\n",
      "|  0 | Leo          |\n",
      "|  1 | Rigol        |\n",
      "|  2 | Peters       |\n",
      "|  3 | Rollins      |\n",
      "|  4 | Bloom        |\n",
      "|  5 | Brent        |\n",
      "|  6 | Nelson       |\n",
      "|  7 | Braunwald    |\n",
      "|  8 | Soderstrom   |\n",
      "|  9 | Sachs        |\n",
      "| 10 | McCune       |\n",
      "| 11 | NewmanRatner |\n",
      "| 12 | MacWhinney   |\n",
      "| 13 | Providence   |\n",
      "| 14 | Argus        |\n",
      "| 15 | Zupping      |\n",
      "| 16 | Family       |\n",
      "| 17 | York         |\n",
      "| 18 | Lyon         |\n",
      "| 19 | Yamaguchi    |\n",
      "| 20 | Paris        |\n",
      "| 21 | Hunkeler     |\n",
      "| 22 | Kovacevic    |\n",
      "| 23 | Ishii        |\n",
      "| 24 | MiiPro       |\n",
      "| 25 | Miyata       |\n",
      "| 26 | Ryu          |\n",
      "| 27 | Garmann      |\n",
      "| 28 | WeistJarosz  |\n",
      "| 29 | Santos       |\n",
      "| 30 | Nieva        |\n",
      "| 31 | Remedi       |\n",
      "| 32 | Lund         |\n",
      "| 33 | Andren       |\n",
      "| 34 | Tong         |\n"
     ]
    }
   ],
   "source": [
    "# how many corpora\n",
    "corpora = pd.DataFrame(rand_dat_inc[\"corpus_name\"].unique())\n",
    "print(corpora.to_markdown())"
   ]
  },
  {
   "cell_type": "code",
   "execution_count": 30,
   "id": "88e90309",
   "metadata": {
    "tags": []
   },
   "outputs": [
    {
     "name": "stdout",
     "output_type": "stream",
     "text": [
      "|    | Language_name   | corpus_name   |\n",
      "|---:|:----------------|:--------------|\n",
      "|  0 | Croatian        | Kovacevic     |\n",
      "|  1 | English         | Bloom         |\n",
      "|  2 | English         | Braunwald     |\n",
      "|  3 | English         | Brent         |\n",
      "|  4 | English         | MacWhinney    |\n",
      "|  5 | English         | McCune        |\n",
      "|  6 | English         | Nelson        |\n",
      "|  7 | English         | NewmanRatner  |\n",
      "|  8 | English         | Peters        |\n",
      "|  9 | English         | Providence    |\n",
      "| 10 | English         | Rollins       |\n",
      "| 11 | English         | Sachs         |\n",
      "| 12 | English         | Soderstrom    |\n",
      "| 13 | Estonian        | Argus         |\n",
      "| 14 | Estonian        | Zupping       |\n",
      "| 15 | French          | Hunkeler      |\n",
      "| 16 | French          | Lyon          |\n",
      "| 17 | French          | Paris         |\n",
      "| 18 | French          | Yamaguchi     |\n",
      "| 19 | French          | York          |\n",
      "| 20 | German          | Leo           |\n",
      "| 21 | German          | Rigol         |\n",
      "| 22 | Japanese        | Ishii         |\n",
      "| 23 | Japanese        | MiiPro        |\n",
      "| 24 | Japanese        | Miyata        |\n",
      "| 25 | Korean          | Ryu           |\n",
      "| 26 | Mandarin        | Tong          |\n",
      "| 27 | Norwegian       | Garmann       |\n",
      "| 28 | Persian         | Family        |\n",
      "| 29 | Polish          | WeistJarosz   |\n",
      "| 30 | Portuguese      | Santos        |\n",
      "| 31 | Spanish         | Nieva         |\n",
      "| 32 | Spanish         | Remedi        |\n",
      "| 33 | Swedish         | Andren        |\n",
      "| 34 | Swedish         | Lund          |\n"
     ]
    }
   ],
   "source": [
    "# how many corpora with language names\n",
    "\n",
    "corpora_langs = rand_dat_inc.groupby(['Language_name','corpus_name']).agg(['unique']).reset_index()\n",
    "corpora_langs = corpora_langs.iloc[:, 0:2]\n",
    "corpora_langs.columns.values[0] = \"Language_name\"\n",
    "corpora_langs.columns.values[1] = \"corpus_name\"\n",
    "\n",
    "print(corpora_langs.to_markdown())"
   ]
  },
  {
   "attachments": {},
   "cell_type": "markdown",
   "id": "cdcf0d74",
   "metadata": {},
   "source": [
    "----\n",
    "\n",
    "#### How old are the children?"
   ]
  },
  {
   "cell_type": "code",
   "execution_count": 31,
   "metadata": {
    "tags": []
   },
   "outputs": [
    {
     "data": {
      "text/plain": [
       "<Axes: >"
      ]
     },
     "execution_count": 31,
     "metadata": {},
     "output_type": "execute_result"
    },
    {
     "data": {
      "image/png": "[encoded data removed]",
      "text/plain": [
       "<Figure size 640x480 with 1 Axes>"
      ]
     },
     "metadata": {},
     "output_type": "display_data"
    }
   ],
   "source": [
    "# distribution of age groups\n",
    "ages = rand_dat_inc['target_child_age']\n",
    "ages.hist()"
   ]
  },
  {
   "cell_type": "code",
   "execution_count": 32,
   "id": "d9576b76",
   "metadata": {
    "tags": []
   },
   "outputs": [],
   "source": [
    "age_counts = rand_dat_inc.groupby(['language','transcript_id','target_child_age']).nunique()\n",
    "age_counts = age_counts.iloc[:, 0:2].reset_index()\n",
    "age_counts['target_child_age'].mean()\n",
    "\n",
    "age_counts=age_counts.merge(language_labels,on='language',how=\"right\")"
   ]
  },
  {
   "cell_type": "code",
   "execution_count": 33,
   "id": "a7e0f6af",
   "metadata": {},
   "outputs": [
    {
     "data": {
      "text/plain": [
       "array(['Target_Child', 'Mother', 'Relative', 'Father', 'Investigator',\n",
       "       'Brother', 'Media', 'Visitor', 'Playmate', 'Friend', 'Grandmother',\n",
       "       'Teenager', 'Unidentified', 'Sister', 'Adult', 'Environment',\n",
       "       'Grandfather', 'Caretaker', 'Boy', 'Child', 'Girl', 'Target_Adult'],\n",
       "      dtype=object)"
      ]
     },
     "execution_count": 33,
     "metadata": {},
     "output_type": "execute_result"
    }
   ],
   "source": [
    "# what are the speaker roles in the transcripts? (pre cleaning)\n",
    "rand_dat_inc[\"speaker_role\"].unique()"
   ]
  },
  {
   "cell_type": "code",
   "execution_count": 34,
   "metadata": {},
   "outputs": [],
   "source": [
    "child_dat = rand_dat_inc[rand_dat_inc[\"speaker_role\"]==\"Target_Child\"]"
   ]
  },
  {
   "cell_type": "code",
   "execution_count": 35,
   "metadata": {},
   "outputs": [],
   "source": [
    "# save only the target child speech to file\n",
    "child_dat.to_csv(\"../data/child_dat.csv\")"
   ]
  },
  {
   "cell_type": "markdown",
   "metadata": {
    "tags": []
   },
   "source": [
    "----\n",
    "#### Geographic distribution"
   ]
  },
  {
   "cell_type": "code",
   "execution_count": 36,
   "metadata": {
    "tags": []
   },
   "outputs": [],
   "source": [
    "geo_dat = pd.read_csv(\"../data/langs_and_countries.csv\",index_col=0)"
   ]
  },
  {
   "cell_type": "code",
   "execution_count": 37,
   "metadata": {
    "tags": []
   },
   "outputs": [],
   "source": [
    "# create language name column\n",
    "\n",
    "geo_dat=geo_dat.rename(columns={\"Language\":\"language\"})\n",
    "\n",
    "geo_dat=geo_dat.merge(language_labels,on='language',how=\"right\")"
   ]
  },
  {
   "cell_type": "code",
   "execution_count": 38,
   "metadata": {
    "tags": []
   },
   "outputs": [],
   "source": [
    "%load_ext rpy2.ipython"
   ]
  },
  {
   "cell_type": "code",
   "execution_count": 39,
   "metadata": {},
   "outputs": [
    {
     "data": {
      "text/plain": [
       "── Attaching packages ─────────────────────────────────────── tidyverse 1.3.1 ──\n",
       "✔ ggplot2 3.4.2     ✔ purrr   1.0.1\n",
       "✔ tibble  3.2.1     ✔ dplyr   1.1.2\n",
       "✔ tidyr   1.3.0     ✔ stringr 1.5.0\n",
       "✔ readr   2.1.4     ✔ forcats 1.0.0\n",
       "── Conflicts ────────────────────────────────────────── tidyverse_conflicts() ──\n",
       "✖ dplyr::filter() masks stats::filter()\n",
       "✖ dplyr::lag()    masks stats::lag()\n"
      ]
     },
     "metadata": {},
     "output_type": "display_data"
    }
   ],
   "source": [
    "%%R \n",
    "\n",
    "library(\"tidyverse\")\n",
    "library(\"cowplot\")\n",
    "library(\"repr\")\n",
    "\n",
    "theme_black = function(base_size = 11, base_family = \"\") {\n",
    " \n",
    "  theme_grey(base_size = base_size, base_family = base_family) %+replace%\n",
    " \n",
    "    theme(\n",
    "      # Specify axis options\n",
    "      axis.line = element_line(colour = \"white\"),  \n",
    "      axis.text.x = element_text(color = \"white\",margin = margin(2, 2, 2, 2),size=8),  \n",
    "      axis.text.y = element_text(color = \"white\",hjust=1,margin = margin(2, 2, 2, 2)),  \n",
    "      axis.ticks = element_line(color = \"white\"),  \n",
    "      axis.title.x = element_text(size = base_size, color = \"white\"),  \n",
    "      axis.title.y = element_text(size = base_size, color = \"white\", angle = 90,margin = margin(0, 10, 0, 0)),  \n",
    "      # Specify legend options\n",
    "      legend.background = element_rect(color = NA, fill = \"black\"),  \n",
    "      legend.key = element_rect(color = \"white\",  fill = \"black\"),  \n",
    "      legend.key.size = unit(1.2, \"lines\"),  \n",
    "      legend.key.height = NULL,  \n",
    "      legend.key.width = NULL,      \n",
    "      legend.text = element_text(size = base_size*0.8, color = \"white\"),  \n",
    "      legend.title = element_text(size = base_size*0.8, face = \"bold\", hjust = 0, color = \"white\"),  \n",
    "      legend.position = \"right\",  \n",
    "      legend.text.align = NULL,  \n",
    "      legend.title.align = NULL,  \n",
    "      legend.direction = \"vertical\",  \n",
    "      legend.box = NULL, \n",
    "      # Specify panel options\n",
    "      panel.background = element_blank(),  \n",
    "      panel.border = element_blank(),  \n",
    "      panel.grid.major = element_blank(),  \n",
    "      panel.grid.minor = element_blank(),  \n",
    "#       panel.margin = unit(0.5, \"lines\"),   \n",
    "      # Specify facetting options\n",
    "      strip.background = element_rect(fill = \"black\", color = \"white\"),  \n",
    "      strip.text.x = element_text( color = \"white\"),  \n",
    "      strip.text.y = element_text(size = base_size*0.8, color = \"white\",angle = -90),  \n",
    "      # Specify plot options\n",
    "      plot.background = element_rect(color = \"black\", fill = \"black\"),  \n",
    "      plot.title = element_text(size = base_size, color = \"white\"),  \n",
    "      plot.margin = unit(rep(1, 4), \"lines\")\n",
    " \n",
    "    )\n",
    " \n",
    "}"
   ]
  },
  {
   "cell_type": "code",
   "execution_count": 40,
   "metadata": {
    "tags": []
   },
   "outputs": [
    {
     "data": {
      "text/plain": [
       "In addition: Warning messages:\n",
       "1: The `size` argument of `element_rect()` is deprecated as of ggplot2 3.4.0.\n",
       "ℹ Please use the `linewidth` argument instead.\n",
       "This warning is displayed once every 8 hours.\n",
       "Call `lifecycle::last_lifecycle_warnings()` to see where this warning was\n",
       "generated. \n",
       "2: Removed 1 rows containing missing values (`geom_point()`). \n"
      ]
     },
     "metadata": {},
     "output_type": "display_data"
    }
   ],
   "source": [
    "%%R -i geo_dat\n",
    "\n",
    "options(repr.plot.width=11.7, repr.plot.height=6.2)\n",
    "\n",
    "geo_dat <- geo_dat %>%\n",
    "    mutate(lang_fam_abbrv = recode(Language_Family,\n",
    "                                   `Indo-European` = \"I-E\",\n",
    "                                   `Uralic` = \"U\",\n",
    "                                   `Japonic` = \"J\",\n",
    "                                   `Koreanic` = \"K\",\n",
    "                                   `Sino-Tibetan` = \"S-T\"),\n",
    "           Language_label = Language_name,\n",
    "           Language_label = paste0(Language_label,\" (\",lang_fam_abbrv,\")\"))\n",
    "\n",
    "mp <- NULL\n",
    "\n",
    "mapWorld <- borders(\"world\",\n",
    "                    colour = \"white\",\n",
    "#                     colour=\"gray50\", # with white background\n",
    "                    fill=\"gray75\") # create a layer of borders\n",
    "\n",
    "mp <- ggplot() + mapWorld\n",
    "\n",
    "mp <- mp +\n",
    "      geom_point(aes(x=geo_dat$longitude, y=geo_dat$latitude,color=geo_dat$Language_label), size=3) +\n",
    "      # theme_black() +\n",
    "      theme_void() +\n",
    "      theme(text = element_text(size=16),\n",
    "            #plot.background = element_rect(fill = \"black\"),\n",
    "            legend.title = element_blank(),\n",
    "            legend.position = c(0.91, 0.55),\n",
    "            legend.background = element_rect(fill=alpha(\"white\",0.90),\n",
    "                                             size=0, linetype=\"dotted\",\n",
    "                                             colour = \"white\"),\n",
    "            legend.text=element_text(size=16,colour=\"black\"))\n",
    "\n",
    "ggsave(\"../figures/geo_dat.pdf\", width = 11.7, height = 6.2,dpi = 1200, scale = 1.2)\n",
    "# ggsave(\"../figures/geo_dat_black.pdf\", width = 11.7, height = 6.2,dpi = 1200)"
   ]
  },
  {
   "attachments": {},
   "cell_type": "markdown",
   "metadata": {},
   "source": [
    "----\n",
    "\n",
    "#### Child age distribution"
   ]
  },
  {
   "cell_type": "code",
   "execution_count": 41,
   "metadata": {
    "tags": []
   },
   "outputs": [],
   "source": [
    "%%R -i age_counts\n",
    "\n",
    "p <- ggplot(data=age_counts, aes(x = target_child_age, fill = Language_name)) +\n",
    "     geom_histogram(binwidth=2.5) +\n",
    "     facet_wrap(. ~ Language_name,ncol = 7) +\n",
    "     theme_classic() + theme(text = element_text(size=16),\n",
    "                             legend.title = element_blank(),\n",
    "                             legend.background = element_rect(fill=alpha(\"white\",0.90),\n",
    "                                                            size=0, linetype=\"dotted\",\n",
    "                                                            colour = \"white\"),\n",
    "                             legend.text=element_text(size=16)) +\n",
    "     labs(x = \"Child age (months)\", y = \"Freq\")\n",
    "    \n",
    "     ggsave(\"../figures/age_hist.pdf\", width = 11.7, height = 6.2)"
   ]
  },
  {
   "cell_type": "code",
   "execution_count": 42,
   "metadata": {},
   "outputs": [],
   "source": [
    "rand_dat_inc_age = rand_dat_inc.groupby(['Language_name','transcript_id','target_child_id','target_child_age']).nunique().reset_index()\n",
    "rand_dat_inc_age = rand_dat_inc_age[['Language_name','transcript_id','target_child_id','target_child_age']]"
   ]
  },
  {
   "cell_type": "code",
   "execution_count": 43,
   "metadata": {
    "tags": []
   },
   "outputs": [
    {
     "name": "stdout",
     "output_type": "stream",
     "text": [
      "# A tibble: 14 × 7\n",
      "   Language_name transcript_id_mean target_child_id_mean target_child_age_mean\n",
      "   <chr>                      <dbl>                <dbl>                 <dbl>\n",
      " 1 Croatian                  29222.               18280.                  23.6\n",
      " 2 English                   16683.                8523.                  17.6\n",
      " 3 Estonian                  20280.               12790.                  23.7\n",
      " 4 French                    45915.               24016.                  21.6\n",
      " 5 German                    31008                19117.                  25.9\n",
      " 6 Japanese                  21770.               13970.                  22.0\n",
      " 7 Korean                    28157.               17372                   21.8\n",
      " 8 Mandarin                  16830.               10061                   21.2\n",
      " 9 Norwegian                 44957.               23625.                  16.9\n",
      "10 Persian                   20942.               13594                   26.8\n",
      "11 Polish                    49733                25298                   22.7\n",
      "12 Portuguese                23252.               14773.                  23.8\n",
      "13 Spanish                   12303.                6093.                  23.6\n",
      "14 Swedish                   11486.                5850.                  22.8\n",
      "# ℹ 3 more variables: transcript_id_std.error <dbl>,\n",
      "#   target_child_id_std.error <dbl>, target_child_age_std.error <dbl>\n"
     ]
    },
    {
     "data": {
      "text/plain": [
       "In addition: Warning message:\n",
       "`funs()` was deprecated in dplyr 0.8.0.\n",
       "ℹ Please use a list of either functions or lambdas:\n",
       "\n",
       "# Simple named list: list(mean = mean, median = median)\n",
       "\n",
       "# Auto named with `tibble::lst()`: tibble::lst(mean, median)\n",
       "\n",
       "# Using lambdas list(~ mean(., trim = .2), ~ median(., na.rm = TRUE))\n",
       "Call `lifecycle::last_lifecycle_warnings()` to see where this warning was\n",
       "generated. \n"
      ]
     },
     "metadata": {},
     "output_type": "display_data"
    }
   ],
   "source": [
    "%%R -i rand_dat_inc_age\n",
    "\n",
    "library('plotrix')\n",
    "library('dplyr')\n",
    "\n",
    "age_summary <- rand_dat_inc_age %>% group_by(Language_name) %>%\n",
    "    summarise_all(funs(mean,std.error))\n",
    "age_summary"
   ]
  },
  {
   "cell_type": "code",
   "execution_count": 44,
   "metadata": {
    "tags": []
   },
   "outputs": [
    {
     "data": {
      "text/plain": [
       "In addition: Warning messages:\n",
       "1: Using `size` aesthetic for lines was deprecated in ggplot2 3.4.0.\n",
       "ℹ Please use `linewidth` instead.\n",
       "This warning is displayed once every 8 hours.\n",
       "Call `lifecycle::last_lifecycle_warnings()` to see where this warning was\n",
       "generated. \n",
       "2: Removed 1 rows containing missing values (`geom_errorbarh()`). \n"
      ]
     },
     "metadata": {},
     "output_type": "display_data"
    }
   ],
   "source": [
    "%%R\n",
    "\n",
    "library('ggplot2')\n",
    "\n",
    "\n",
    "p <- ggplot(data=age_summary, aes(x = target_child_age_mean,\n",
    "                                  y=Language_name, moe = target_child_age_std.error,\n",
    "                                  color = Language_name)) +\n",
    "     geom_point(aes(x = target_child_age_mean), size = 3) +\n",
    "     geom_errorbarh(aes(xmin = target_child_age_mean - target_child_age_std.error,\n",
    "                        xmax = target_child_age_mean + target_child_age_std.error), height = 0.5, size = 2) +\n",
    "     theme_classic() + theme(text = element_text(size=16),\n",
    "                             legend.title = element_blank(),\n",
    "                             legend.background = element_rect(fill=alpha(\"white\",0.90),\n",
    "                                                            size=0, linetype=\"dotted\",\n",
    "                                                            colour = \"white\"),\n",
    "                             legend.text=element_text(size=16)) +\n",
    "     labs(x = \"Child age (months)\", y = \"Language\") +\n",
    "     scale_y_discrete(limits=rev)\n",
    "     ggsave(\"../figures/age_line.pdf\", width = 11.7, height = 6.2)"
   ]
  },
  {
   "cell_type": "markdown",
   "metadata": {},
   "source": [
    "----\n",
    "\n",
    "#### Contingency assignment"
   ]
  },
  {
   "cell_type": "markdown",
   "metadata": {},
   "source": [
    "Using a contingency window of 3 to start:"
   ]
  },
  {
   "cell_type": "code",
   "execution_count": 45,
   "metadata": {
    "tags": []
   },
   "outputs": [],
   "source": [
    "# .001 buffer time to ensure that caregiver utterances that begin at the same moment as infant vocalizations are not artificially counted as contingent\n",
    "\n",
    "rand_dat_inc = contingent_extraction.assign_contingency(rand_dat_inc,3,.001) "
   ]
  },
  {
   "cell_type": "code",
   "execution_count": 46,
   "metadata": {},
   "outputs": [],
   "source": [
    "rand_dat_inc.to_csv(\"../data/rand_dat_inc_master.csv\")"
   ]
  },
  {
   "cell_type": "markdown",
   "metadata": {},
   "source": [
    "Number of contingent and non-contingent words (tokens)"
   ]
  },
  {
   "cell_type": "code",
   "execution_count": 47,
   "metadata": {},
   "outputs": [],
   "source": [
    "rand_dat_inc = pd.read_csv(\"../data/rand_dat_inc_master.csv\",index_col=0,low_memory=False)\n",
    "rand_dat_inc=rand_dat_inc[rand_dat_inc[\"language\"]!=\"ara\"]\n",
    "rand_dat_inc=rand_dat_inc[(rand_dat_inc[\"target_child_age\"]>=5) & (rand_dat_inc[\"target_child_age\"]<=30)]\n",
    "\n",
    "rand_dat_inc_cg = rand_dat_inc[rand_dat_inc[\"caregiver\"]==\"caregiver\"]\n",
    "\n",
    "rand_dat_inc_cg[\"contingent\"] = np.where(rand_dat_inc_cg[\"contingent\"]==1, \"contingent\", \"non-contingent\")\n",
    "\n",
    "rand_dat_inc_cg = rand_dat_inc_cg[rand_dat_inc_cg[\"gloss\"].notna()]\n",
    "rand_dat_inc_cg = rand_dat_inc_cg[rand_dat_inc_cg[\"gloss\"]!=\"xxx\"]\n",
    "rand_dat_inc_cg = rand_dat_inc_cg[rand_dat_inc_cg[\"gloss\"]!=\"yyy\"]\n",
    "rand_dat_inc_cg = rand_dat_inc_cg[rand_dat_inc_cg[\"gloss\"]!=\"www\"]"
   ]
  },
  {
   "cell_type": "code",
   "execution_count": 48,
   "metadata": {},
   "outputs": [
    {
     "name": "stdout",
     "output_type": "stream",
     "text": [
      "|    | language   | contingent     |   count |\n",
      "|---:|:-----------|:---------------|--------:|\n",
      "|  0 | deu        | contingent     |    1716 |\n",
      "|  1 | deu        | non-contingent |    2736 |\n",
      "|  2 | eng        | contingent     |   17715 |\n",
      "|  3 | eng        | non-contingent |   82344 |\n",
      "|  4 | est        | contingent     |     940 |\n",
      "|  5 | est        | non-contingent |    1538 |\n",
      "|  6 | fas        | contingent     |     136 |\n",
      "|  7 | fas        | non-contingent |     516 |\n",
      "|  8 | fra        | contingent     |    5494 |\n",
      "|  9 | fra        | non-contingent |   15684 |\n",
      "| 10 | hrv        | contingent     |    2472 |\n",
      "| 11 | hrv        | non-contingent |    3769 |\n",
      "| 12 | jpn        | contingent     |    9877 |\n",
      "| 13 | jpn        | non-contingent |   15247 |\n",
      "| 14 | kor        | contingent     |    1554 |\n",
      "| 15 | kor        | non-contingent |    3061 |\n",
      "| 16 | nor        | contingent     |     735 |\n",
      "| 17 | nor        | non-contingent |    1242 |\n",
      "| 18 | pol        | contingent     |      23 |\n",
      "| 19 | pol        | non-contingent |      29 |\n",
      "| 20 | por        | contingent     |    1070 |\n",
      "| 21 | por        | non-contingent |    1592 |\n",
      "| 22 | spa        | contingent     |    2340 |\n",
      "| 23 | spa        | non-contingent |    2035 |\n",
      "| 24 | swe        | contingent     |    1187 |\n",
      "| 25 | swe        | non-contingent |    1569 |\n",
      "| 26 | zho        | contingent     |      77 |\n",
      "| 27 | zho        | non-contingent |     301 |\n"
     ]
    }
   ],
   "source": [
    "# how many contingent and non-contingent total words per language\n",
    "\n",
    "contingent_noncontingent_counts = rand_dat_inc_cg.groupby(['language','contingent']).size().to_frame('count').reset_index()\n",
    "\n",
    "print(contingent_noncontingent_counts.to_markdown())"
   ]
  },
  {
   "cell_type": "code",
   "execution_count": 41,
   "metadata": {
    "tags": []
   },
   "outputs": [
    {
     "name": "stdout",
     "output_type": "stream",
     "text": [
      "|    | language   | contingent     |     means |\n",
      "|---:|:-----------|:---------------|----------:|\n",
      "|  0 | deu        | contingent     |  41.3158  |\n",
      "|  1 | deu        | non-contingent |  69.5263  |\n",
      "|  2 | eng        | contingent     |  17.2683  |\n",
      "|  3 | eng        | non-contingent |  86.4679  |\n",
      "|  4 | est        | contingent     |  29.2727  |\n",
      "|  5 | est        | non-contingent |  60.7273  |\n",
      "|  6 | fas        | contingent     |   6.45455 |\n",
      "|  7 | fas        | non-contingent |  38.3636  |\n",
      "|  8 | fra        | contingent     |  17.2952  |\n",
      "|  9 | fra        | non-contingent |  54.3818  |\n",
      "| 10 | hrv        | contingent     |  30.0517  |\n",
      "| 11 | hrv        | non-contingent |  58.9483  |\n",
      "| 12 | jpn        | contingent     |  53       |\n",
      "| 13 | jpn        | non-contingent |  91.1625  |\n",
      "| 14 | kor        | contingent     |  37.8571  |\n",
      "| 15 | kor        | non-contingent |  95.7857  |\n",
      "| 16 | nor        | contingent     |  24       |\n",
      "| 17 | nor        | non-contingent |  50.4348  |\n",
      "| 18 | pol        | contingent     |  19       |\n",
      "| 19 | pol        | non-contingent |  24       |\n",
      "| 20 | por        | contingent     |  39.9565  |\n",
      "| 21 | por        | non-contingent |  62.913   |\n",
      "| 22 | spa        | contingent     |  53.6333  |\n",
      "| 23 | spa        | non-contingent |  62.8333  |\n",
      "| 24 | swe        | contingent     |  63.0625  |\n",
      "| 25 | swe        | non-contingent |  88.6875  |\n",
      "| 26 | zho        | contingent     |  27       |\n",
      "| 27 | zho        | non-contingent | 119.5     |\n"
     ]
    }
   ],
   "source": [
    "# average number of total contingent and non-contingent words per transcript across languages\n",
    "\n",
    "contingent_noncontingent_count_avgs = rand_dat_inc_cg.groupby(['language','contingent','transcript_id']).size().to_frame('count').reset_index()\n",
    "\n",
    "contingent_noncontingent_count_avgs =  contingent_noncontingent_count_avgs.rename({'count': 'counts'}, axis=1)\n",
    "\n",
    "contingent_noncontingent_count_avgs = (contingent_noncontingent_count_avgs.groupby([\"language\",\"contingent\"])\n",
    "                                       .counts\n",
    "                                       .agg([\"mean\"])\n",
    "                                       .reset_index())\n",
    "\n",
    "contingent_noncontingent_count_avgs =  contingent_noncontingent_count_avgs.rename({'mean': 'means'}, axis=1)\n",
    "\n",
    "print(contingent_noncontingent_count_avgs.to_markdown())"
   ]
  },
  {
   "cell_type": "markdown",
   "metadata": {},
   "source": [
    "Context proportions across languages"
   ]
  },
  {
   "cell_type": "code",
   "execution_count": 49,
   "metadata": {},
   "outputs": [],
   "source": [
    "context_dat = pd.read_csv(\"../data/context_data.csv\")\n",
    "context_dat=context_dat.rename(columns={\"Language\":\"Language_name\"})\n",
    "context_dat=context_dat.rename(columns={\"Corpus\":\"corpus_name\"})"
   ]
  },
  {
   "cell_type": "code",
   "execution_count": 50,
   "metadata": {},
   "outputs": [],
   "source": [
    "rand_dat_inc=rand_dat_inc.merge(context_dat,on='corpus_name',how=\"right\")"
   ]
  },
  {
   "cell_type": "code",
   "execution_count": 51,
   "metadata": {},
   "outputs": [],
   "source": [
    "rand_dat_inc[\"Location\"] = rand_dat_inc[\"Location\"].fillna(\"NaN\")\n",
    "rand_dat_inc[\"Activity\"] = rand_dat_inc[\"Activity\"].fillna(\"NaN\")"
   ]
  },
  {
   "cell_type": "code",
   "execution_count": 52,
   "metadata": {},
   "outputs": [],
   "source": [
    "rand_dat_inc[\"context\"] = rand_dat_inc[\"Location\"] + rand_dat_inc[\"Activity\"]"
   ]
  },
  {
   "cell_type": "code",
   "execution_count": 53,
   "metadata": {},
   "outputs": [
    {
     "data": {
      "text/plain": [
       "array(['LabUnstructured', 'OtherUnstructured', 'HomeUnstructured',\n",
       "       'HomeOther', 'LabInterview/Unstructured', 'HomeNaN', 'NaNNaN',\n",
       "       'HomeBook-reading', 'HomeInterview/Unstructured'], dtype=object)"
      ]
     },
     "execution_count": 53,
     "metadata": {},
     "output_type": "execute_result"
    }
   ],
   "source": [
    "rand_dat_inc[\"context\"].unique()"
   ]
  },
  {
   "cell_type": "code",
   "execution_count": 54,
   "metadata": {},
   "outputs": [],
   "source": [
    "rand_dat_inc=rand_dat_inc.rename(columns={\"Language_name_x\":\"Language_name\"})"
   ]
  },
  {
   "cell_type": "code",
   "execution_count": 55,
   "metadata": {},
   "outputs": [],
   "source": [
    "# How many transcripts per corpora per different context\n",
    "\n",
    "context_counts = rand_dat_inc.groupby(['Language_name','context','transcript_id']).nunique().reset_index()"
   ]
  },
  {
   "cell_type": "code",
   "execution_count": 56,
   "metadata": {},
   "outputs": [
    {
     "name": "stdout",
     "output_type": "stream",
     "text": [
      "|    | Language_name   | context                    |   count |\n",
      "|---:|:----------------|:---------------------------|--------:|\n",
      "|  0 | Croatian        | HomeUnstructured           |      58 |\n",
      "|  1 | English         | HomeOther                  |      20 |\n",
      "|  2 | English         | HomeUnstructured           |     340 |\n",
      "|  3 | English         | LabInterview/Unstructured  |     368 |\n",
      "|  4 | English         | LabUnstructured            |      26 |\n",
      "|  5 | English         | OtherUnstructured          |     128 |\n",
      "|  6 | Estonian        | HomeUnstructured           |      22 |\n",
      "|  7 | French          | HomeUnstructured           |     238 |\n",
      "|  8 | French          | NaNNaN                     |      41 |\n",
      "|  9 | German          | HomeUnstructured           |      38 |\n",
      "| 10 | Japanese        | HomeUnstructured           |     107 |\n",
      "| 11 | Japanese        | NaNNaN                     |      53 |\n",
      "| 12 | Korean          | HomeBook-reading           |      28 |\n",
      "| 13 | Mandarin        | HomeUnstructured           |       2 |\n",
      "| 14 | Norwegian       | HomeUnstructured           |      28 |\n",
      "| 15 | Persian         | HomeNaN                    |      11 |\n",
      "| 16 | Polish          | HomeInterview/Unstructured |       1 |\n",
      "| 17 | Portuguese      | HomeUnstructured           |      23 |\n",
      "| 18 | Spanish         | HomeUnstructured           |      30 |\n",
      "| 19 | Swedish         | HomeUnstructured           |      16 |\n"
     ]
    }
   ],
   "source": [
    "count_table = context_counts.groupby(['Language_name','context']).size().to_frame('count').reset_index()\n",
    "\n",
    "print(count_table.to_markdown())"
   ]
  },
  {
   "cell_type": "code",
   "execution_count": 57,
   "metadata": {},
   "outputs": [],
   "source": [
    "count_table.to_csv(\"../data/context_counts_subject_level.csv\")"
   ]
  }
 ],
 "metadata": {
  "kernelspec": {
   "display_name": "Python 3.10.7 64-bit",
   "language": "python",
   "name": "python3"
  },
  "language_info": {
   "codemirror_mode": {
    "name": "ipython",
    "version": 3
   },
   "file_extension": ".py",
   "mimetype": "text/x-python",
   "name": "python",
   "nbconvert_exporter": "python",
   "pygments_lexer": "ipython3",
   "version": "3.11.5"
  },
  "vscode": {
   "interpreter": {
    "hash": "aee8b7b246df8f9039afb4144a1f6fd8d2ca17a180786b69acc140d282b71a49"
   }
  }
 },
 "nbformat": 4,
 "nbformat_minor": 5
}
