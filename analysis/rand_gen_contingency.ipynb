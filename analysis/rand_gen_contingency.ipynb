{
 "cells": [
  {
   "cell_type": "markdown",
   "metadata": {},
   "source": [
    "# Natural Statistics Cross-linguistic\n",
    "\n",
    "Random samples contingency variable generation."
   ]
  },
  {
   "cell_type": "code",
   "execution_count": 3,
   "metadata": {},
   "outputs": [],
   "source": [
    "import pandas as pd\n",
    "import numpy as np\n",
    "import sys\n",
    "sys.path.insert(0, \"data_proc\")\n",
    "import contingent_extraction\n",
    "import warnings\n",
    "warnings.filterwarnings('ignore')"
   ]
  },
  {
   "cell_type": "code",
   "execution_count": 4,
   "metadata": {
    "tags": []
   },
   "outputs": [],
   "source": [
    "# import extracted data\n",
    "rand_dat = pd.read_csv(\"../data/rand_dat.csv\",index_col=0, low_memory=False)"
   ]
  },
  {
   "cell_type": "code",
   "execution_count": 5,
   "id": "5e0ffa3e",
   "metadata": {},
   "outputs": [],
   "source": [
    "# import persian and drop persian from rand_dat\n",
    "\n",
    "pers_dat = pd.read_csv(\"../data/pers_dat.csv\",index_col=0, low_memory=False)\n",
    "rand_dat = rand_dat[rand_dat[\"language\"] != \"fas\"]\n",
    "rand_dat = pd.concat([rand_dat, pers_dat]) # all and new persian"
   ]
  },
  {
   "cell_type": "code",
   "execution_count": 6,
   "metadata": {},
   "outputs": [],
   "source": [
    "# inspect data:\n",
    "# rand_dat.head()"
   ]
  },
  {
   "cell_type": "markdown",
   "metadata": {},
   "source": [
    "----\n",
    "\n",
    "#### How many languages are we analyzing?"
   ]
  },
  {
   "cell_type": "code",
   "execution_count": 7,
   "metadata": {},
   "outputs": [
    {
     "data": {
      "text/plain": [
       "18"
      ]
     },
     "execution_count": 7,
     "metadata": {},
     "output_type": "execute_result"
    }
   ],
   "source": [
    "rand_dat[\"language\"].unique() # list of all langauges across corpora\n",
    "int_rand_dat = rand_dat[~rand_dat[\"language\"].str.contains(\"eng\")]\n",
    "int_rand_dat[\"language\"].unique() # list of all languages that don't contain `eng` in language name\n",
    "len(int_rand_dat[\"language\"].unique()) # language count"
   ]
  },
  {
   "cell_type": "markdown",
   "metadata": {},
   "source": [
    "15 languages + 1 (`eng`) - 1 (`por swe`). Thus, **15 langauges**! `por swe` (Portugese and Swedish) is removed because we will only analyze monolingual corpora first."
   ]
  },
  {
   "cell_type": "markdown",
   "metadata": {},
   "source": [
    "----\n",
    "\n",
    "#### How many participants are we analyzing?\n",
    "\n",
    "Get only monolingual corpora to finalize rand_dat dataframe."
   ]
  },
  {
   "cell_type": "code",
   "execution_count": 8,
   "metadata": {},
   "outputs": [],
   "source": [
    "eng_rand_dat = rand_dat[rand_dat[\"language\"]==\"eng\"] # only english\n",
    "rand_dat_inc = pd.concat([eng_rand_dat, int_rand_dat]) # english and non-english\n",
    "rand_dat_inc = rand_dat_inc[rand_dat_inc[\"language\"]!= \"por swe\"] # exclude bilingual (por swe)"
   ]
  },
  {
   "cell_type": "code",
   "execution_count": 9,
   "metadata": {},
   "outputs": [],
   "source": [
    "rand_dat_inc=rand_dat_inc[rand_dat_inc[\"language\"]!=\"ara\"]\n",
    "rand_dat_inc=rand_dat_inc[(rand_dat_inc[\"target_child_age\"]>=5) & (rand_dat_inc[\"target_child_age\"]<=30)] # exclude under 5- and over 30-month-olds"
   ]
  },
  {
   "attachments": {},
   "cell_type": "markdown",
   "id": "0b43a042",
   "metadata": {},
   "source": [
    "----\n",
    "#### Transcript cleanse"
   ]
  },
  {
   "cell_type": "code",
   "execution_count": 10,
   "id": "5b354f35",
   "metadata": {},
   "outputs": [],
   "source": [
    "#\n",
    "# create 'caregiver' column\n",
    "#\n",
    "# add to this to include more speakers in \"caregiver\" category\n",
    "#\n",
    "\n",
    "conditions = [\n",
    "    (rand_dat_inc[\"speaker_role\"]==\"Mother\") | (rand_dat_inc[\"speaker_role\"]==\"Father\"),\n",
    "    (rand_dat_inc[\"speaker_role\"]==\"Target_Child\")]\n",
    "\n",
    "choices = ['caregiver', 'target_child']\n",
    "\n",
    "rand_dat_inc['caregiver'] = np.select(conditions, choices, default='other')\n",
    "\n",
    "# drop utterances where transcript = NaN\n",
    "rand_dat_inc = rand_dat_inc.drop(rand_dat_inc[(rand_dat_inc['caregiver'] == 'caregiver') &\n",
    "                                              (rand_dat_inc['gloss'].isna())].index)"
   ]
  },
  {
   "cell_type": "code",
   "execution_count": 11,
   "id": "07ba3af5",
   "metadata": {},
   "outputs": [],
   "source": [
    "# create language_name column\n",
    "\n",
    "language_labels = pd.read_csv(\"../data/language_labels.csv\")\n",
    "\n",
    "language_labels=language_labels.rename(columns={\"Language\":\"language\"})\n",
    "\n",
    "rand_dat_inc=rand_dat_inc.merge(language_labels,on='language',how=\"right\")\n"
   ]
  },
  {
   "cell_type": "code",
   "execution_count": 12,
   "id": "f4bda707",
   "metadata": {},
   "outputs": [],
   "source": [
    "# how many caregiver utterances per caregiver\n",
    "cg_utt_counts = rand_dat_inc.groupby(['Language_name','transcript_id','caregiver']).size().unstack(fill_value=0).reset_index()\n",
    "\n",
    "# how many transcripts with less than 5 caregiver utterances\n",
    "cg_utt_counts = cg_utt_counts[cg_utt_counts['caregiver'] < 5]\n",
    "# inspect data:\n",
    "# print(cg_utt_counts.to_markdown())"
   ]
  },
  {
   "cell_type": "code",
   "execution_count": 13,
   "id": "5dcad740",
   "metadata": {},
   "outputs": [],
   "source": [
    "# drop transcripts with less than 5 caregiver utterances\n",
    "cg_excluders = list(cg_utt_counts[\"transcript_id\"])\n",
    "\n",
    "rand_dat_inc = rand_dat_inc[~rand_dat_inc['transcript_id'].isin(cg_excluders)]"
   ]
  },
  {
   "cell_type": "code",
   "execution_count": 14,
   "id": "a91d45e9",
   "metadata": {},
   "outputs": [],
   "source": [
    "# how many target child utterances per transcript\n",
    "tc_utt_counts = rand_dat_inc.groupby(['Language_name','transcript_id','caregiver']).size().unstack(fill_value=0).reset_index()\n",
    "tc_utt_counts = tc_utt_counts[tc_utt_counts['target_child'] < 5]\n",
    "# inspect data:\n",
    "# print(tc_utt_counts.to_markdown())"
   ]
  },
  {
   "cell_type": "code",
   "execution_count": 15,
   "id": "b4945c00",
   "metadata": {},
   "outputs": [],
   "source": [
    "# drop transcripts with less than 5 target child utterances\n",
    "tc_excluders = list(tc_utt_counts[\"transcript_id\"])\n",
    "\n",
    "rand_dat_inc = rand_dat_inc[~rand_dat_inc['transcript_id'].isin(tc_excluders)]"
   ]
  },
  {
   "cell_type": "code",
   "execution_count": 16,
   "metadata": {
    "tags": []
   },
   "outputs": [
    {
     "name": "stdout",
     "output_type": "stream",
     "text": [
      "There are 13 different monolingual languages in this dataset.\n",
      "There are 435 infants in this dataset.\n",
      "There are 1577 different transcripts in this dataset\n"
     ]
    }
   ],
   "source": [
    "print(\"There are\", \n",
    "      len(rand_dat_inc[\"language\"].unique()),\n",
    "      \"different monolingual languages in this dataset.\")\n",
    "\n",
    "print(\"There are\",\n",
    "      len(rand_dat_inc[\"target_child_id\"].unique()),\n",
    "      \"infants in this dataset.\")\n",
    "\n",
    "print(\"There are\",\n",
    "      len(rand_dat_inc[\"transcript_id\"].unique()),\n",
    "      \"different transcripts in this dataset\")"
   ]
  },
  {
   "cell_type": "code",
   "execution_count": 17,
   "metadata": {
    "tags": []
   },
   "outputs": [],
   "source": [
    "# how many children per language\n",
    "child_counts = rand_dat_inc.groupby(['language','target_child_id']).nunique()\n",
    "count_table = child_counts.groupby(['language']).size().to_frame('count').reset_index()\n",
    "# inspect data:\n",
    "# print(count_table.to_markdown())"
   ]
  },
  {
   "cell_type": "code",
   "execution_count": 18,
   "metadata": {
    "tags": []
   },
   "outputs": [
    {
     "name": "stdout",
     "output_type": "stream",
     "text": [
      "|    | Language_name   |   count |\n",
      "|---:|:----------------|--------:|\n",
      "|  0 | Croatian        |      58 |\n",
      "|  1 | English         |     882 |\n",
      "|  2 | Estonian        |      22 |\n",
      "|  3 | French          |     279 |\n",
      "|  4 | German          |      38 |\n",
      "|  5 | Japanese        |     160 |\n",
      "|  6 | Korean          |      28 |\n",
      "|  7 | Norwegian       |      28 |\n",
      "|  8 | Persian         |      12 |\n",
      "|  9 | Portuguese      |      23 |\n",
      "| 10 | Spanish         |      30 |\n",
      "| 11 | Swedish         |      16 |\n"
     ]
    }
   ],
   "source": [
    "# how many transcripts per language\n",
    "transcript_counts = rand_dat_inc.groupby(['Language_name','transcript_id']).nunique()\n",
    "count_table = transcript_counts.groupby(['Language_name']).size().to_frame('count').reset_index()\n",
    "print(count_table.to_markdown())"
   ]
  },
  {
   "cell_type": "code",
   "execution_count": 19,
   "metadata": {
    "tags": []
   },
   "outputs": [],
   "source": [
    "# how many transcripts per language\n",
    "transcript_x_child_counts = rand_dat_inc.groupby(['language','transcript_id','target_child_id']).nunique()\n",
    "transcript_x_child_count_table = transcript_x_child_counts.groupby(['language','target_child_id']).size().to_frame('count').reset_index()\n",
    "# inspect data:\n",
    "# print(transcript_x_child_count_table.to_markdown())"
   ]
  },
  {
   "cell_type": "code",
   "execution_count": 20,
   "id": "eff354e3",
   "metadata": {
    "tags": []
   },
   "outputs": [
    {
     "name": "stdout",
     "output_type": "stream",
     "text": [
      "|    | 0            |\n",
      "|---:|:-------------|\n",
      "|  0 | Leo          |\n",
      "|  1 | Rigol        |\n",
      "|  2 | Peters       |\n",
      "|  3 | Rollins      |\n",
      "|  4 | Bloom        |\n",
      "|  5 | Brent        |\n",
      "|  6 | Nelson       |\n",
      "|  7 | Braunwald    |\n",
      "|  8 | Soderstrom   |\n",
      "|  9 | Sachs        |\n",
      "| 10 | McCune       |\n",
      "| 11 | NewmanRatner |\n",
      "| 12 | MacWhinney   |\n",
      "| 13 | Providence   |\n",
      "| 14 | Argus        |\n",
      "| 15 | Zupping      |\n",
      "| 16 | Family       |\n",
      "| 17 | York         |\n",
      "| 18 | Lyon         |\n",
      "| 19 | Yamaguchi    |\n",
      "| 20 | Paris        |\n",
      "| 21 | Hunkeler     |\n",
      "| 22 | Kovacevic    |\n",
      "| 23 | Ishii        |\n",
      "| 24 | MiiPro       |\n",
      "| 25 | Miyata       |\n",
      "| 26 | Ryu          |\n",
      "| 27 | Garmann      |\n",
      "| 28 | Santos       |\n",
      "| 29 | Nieva        |\n",
      "| 30 | Remedi       |\n",
      "| 31 | Lund         |\n",
      "| 32 | Andren       |\n",
      "| 33 | nan          |\n"
     ]
    }
   ],
   "source": [
    "# how many corpora\n",
    "corpora = pd.DataFrame(rand_dat_inc[\"corpus_name\"].unique())\n",
    "# inspect data:\n",
    "print(corpora.to_markdown())"
   ]
  },
  {
   "cell_type": "code",
   "execution_count": 21,
   "id": "88e90309",
   "metadata": {
    "tags": []
   },
   "outputs": [
    {
     "name": "stdout",
     "output_type": "stream",
     "text": [
      "|    | Language_name   | corpus_name   |\n",
      "|---:|:----------------|:--------------|\n",
      "|  0 | Croatian        | Kovacevic     |\n",
      "|  1 | English         | Bloom         |\n",
      "|  2 | English         | Braunwald     |\n",
      "|  3 | English         | Brent         |\n",
      "|  4 | English         | MacWhinney    |\n",
      "|  5 | English         | McCune        |\n",
      "|  6 | English         | Nelson        |\n",
      "|  7 | English         | NewmanRatner  |\n",
      "|  8 | English         | Peters        |\n",
      "|  9 | English         | Providence    |\n",
      "| 10 | English         | Rollins       |\n",
      "| 11 | English         | Sachs         |\n",
      "| 12 | English         | Soderstrom    |\n",
      "| 13 | Estonian        | Argus         |\n",
      "| 14 | Estonian        | Zupping       |\n",
      "| 15 | French          | Hunkeler      |\n",
      "| 16 | French          | Lyon          |\n",
      "| 17 | French          | Paris         |\n",
      "| 18 | French          | Yamaguchi     |\n",
      "| 19 | French          | York          |\n",
      "| 20 | German          | Leo           |\n",
      "| 21 | German          | Rigol         |\n",
      "| 22 | Japanese        | Ishii         |\n",
      "| 23 | Japanese        | MiiPro        |\n",
      "| 24 | Japanese        | Miyata        |\n",
      "| 25 | Korean          | Ryu           |\n",
      "| 26 | Norwegian       | Garmann       |\n",
      "| 27 | Persian         | Family        |\n",
      "| 28 | Portuguese      | Santos        |\n",
      "| 29 | Spanish         | Nieva         |\n",
      "| 30 | Spanish         | Remedi        |\n",
      "| 31 | Swedish         | Andren        |\n",
      "| 32 | Swedish         | Lund          |\n"
     ]
    }
   ],
   "source": [
    "# how many corpora with language names\n",
    "\n",
    "corpora_langs = rand_dat_inc.groupby(['Language_name','corpus_name']).agg(['unique']).reset_index()\n",
    "corpora_langs = corpora_langs.iloc[:, 0:2]\n",
    "corpora_langs.columns.values[0] = \"Language_name\"\n",
    "corpora_langs.columns.values[1] = \"corpus_name\"\n",
    "# inspect data:\n",
    "print(corpora_langs.to_markdown())"
   ]
  },
  {
   "attachments": {},
   "cell_type": "markdown",
   "id": "cdcf0d74",
   "metadata": {},
   "source": [
    "----\n",
    "\n",
    "#### How old are the children?"
   ]
  },
  {
   "cell_type": "code",
   "execution_count": 22,
   "metadata": {
    "tags": []
   },
   "outputs": [
    {
     "data": {
      "text/plain": [
       "<Axes: >"
      ]
     },
     "execution_count": 22,
     "metadata": {},
     "output_type": "execute_result"
    },
    {
     "data": {
      "image/png": "[encoded data removed]",
      "text/plain": [
       "<Figure size 640x480 with 1 Axes>"
      ]
     },
     "metadata": {},
     "output_type": "display_data"
    }
   ],
   "source": [
    "# distribution of age groups\n",
    "ages = rand_dat_inc['target_child_age']\n",
    "# inspect data:\n",
    "ages.hist()"
   ]
  },
  {
   "cell_type": "code",
   "execution_count": 23,
   "id": "d9576b76",
   "metadata": {
    "tags": []
   },
   "outputs": [],
   "source": [
    "age_counts = rand_dat_inc.groupby(['language','transcript_id','target_child_age']).nunique()\n",
    "age_counts = age_counts.iloc[:, 0:2].reset_index()\n",
    "age_counts['target_child_age'].mean()\n",
    "\n",
    "age_counts=age_counts.merge(language_labels,on='language',how=\"right\")"
   ]
  },
  {
   "cell_type": "code",
   "execution_count": 24,
   "id": "a7e0f6af",
   "metadata": {},
   "outputs": [
    {
     "data": {
      "text/plain": [
       "array(['Target_Child', 'Mother', 'Relative', 'Father', 'Investigator',\n",
       "       'Brother', 'Media', 'Visitor', 'Playmate', 'Friend', 'Grandmother',\n",
       "       'Teenager', 'Unidentified', 'Sister', 'Adult', 'Environment',\n",
       "       'Grandfather', 'Caretaker', 'Boy', 'Child', 'Girl', 'Target_Adult',\n",
       "       nan], dtype=object)"
      ]
     },
     "execution_count": 24,
     "metadata": {},
     "output_type": "execute_result"
    }
   ],
   "source": [
    "# what are the speaker roles in the transcripts? (pre cleaning)\n",
    "# inspect data:\n",
    "rand_dat_inc[\"speaker_role\"].unique()"
   ]
  },
  {
   "cell_type": "code",
   "execution_count": 25,
   "metadata": {},
   "outputs": [],
   "source": [
    "# create target child speech only dataframe\n",
    "child_dat = rand_dat_inc[rand_dat_inc[\"speaker_role\"]==\"Target_Child\"]\n",
    "\n",
    "# save only the target child speech to file\n",
    "child_dat.to_csv(\"../data/child_dat.csv\")"
   ]
  },
  {
   "cell_type": "markdown",
   "metadata": {
    "tags": []
   },
   "source": [
    "----\n",
    "#### Geographic distribution\n",
    "\n",
    "Data for Figure 1"
   ]
  },
  {
   "cell_type": "code",
   "execution_count": 26,
   "metadata": {
    "tags": []
   },
   "outputs": [],
   "source": [
    "geo_dat = pd.read_csv(\"../data/langs_and_countries.csv\",index_col=0)"
   ]
  },
  {
   "cell_type": "code",
   "execution_count": 27,
   "metadata": {
    "tags": []
   },
   "outputs": [],
   "source": [
    "# create language name column\n",
    "\n",
    "geo_dat=geo_dat.rename(columns={\"Language\":\"language\"})\n",
    "\n",
    "geo_dat=geo_dat.merge(language_labels,on='language',how=\"right\")"
   ]
  },
  {
   "cell_type": "code",
   "execution_count": 28,
   "metadata": {
    "tags": []
   },
   "outputs": [],
   "source": [
    "%load_ext rpy2.ipython"
   ]
  },
  {
   "cell_type": "code",
   "execution_count": 29,
   "metadata": {},
   "outputs": [
    {
     "name": "stdout",
     "output_type": "stream",
     "text": [
      "── Attaching core tidyverse packages ──────────────────────── tidyverse 2.0.0 ──\n",
      "✔ dplyr     1.1.4     ✔ readr     2.1.5\n",
      "✔ forcats   1.0.0     ✔ stringr   1.5.1\n",
      "✔ ggplot2   3.5.1     ✔ tibble    3.2.1\n",
      "✔ lubridate 1.9.3     ✔ tidyr     1.3.1\n",
      "✔ purrr     1.0.2     \n",
      "── Conflicts ────────────────────────────────────────── tidyverse_conflicts() ──\n",
      "✖ dplyr::filter() masks stats::filter()\n",
      "✖ dplyr::lag()    masks stats::lag()\n",
      "ℹ Use the conflicted package (<http://conflicted.r-lib.org/>) to force all conflicts to become errors\n"
     ]
    },
    {
     "name": "stderr",
     "output_type": "stream",
     "text": [
      "R[write to console]: \n",
      "Attaching package: ‘cowplot’\n",
      "\n",
      "\n",
      "R[write to console]: The following object is masked from ‘package:lubridate’:\n",
      "\n",
      "    stamp\n",
      "\n",
      "\n"
     ]
    }
   ],
   "source": [
    "%%R \n",
    "\n",
    "library(\"tidyverse\")\n",
    "library(\"cowplot\")\n",
    "library(\"repr\")\n",
    "\n",
    "theme_black = function(base_size = 11, base_family = \"\") {\n",
    " \n",
    "  theme_grey(base_size = base_size, base_family = base_family) %+replace%\n",
    " \n",
    "    theme(\n",
    "      # Specify axis options\n",
    "      axis.line = element_line(colour = \"white\"),  \n",
    "      axis.text.x = element_text(color = \"white\",margin = margin(2, 2, 2, 2),size=8),  \n",
    "      axis.text.y = element_text(color = \"white\",hjust=1,margin = margin(2, 2, 2, 2)),  \n",
    "      axis.ticks = element_line(color = \"white\"),  \n",
    "      axis.title.x = element_text(size = base_size, color = \"white\"),  \n",
    "      axis.title.y = element_text(size = base_size, color = \"white\", angle = 90,margin = margin(0, 10, 0, 0)),  \n",
    "      # Specify legend options\n",
    "      legend.background = element_rect(color = NA, fill = \"black\"),  \n",
    "      legend.key = element_rect(color = \"white\",  fill = \"black\"),  \n",
    "      legend.key.size = unit(1.2, \"lines\"),  \n",
    "      legend.key.height = NULL,  \n",
    "      legend.key.width = NULL,      \n",
    "      legend.text = element_text(size = base_size*0.8, color = \"white\"),  \n",
    "      legend.title = element_text(size = base_size*0.8, face = \"bold\", hjust = 0, color = \"white\"),  \n",
    "      legend.position = \"right\",  \n",
    "      legend.text.align = NULL,  \n",
    "      legend.title.align = NULL,  \n",
    "      legend.direction = \"vertical\",  \n",
    "      legend.box = NULL, \n",
    "      # Specify panel options\n",
    "      panel.background = element_blank(),  \n",
    "      panel.border = element_blank(),  \n",
    "      panel.grid.major = element_blank(),  \n",
    "      panel.grid.minor = element_blank(),  \n",
    "#       panel.margin = unit(0.5, \"lines\"),   \n",
    "      # Specify facetting options\n",
    "      strip.background = element_rect(fill = \"black\", color = \"white\"),  \n",
    "      strip.text.x = element_text( color = \"white\"),  \n",
    "      strip.text.y = element_text(size = base_size*0.8, color = \"white\",angle = -90),  \n",
    "      # Specify plot options\n",
    "      plot.background = element_rect(color = \"black\", fill = \"black\"),  \n",
    "      plot.title = element_text(size = base_size, color = \"white\"),  \n",
    "      plot.margin = unit(rep(1, 4), \"lines\")\n",
    " \n",
    "    )\n",
    " \n",
    "}"
   ]
  },
  {
   "cell_type": "code",
   "execution_count": 30,
   "id": "da7929bc",
   "metadata": {},
   "outputs": [
    {
     "name": "stderr",
     "output_type": "stream",
     "text": [
      "R[write to console]: \n",
      "Attaching package: ‘kableExtra’\n",
      "\n",
      "\n",
      "R[write to console]: The following object is masked from ‘package:dplyr’:\n",
      "\n",
      "    group_rows\n",
      "\n",
      "\n"
     ]
    },
    {
     "name": "stdout",
     "output_type": "stream",
     "text": [
      "\n",
      "\n",
      "|   |corpus_name  |language |city                      |  latitude|  longitude|Language_name |Language_Family |Language_Genus | Agglutinative|\n",
      "|:--|:------------|:--------|:-------------------------|---------:|----------:|:-------------|:---------------|:--------------|-------------:|\n",
      "|0  |Rigol        |deu      |Osnabrück, Germany        |  52.27990|    8.04720|German        |Indo-European   |Germanic       |             0|\n",
      "|1  |Bernstein    |eng      |College Park, Maryland    |  38.98720|  -76.94600|English       |Indo-European   |Germanic       |             0|\n",
      "|2  |Peters       |eng      |NA                        |       NaN|        NaN|English       |Indo-European   |Germanic       |             0|\n",
      "|3  |Rollins      |eng      |Dallas, Texas             |  32.77667|  -96.79699|English       |Indo-European   |Germanic       |             0|\n",
      "|4  |Bloom        |eng      |New York City, New York   |  40.71278|  -74.00597|English       |Indo-European   |Germanic       |             0|\n",
      "|5  |Brent        |eng      |Baltimore, Maryland       |  39.29039|  -76.61219|English       |Indo-European   |Germanic       |             0|\n",
      "|6  |Nelson       |eng      |New York City, New York   |  40.71278|  -74.00597|English       |Indo-European   |Germanic       |             0|\n",
      "|7  |Braunwald    |eng      |Irvine, CA                |  33.68457| -117.82651|English       |Indo-European   |Germanic       |             0|\n",
      "|8  |Soderstrom   |eng      |Providence, Rhode Island  |  41.82400|  -71.41280|English       |Indo-European   |Germanic       |             0|\n",
      "|9  |Sachs        |eng      |Storrs, Connecticut       |  41.80840|  -72.24950|English       |Indo-European   |Germanic       |             0|\n",
      "|10 |McCune       |eng      |New Brunswick, New Jersey |  40.48620|  -74.45180|English       |Indo-European   |Germanic       |             0|\n",
      "|11 |NewmanRatner |eng      |College Park, Maryland    |  38.98970|  -76.93780|English       |Indo-European   |Germanic       |             0|\n",
      "|12 |Argus        |est      |Tallinn, Estonia          |  59.43700|   24.75360|Estonian      |Uralic          |Finnic         |             1|\n",
      "|13 |Zupping      |est      |Tartu, Estonia            |  58.37800|   26.72900|Estonian      |Uralic          |Finnic         |             1|\n",
      "|14 |Family       |fas      |Tehran, Iran              |  35.68920|   51.38900|Persian       |Indo-European   |Iranian        |             0|\n",
      "|15 |Lyon         |fra      |Paris, France             |  48.85660|    2.35220|French        |Indo-European   |Romance        |             0|\n",
      "|16 |Paris        |fra      |Paris, France             |  48.85660|    2.35220|French        |Indo-European   |Romance        |             0|\n",
      "|17 |York         |fra      |Liège, Belgium            |  50.63260|    5.57970|French        |Indo-European   |Romance        |             0|\n",
      "|18 |York         |fra      |Paris, France             |  48.85660|    2.35220|French        |Indo-European   |Romance        |             0|\n",
      "|19 |York         |fra      |Montréal, Canada          |  45.50170|  -73.56730|French        |Indo-European   |Romance        |             0|\n",
      "|20 |Yamaguchi    |fra      |Paris, France             |  48.85660|    2.35220|French        |Indo-European   |Romance        |             0|\n",
      "|21 |Hunkeler     |fra      |Mont-Saint-Aignan, France |  49.45980|    1.07980|French        |Indo-European   |Romance        |             0|\n",
      "|22 |Kovacevic    |hrv      |Zagreb, Croatia           |  45.81500|   15.98190|Croatian      |Indo-European   |Savlic         |             0|\n",
      "|23 |Ishii        |jpn      |Kusatsu, Japan            |  36.62070|  138.59610|Japanese      |Japonic         |Japanese       |             1|\n",
      "|24 |MiiPro       |jpn      |Tokyo, Japan              |  35.67620|  139.65030|Japanese      |Japonic         |Japanese       |             1|\n",
      "|25 |Miyata       |jpn      |Nagoya, Japan             |  35.18150|  136.90660|Japanese      |Japonic         |Japanese       |             1|\n",
      "|26 |Ryu          |kor      |Seoul, South Korea        |  37.56650|  126.97800|Korean        |Koreanic        |Korean         |             1|\n",
      "|27 |Garmann      |nor      |Oslo, Norway              |  59.91390|   10.75220|Norwegian     |Indo-European   |Germanic       |             0|\n",
      "|28 |Santos       |por      |Libson, portugal          |  38.72230|   -9.13930|Portuguese    |Indo-European   |Romance        |             0|\n",
      "|29 |Nieva        |spa      |Madrid, Spain             |  40.41680|   -3.70380|Spanish       |Indo-European   |Romance        |             0|\n",
      "|30 |Remedi       |spa      |Córdoba, Argentina        | -31.42010|  -64.18880|Spanish       |Indo-European   |Romance        |             0|\n",
      "|31 |Remedi       |spa      |Rio Cuarto, Argentina     | -33.12320|  -64.34930|Spanish       |Indo-European   |Romance        |             0|\n",
      "|32 |Lund         |swe      |Lund, Sweden              |  55.70470|   13.19100|Swedish       |Indo-European   |Germanic       |             0|\n",
      "|33 |Andren       |swe      |Linköping, Sweden         |  58.41080|   15.62140|Swedish       |Indo-European   |Germanic       |             0|\n",
      "|34 |Casillas     |tse      |Tuxtla Gutierrez, Mexico  |  16.53000|  -92.45000|Tseltal       |Mayan           |Mayan          |             1|\n"
     ]
    }
   ],
   "source": [
    "%%R -i geo_dat\n",
    "\n",
    "library(\"kableExtra\")\n",
    "\n",
    "geo_dat %>% \n",
    "    kbl(\"pipe\")"
   ]
  },
  {
   "cell_type": "code",
   "execution_count": 31,
   "metadata": {
    "tags": []
   },
   "outputs": [],
   "source": [
    "%%R -i geo_dat\n",
    "\n",
    "options(repr.plot.width=11.7, repr.plot.height=6.2)\n",
    "\n",
    "geo_dat <- geo_dat %>%\n",
    "    mutate(\n",
    "      #      lang_fam_abbrv = recode(Language_Family,\n",
    "      #                              `Indo-European` = \"I-E\",\n",
    "      #                              `Uralic` = \"U\",\n",
    "      #                              `Japonic` = \"J\",\n",
    "      #                              `Koreanic` = \"K\",\n",
    "      #                              `Sino-Tibetan` = \"S-T\"),\n",
    "           Language_label = Language_name,\n",
    "           Language_label = paste0(Language_label)) #,\" (\",lang_fam_abbrv,\")\"))\n",
    "\n",
    "mp <- NULL\n",
    "\n",
    "mapWorld <- borders(\"world\",\n",
    "                    colour = \"white\",\n",
    "#                     colour=\"gray50\", # with white background\n",
    "                    fill=\"gray75\") # create a layer of borders\n",
    "\n",
    "mp <- ggplot() + mapWorld\n",
    "\n",
    "mp <- mp +\n",
    "      geom_point(aes(x=geo_dat$longitude, y=geo_dat$latitude,color=geo_dat$Language_label), size=3) +\n",
    "      # theme_black() +\n",
    "      theme_void() +\n",
    "      theme(text = element_text(size=16),\n",
    "            #plot.background = element_rect(fill = \"black\"),\n",
    "            legend.title = element_blank(),\n",
    "            legend.position = c(0.91, 0.55),\n",
    "            legend.background = element_rect(fill=alpha(\"white\",0.90),\n",
    "                                             size=0, linetype=\"dotted\",\n",
    "                                             colour = \"white\"),\n",
    "            legend.text=element_text(size=16,colour=\"black\"))\n",
    "\n",
    "#ggsave(\"../figures/geo_dat.pdf\", width = 11.7, height = 6.2,dpi = 1200, scale = 1.2)\n",
    "# ggsave(\"../figures/geo_dat_black.pdf\", width = 11.7, height = 6.2,dpi = 1200)"
   ]
  },
  {
   "cell_type": "code",
   "execution_count": 32,
   "id": "e66fcb60",
   "metadata": {},
   "outputs": [
    {
     "name": "stdout",
     "output_type": "stream",
     "text": [
      "\n",
      "\n",
      "|   |corpus_name  |language |city                      |  latitude|  longitude|Language_name |Language_Family |Language_Genus | Agglutinative|Language_label |\n",
      "|:--|:------------|:--------|:-------------------------|---------:|----------:|:-------------|:---------------|:--------------|-------------:|:--------------|\n"
     ]
    },
    {
     "name": "stdout",
     "output_type": "stream",
     "text": [
      "|0  |Rigol        |deu      |Osnabrück, Germany        |  52.27990|    8.04720|German        |Indo-European   |Germanic       |             0|German         |\n",
      "|1  |Bernstein    |eng      |College Park, Maryland    |  38.98720|  -76.94600|English       |Indo-European   |Germanic       |             0|English        |\n",
      "|2  |Peters       |eng      |NA                        |       NaN|        NaN|English       |Indo-European   |Germanic       |             0|English        |\n",
      "|3  |Rollins      |eng      |Dallas, Texas             |  32.77667|  -96.79699|English       |Indo-European   |Germanic       |             0|English        |\n",
      "|4  |Bloom        |eng      |New York City, New York   |  40.71278|  -74.00597|English       |Indo-European   |Germanic       |             0|English        |\n",
      "|5  |Brent        |eng      |Baltimore, Maryland       |  39.29039|  -76.61219|English       |Indo-European   |Germanic       |             0|English        |\n",
      "|6  |Nelson       |eng      |New York City, New York   |  40.71278|  -74.00597|English       |Indo-European   |Germanic       |             0|English        |\n",
      "|7  |Braunwald    |eng      |Irvine, CA                |  33.68457| -117.82651|English       |Indo-European   |Germanic       |             0|English        |\n",
      "|8  |Soderstrom   |eng      |Providence, Rhode Island  |  41.82400|  -71.41280|English       |Indo-European   |Germanic       |             0|English        |\n",
      "|9  |Sachs        |eng      |Storrs, Connecticut       |  41.80840|  -72.24950|English       |Indo-European   |Germanic       |             0|English        |\n",
      "|10 |McCune       |eng      |New Brunswick, New Jersey |  40.48620|  -74.45180|English       |Indo-European   |Germanic       |             0|English        |\n",
      "|11 |NewmanRatner |eng      |College Park, Maryland    |  38.98970|  -76.93780|English       |Indo-European   |Germanic       |             0|English        |\n",
      "|12 |Argus        |est      |Tallinn, Estonia          |  59.43700|   24.75360|Estonian      |Uralic          |Finnic         |             1|Estonian       |\n",
      "|13 |Zupping      |est      |Tartu, Estonia            |  58.37800|   26.72900|Estonian      |Uralic          |Finnic         |             1|Estonian       |\n",
      "|14 |Family       |fas      |Tehran, Iran              |  35.68920|   51.38900|Persian       |Indo-European   |Iranian        |             0|Persian        |\n",
      "|15 |Lyon         |fra      |Paris, France             |  48.85660|    2.35220|French        |Indo-European   |Romance        |             0|French         |\n",
      "|16 |Paris        |fra      |Paris, France             |  48.85660|    2.35220|French        |Indo-European   |Romance        |             0|French         |\n",
      "|17 |York         |fra      |Liège, Belgium            |  50.63260|    5.57970|French        |Indo-European   |Romance        |             0|French         |\n",
      "|18 |York         |fra      |Paris, France             |  48.85660|    2.35220|French        |Indo-European   |Romance        |             0|French         |\n",
      "|19 |York         |fra      |Montréal, Canada          |  45.50170|  -73.56730|French        |Indo-European   |Romance        |             0|French         |\n",
      "|20 |Yamaguchi    |fra      |Paris, France             |  48.85660|    2.35220|French        |Indo-European   |Romance        |             0|French         |\n",
      "|21 |Hunkeler     |fra      |Mont-Saint-Aignan, France |  49.45980|    1.07980|French        |Indo-European   |Romance        |             0|French         |\n",
      "|22 |Kovacevic    |hrv      |Zagreb, Croatia           |  45.81500|   15.98190|Croatian      |Indo-European   |Savlic         |             0|Croatian       |\n",
      "|23 |Ishii        |jpn      |Kusatsu, Japan            |  36.62070|  138.59610|Japanese      |Japonic         |Japanese       |             1|Japanese       |\n",
      "|24 |MiiPro       |jpn      |Tokyo, Japan              |  35.67620|  139.65030|Japanese      |Japonic         |Japanese       |             1|Japanese       |\n",
      "|25 |Miyata       |jpn      |Nagoya, Japan             |  35.18150|  136.90660|Japanese      |Japonic         |Japanese       |             1|Japanese       |\n",
      "|26 |Ryu          |kor      |Seoul, South Korea        |  37.56650|  126.97800|Korean        |Koreanic        |Korean         |             1|Korean         |\n",
      "|27 |Garmann      |nor      |Oslo, Norway              |  59.91390|   10.75220|Norwegian     |Indo-European   |Germanic       |             0|Norwegian      |\n",
      "|28 |Santos       |por      |Libson, portugal          |  38.72230|   -9.13930|Portuguese    |Indo-European   |Romance        |             0|Portuguese     |\n",
      "|29 |Nieva        |spa      |Madrid, Spain             |  40.41680|   -3.70380|Spanish       |Indo-European   |Romance        |             0|Spanish        |\n",
      "|30 |Remedi       |spa      |Córdoba, Argentina        | -31.42010|  -64.18880|Spanish       |Indo-European   |Romance        |             0|Spanish        |\n",
      "|31 |Remedi       |spa      |Rio Cuarto, Argentina     | -33.12320|  -64.34930|Spanish       |Indo-European   |Romance        |             0|Spanish        |\n",
      "|32 |Lund         |swe      |Lund, Sweden              |  55.70470|   13.19100|Swedish       |Indo-European   |Germanic       |             0|Swedish        |\n",
      "|33 |Andren       |swe      |Linköping, Sweden         |  58.41080|   15.62140|Swedish       |Indo-European   |Germanic       |             0|Swedish        |\n",
      "|34 |Casillas     |tse      |Tuxtla Gutierrez, Mexico  |  16.53000|  -92.45000|Tseltal       |Mayan           |Mayan          |             1|Tseltal        |\n"
     ]
    }
   ],
   "source": [
    "%%R\n",
    "\n",
    "geo_dat %>% kbl(\"pipe\")\n",
    "\n",
    "# ggplot() + mapWorld +\n",
    "#     geom_point(aes(x=geo_dat$longitude, y=geo_dat$latitude,color=geo_dat$Language_label), size=3) +\n",
    "#     # theme_black() +\n",
    "#     theme_void() +\n",
    "#     theme(text = element_text(size=16),\n",
    "#           #plot.background = element_rect(fill = \"black\"),\n",
    "#           legend.title = element_blank(),\n",
    "#           legend.position = c(0.91, 0.55),\n",
    "#           legend.background = element_rect(fill=alpha(\"white\",0.90),\n",
    "#                                            size=0, linetype=\"dotted\",\n",
    "#                                            colour = \"white\"),\n",
    "#           legend.text=element_text(size=16,colour=\"black\"))"
   ]
  },
  {
   "attachments": {},
   "cell_type": "markdown",
   "metadata": {},
   "source": [
    "----\n",
    "\n",
    "#### Child age distribution"
   ]
  },
  {
   "cell_type": "code",
   "execution_count": 33,
   "metadata": {
    "tags": []
   },
   "outputs": [],
   "source": [
    "%%R -i age_counts\n",
    "\n",
    "p <- ggplot(data=age_counts, aes(x = target_child_age, fill = Language_name)) +\n",
    "     geom_histogram(binwidth=2.5) +\n",
    "     facet_wrap(. ~ Language_name,ncol = 7) +\n",
    "     theme_classic() + theme(text = element_text(size=16),\n",
    "                             legend.title = element_blank(),\n",
    "                             legend.background = element_rect(fill=alpha(\"white\",0.90),\n",
    "                                                            size=0, linetype=\"dotted\",\n",
    "                                                            colour = \"white\"),\n",
    "                             legend.text=element_text(size=16)) +\n",
    "     labs(x = \"Child age (months)\", y = \"Freq\")\n",
    "    \n",
    "     ggsave(\"../figures/age_hist.pdf\", width = 11.7, height = 6.2)"
   ]
  },
  {
   "cell_type": "code",
   "execution_count": 34,
   "metadata": {},
   "outputs": [],
   "source": [
    "rand_dat_inc_age = rand_dat_inc.groupby(['Language_name','transcript_id','target_child_id','target_child_age']).nunique().reset_index()\n",
    "rand_dat_inc_age = rand_dat_inc_age[['Language_name','transcript_id','target_child_id','target_child_age']]"
   ]
  },
  {
   "cell_type": "code",
   "execution_count": 35,
   "metadata": {
    "tags": []
   },
   "outputs": [
    {
     "name": "stdout",
     "output_type": "stream",
     "text": [
      "# A tibble: 12 × 7\n",
      "   Language_name transcript_id_mean target_child_id_mean target_child_age_mean\n",
      "   <chr>                      <dbl>                <dbl>                 <dbl>\n",
      " 1 Croatian                  29222.               18280.                  23.6\n",
      " 2 English                   16683.                8523.                  17.6\n",
      " 3 Estonian                  20280.               12790.                  23.7\n",
      " 4 French                    45915.               24016.                  21.6\n",
      " 5 German                    31008                19117.                  25.9\n",
      " 6 Japanese                  21770.               13970.                  22.0\n",
      " 7 Korean                    28157.               17372                   21.8\n",
      " 8 Norwegian                 44957.               23625.                  16.9\n",
      " 9 Persian                   20942.               13594                   26.7\n",
      "10 Portuguese                23252.               14773.                  23.8\n",
      "11 Spanish                   12303.                6093.                  23.6\n",
      "12 Swedish                   11486.                5850.                  22.8\n",
      "# ℹ 3 more variables: transcript_id_std.error <dbl>,\n",
      "#   target_child_id_std.error <dbl>, target_child_age_std.error <dbl>\n"
     ]
    }
   ],
   "source": [
    "%%R -i rand_dat_inc_age\n",
    "\n",
    "library('plotrix')\n",
    "library('dplyr')\n",
    "\n",
    "age_summary <- rand_dat_inc_age %>% group_by(Language_name) %>%\n",
    "    summarise_all(funs(mean,std.error))\n",
    "age_summary"
   ]
  },
  {
   "cell_type": "code",
   "execution_count": 36,
   "metadata": {
    "tags": []
   },
   "outputs": [],
   "source": [
    "%%R\n",
    "\n",
    "library('ggplot2')\n",
    "\n",
    "\n",
    "p <- ggplot(data=age_summary, aes(x = target_child_age_mean,\n",
    "                                  y=Language_name, moe = target_child_age_std.error,\n",
    "                                  color = Language_name)) +\n",
    "     geom_point(aes(x = target_child_age_mean), size = 3) +\n",
    "     geom_errorbarh(aes(xmin = target_child_age_mean - target_child_age_std.error,\n",
    "                        xmax = target_child_age_mean + target_child_age_std.error), height = 0.5, size = 2) +\n",
    "     theme_classic() + theme(text = element_text(size=16),\n",
    "                             legend.title = element_blank(),\n",
    "                             legend.background = element_rect(fill=alpha(\"white\",0.90),\n",
    "                                                            size=0, linetype=\"dotted\",\n",
    "                                                            colour = \"white\"),\n",
    "                             legend.text=element_text(size=16)) +\n",
    "     labs(x = \"Child age (months)\", y = \"Language\") +\n",
    "     scale_y_discrete(limits=rev)\n",
    "     ggsave(\"../figures/age_line.pdf\", width = 11.7, height = 6.2)"
   ]
  },
  {
   "cell_type": "markdown",
   "metadata": {},
   "source": [
    "----\n",
    "\n",
    "#### Contingency assignment"
   ]
  },
  {
   "cell_type": "markdown",
   "metadata": {},
   "source": [
    "Using a contingency window of 3 to start:"
   ]
  },
  {
   "cell_type": "code",
   "execution_count": 37,
   "id": "e8b948cf",
   "metadata": {},
   "outputs": [],
   "source": [
    "rand_dat_inc = contingent_extraction.create_result(rand_dat_inc)"
   ]
  },
  {
   "cell_type": "code",
   "execution_count": 38,
   "metadata": {
    "tags": []
   },
   "outputs": [],
   "source": [
    "# .001 buffer time to ensure that caregiver utterances that begin at the same moment as infant vocalizations are not artificially counted as contingent\n",
    "\n",
    "rand_dat_inc = contingent_extraction.assign_contingency(rand_dat_inc,3,.001) "
   ]
  },
  {
   "cell_type": "code",
   "execution_count": 39,
   "metadata": {},
   "outputs": [],
   "source": [
    "# save contingency assignment to file\n",
    "rand_dat_inc.to_csv(\"../data/rand_dat_inc_master.csv\")"
   ]
  },
  {
   "cell_type": "markdown",
   "metadata": {},
   "source": [
    "Number of contingent and non-contingent words (tokens)"
   ]
  },
  {
   "cell_type": "code",
   "execution_count": 40,
   "metadata": {},
   "outputs": [],
   "source": [
    "rand_dat_inc = pd.read_csv(\"../data/rand_dat_inc_master.csv\",index_col=0,low_memory=False)\n",
    "rand_dat_inc=rand_dat_inc[rand_dat_inc[\"language\"]!=\"ara\"]\n",
    "rand_dat_inc=rand_dat_inc[(rand_dat_inc[\"target_child_age\"]>=5) & (rand_dat_inc[\"target_child_age\"]<=30)]\n",
    "\n",
    "rand_dat_inc_cg = rand_dat_inc[rand_dat_inc[\"caregiver\"]==\"caregiver\"]\n",
    "\n",
    "rand_dat_inc_cg[\"contingent\"] = np.where(rand_dat_inc_cg[\"contingent\"]==1, \"contingent\", \"non-contingent\")\n",
    "\n",
    "rand_dat_inc_cg = rand_dat_inc_cg[rand_dat_inc_cg[\"gloss\"].notna()]\n",
    "rand_dat_inc_cg = rand_dat_inc_cg[rand_dat_inc_cg[\"gloss\"]!=\"xxx\"]\n",
    "rand_dat_inc_cg = rand_dat_inc_cg[rand_dat_inc_cg[\"gloss\"]!=\"yyy\"]\n",
    "rand_dat_inc_cg = rand_dat_inc_cg[rand_dat_inc_cg[\"gloss\"]!=\"www\"]"
   ]
  },
  {
   "cell_type": "code",
   "execution_count": 41,
   "metadata": {},
   "outputs": [
    {
     "name": "stdout",
     "output_type": "stream",
     "text": [
      "|    | language   | contingent     |   count |\n",
      "|---:|:-----------|:---------------|--------:|\n",
      "|  0 | deu        | contingent     |    1716 |\n",
      "|  1 | deu        | non-contingent |    2736 |\n",
      "|  2 | eng        | contingent     |   17715 |\n",
      "|  3 | eng        | non-contingent |   82344 |\n",
      "|  4 | est        | contingent     |     940 |\n",
      "|  5 | est        | non-contingent |    1538 |\n",
      "|  6 | fas        | contingent     |     734 |\n",
      "|  7 | fas        | non-contingent |    2423 |\n",
      "|  8 | fra        | contingent     |    5494 |\n",
      "|  9 | fra        | non-contingent |   15684 |\n",
      "| 10 | hrv        | contingent     |    2472 |\n",
      "| 11 | hrv        | non-contingent |    3769 |\n",
      "| 12 | jpn        | contingent     |    9877 |\n",
      "| 13 | jpn        | non-contingent |   15247 |\n",
      "| 14 | kor        | contingent     |    1554 |\n",
      "| 15 | kor        | non-contingent |    3061 |\n",
      "| 16 | nor        | contingent     |     735 |\n",
      "| 17 | nor        | non-contingent |    1242 |\n",
      "| 18 | por        | contingent     |    1070 |\n",
      "| 19 | por        | non-contingent |    1592 |\n",
      "| 20 | spa        | contingent     |    2340 |\n",
      "| 21 | spa        | non-contingent |    2035 |\n",
      "| 22 | swe        | contingent     |    1187 |\n",
      "| 23 | swe        | non-contingent |    1569 |\n"
     ]
    }
   ],
   "source": [
    "# how many contingent and non-contingent total words per language\n",
    "\n",
    "contingent_noncontingent_counts = rand_dat_inc_cg.groupby(['language','contingent']).size().to_frame('count').reset_index()\n",
    "\n",
    "# inspect data:\n",
    "print(contingent_noncontingent_counts.to_markdown())"
   ]
  },
  {
   "cell_type": "code",
   "execution_count": 42,
   "metadata": {
    "tags": []
   },
   "outputs": [
    {
     "name": "stdout",
     "output_type": "stream",
     "text": [
      "|    | language   | contingent     |    means |\n",
      "|---:|:-----------|:---------------|---------:|\n",
      "|  0 | deu        | contingent     |  45.1579 |\n",
      "|  1 | deu        | non-contingent |  72      |\n",
      "|  2 | eng        | contingent     |  20.6469 |\n",
      "|  3 | eng        | non-contingent |  93.3605 |\n",
      "|  4 | est        | contingent     |  42.7273 |\n",
      "|  5 | est        | non-contingent |  69.9091 |\n",
      "|  6 | fas        | contingent     |  61.1667 |\n",
      "|  7 | fas        | non-contingent | 201.917  |\n",
      "|  8 | fra        | contingent     |  19.9782 |\n",
      "|  9 | fra        | non-contingent |  56.2151 |\n",
      "| 10 | hrv        | contingent     |  42.6207 |\n",
      "| 11 | hrv        | non-contingent |  64.9828 |\n",
      "| 12 | jpn        | contingent     |  61.7313 |\n",
      "| 13 | jpn        | non-contingent |  95.2938 |\n",
      "| 14 | kor        | contingent     |  55.5    |\n",
      "| 15 | kor        | non-contingent | 109.321  |\n",
      "| 16 | nor        | contingent     |  26.25   |\n",
      "| 17 | nor        | non-contingent |  46      |\n",
      "| 18 | por        | contingent     |  46.5217 |\n",
      "| 19 | por        | non-contingent |  69.2174 |\n",
      "| 20 | spa        | contingent     |  78      |\n",
      "| 21 | spa        | non-contingent |  67.8333 |\n",
      "| 22 | swe        | contingent     |  74.1875 |\n",
      "| 23 | swe        | non-contingent |  98.0625 |\n"
     ]
    }
   ],
   "source": [
    "# average number of total contingent and non-contingent words per transcript across languages\n",
    "\n",
    "contingent_noncontingent_count_avgs = rand_dat_inc_cg.groupby(['language','contingent','transcript_id']).size().to_frame('count').reset_index()\n",
    "\n",
    "contingent_noncontingent_count_avgs =  contingent_noncontingent_count_avgs.rename({'count': 'counts'}, axis=1)\n",
    "\n",
    "contingent_noncontingent_count_avgs = (contingent_noncontingent_count_avgs.groupby([\"language\",\"contingent\"])\n",
    "                                       .counts\n",
    "                                       .agg([\"mean\"])\n",
    "                                       .reset_index())\n",
    "\n",
    "contingent_noncontingent_count_avgs =  contingent_noncontingent_count_avgs.rename({'mean': 'means'}, axis=1)\n",
    "\n",
    "# inspect data:\n",
    "print(contingent_noncontingent_count_avgs.to_markdown())"
   ]
  },
  {
   "cell_type": "markdown",
   "metadata": {},
   "source": [
    "----\n",
    "#### Context proportions across languages"
   ]
  },
  {
   "cell_type": "code",
   "execution_count": 43,
   "metadata": {},
   "outputs": [],
   "source": [
    "context_dat = pd.read_csv(\"../data/context_data.csv\")\n",
    "context_dat=context_dat.rename(columns={\"Language\":\"Language_name\"})\n",
    "context_dat=context_dat.rename(columns={\"Corpus\":\"corpus_name\"})"
   ]
  },
  {
   "cell_type": "code",
   "execution_count": 44,
   "metadata": {},
   "outputs": [],
   "source": [
    "rand_dat_inc=rand_dat_inc.merge(context_dat,on='corpus_name',how=\"right\")"
   ]
  },
  {
   "cell_type": "code",
   "execution_count": 45,
   "metadata": {},
   "outputs": [],
   "source": [
    "rand_dat_inc[\"Location\"] = rand_dat_inc[\"Location\"].fillna(\"NaN\")\n",
    "rand_dat_inc[\"Activity\"] = rand_dat_inc[\"Activity\"].fillna(\"NaN\")"
   ]
  },
  {
   "cell_type": "code",
   "execution_count": 46,
   "metadata": {},
   "outputs": [],
   "source": [
    "rand_dat_inc[\"context\"] = rand_dat_inc[\"Location\"] + rand_dat_inc[\"Activity\"]"
   ]
  },
  {
   "cell_type": "code",
   "execution_count": 47,
   "metadata": {},
   "outputs": [
    {
     "data": {
      "text/plain": [
       "array(['LabUnstructured', 'OtherUnstructured', 'HomeUnstructured',\n",
       "       'HomeOther', 'LabInterview/Unstructured', 'HomeNaN', 'NaNNaN',\n",
       "       'HomeBook-reading', 'HomeInterview/Unstructured'], dtype=object)"
      ]
     },
     "execution_count": 47,
     "metadata": {},
     "output_type": "execute_result"
    }
   ],
   "source": [
    "rand_dat_inc[\"context\"].unique()"
   ]
  },
  {
   "cell_type": "code",
   "execution_count": 48,
   "metadata": {},
   "outputs": [],
   "source": [
    "rand_dat_inc=rand_dat_inc.rename(columns={\"Language_name_x\":\"Language_name\"})"
   ]
  },
  {
   "cell_type": "code",
   "execution_count": 49,
   "metadata": {},
   "outputs": [],
   "source": [
    "# How many transcripts per corpora per different context\n",
    "\n",
    "context_counts = rand_dat_inc.groupby(['Language_name','context','transcript_id']).nunique().reset_index()"
   ]
  },
  {
   "cell_type": "code",
   "execution_count": 50,
   "metadata": {},
   "outputs": [
    {
     "name": "stdout",
     "output_type": "stream",
     "text": [
      "|    | Language_name   | context                   |   count |\n",
      "|---:|:----------------|:--------------------------|--------:|\n",
      "|  0 | Croatian        | HomeUnstructured          |      58 |\n",
      "|  1 | English         | HomeOther                 |      20 |\n",
      "|  2 | English         | HomeUnstructured          |     340 |\n",
      "|  3 | English         | LabInterview/Unstructured |     368 |\n",
      "|  4 | English         | LabUnstructured           |      26 |\n",
      "|  5 | English         | OtherUnstructured         |     128 |\n",
      "|  6 | Estonian        | HomeUnstructured          |      22 |\n",
      "|  7 | French          | HomeUnstructured          |     238 |\n",
      "|  8 | French          | NaNNaN                    |      41 |\n",
      "|  9 | German          | HomeUnstructured          |      38 |\n",
      "| 10 | Japanese        | HomeUnstructured          |     107 |\n",
      "| 11 | Japanese        | NaNNaN                    |      53 |\n",
      "| 12 | Korean          | HomeBook-reading          |      28 |\n",
      "| 13 | Norwegian       | HomeUnstructured          |      28 |\n",
      "| 14 | Persian         | HomeNaN                   |      12 |\n",
      "| 15 | Portuguese      | HomeUnstructured          |      23 |\n",
      "| 16 | Spanish         | HomeUnstructured          |      30 |\n",
      "| 17 | Swedish         | HomeUnstructured          |      16 |\n"
     ]
    }
   ],
   "source": [
    "count_table = context_counts.groupby(['Language_name','context']).size().to_frame('count').reset_index()\n",
    "\n",
    "print(count_table.to_markdown())"
   ]
  },
  {
   "cell_type": "code",
   "execution_count": 51,
   "metadata": {},
   "outputs": [],
   "source": [
    "count_table.to_csv(\"../data/context_counts_subject_level.csv\")"
   ]
  },
  {
   "cell_type": "code",
   "execution_count": null,
   "id": "4db0f7a0",
   "metadata": {},
   "outputs": [],
   "source": []
  }
 ],
 "metadata": {
  "kernelspec": {
   "display_name": "Python 3.10.7 64-bit",
   "language": "python",
   "name": "python3"
  },
  "language_info": {
   "codemirror_mode": {
    "name": "ipython",
    "version": 3
   },
   "file_extension": ".py",
   "mimetype": "text/x-python",
   "name": "python",
   "nbconvert_exporter": "python",
   "pygments_lexer": "ipython3",
   "version": "3.10.12"
  },
  "vscode": {
   "interpreter": {
    "hash": "aee8b7b246df8f9039afb4144a1f6fd8d2ca17a180786b69acc140d282b71a49"
   }
  }
 },
 "nbformat": 4,
 "nbformat_minor": 5
}
