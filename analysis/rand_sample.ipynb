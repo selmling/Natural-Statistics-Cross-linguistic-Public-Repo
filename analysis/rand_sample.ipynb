{
 "cells": [
  {
   "cell_type": "markdown",
   "metadata": {},
   "source": [
    "# Natural Statistics Cross-linguistic"
   ]
  },
  {
   "cell_type": "code",
   "execution_count": 1,
   "id": "09fe4aa8",
   "metadata": {},
   "outputs": [
    {
     "name": "stderr",
     "output_type": "stream",
     "text": [
      "R[write to console]: Installing package into ‘/home/steven/R/x86_64-pc-linux-gnu-library/4.1’\n",
      "(as ‘lib’ is unspecified)\n",
      "\n"
     ]
    },
    {
     "name": "stdout",
     "output_type": "stream",
     "text": [
      "Reinstalling childesr version 0.2.1\n"
     ]
    },
    {
     "name": "stderr",
     "output_type": "stream",
     "text": [
      "R[write to console]: trying URL 'https://cloud.r-project.org/src/contrib/childesr_0.2.3.tar.gz'\n",
      "\n",
      "R[write to console]: Content type 'application/x-gzip'\n",
      "R[write to console]:  length 22865 bytes (22 KB)\n",
      "\n",
      "R[write to console]: =\n",
      "R[write to console]: =\n",
      "R[write to console]: =\n",
      "R[write to console]: =\n",
      "R[write to console]: =\n",
      "R[write to console]: =\n",
      "R[write to console]: =\n",
      "R[write to console]: =\n",
      "R[write to console]: =\n",
      "R[write to console]: =\n",
      "R[write to console]: =\n",
      "R[write to console]: =\n",
      "R[write to console]: =\n",
      "R[write to console]: =\n",
      "R[write to console]: =\n",
      "R[write to console]: =\n",
      "R[write to console]: =\n",
      "R[write to console]: =\n",
      "R[write to console]: =\n",
      "R[write to console]: =\n",
      "R[write to console]: =\n",
      "R[write to console]: =\n",
      "R[write to console]: =\n",
      "R[write to console]: =\n",
      "R[write to console]: =\n",
      "R[write to console]: =\n",
      "R[write to console]: =\n",
      "R[write to console]: =\n",
      "R[write to console]: =\n",
      "R[write to console]: =\n",
      "R[write to console]: =\n",
      "R[write to console]: =\n",
      "R[write to console]: =\n",
      "R[write to console]: =\n",
      "R[write to console]: =\n",
      "R[write to console]: =\n",
      "R[write to console]: =\n",
      "R[write to console]: =\n",
      "R[write to console]: =\n",
      "R[write to console]: =\n",
      "R[write to console]: =\n",
      "R[write to console]: =\n",
      "R[write to console]: =\n",
      "R[write to console]: =\n",
      "R[write to console]: =\n",
      "R[write to console]: =\n",
      "R[write to console]: =\n",
      "R[write to console]: =\n",
      "R[write to console]: =\n",
      "R[write to console]: =\n",
      "R[write to console]: \n",
      "\n",
      "R[write to console]: downloaded 22 KB\n",
      "\n",
      "\n",
      "* installing *source* package ‘childesr’ ...\n",
      "** package ‘childesr’ successfully unpacked and MD5 sums checked\n",
      "** using staged installation\n",
      "** R\n",
      "** inst\n",
      "** byte-compile and prepare package for lazy loading\n",
      "** help\n",
      "*** installing help indices\n",
      "** building package indices\n",
      "** installing vignettes\n",
      "** testing if installed package can be loaded from temporary location\n",
      "** testing if installed package can be loaded from final location\n",
      "** testing if installed package keeps a record of temporary installation path\n",
      "* DONE (childesr)\n",
      "R[write to console]: \n",
      "\n",
      "R[write to console]: \n",
      "R[write to console]: The downloaded source packages are in\n",
      "\t‘/tmp/RtmpzA4yR4/downloaded_packages’\n",
      "R[write to console]: \n",
      "R[write to console]: \n",
      "\n"
     ]
    }
   ],
   "source": [
    "import warnings\n",
    "warnings.filterwarnings('ignore')\n",
    "import matplotlib.pyplot as plt\n",
    "import sys\n",
    "sys.path.insert(0, \"data_proc\")\n",
    "import pandas as pd\n",
    "import childespy as cpy\n",
    "import sample_extraction"
   ]
  },
  {
   "cell_type": "markdown",
   "metadata": {},
   "source": [
    "Use `childes_sampling.py` to extract a random sample from each of our target corpora.\n",
    "\n",
    "A link to langauge codes here: https://iso639-3.sil.org/code_tables/639/data"
   ]
  },
  {
   "cell_type": "code",
   "execution_count": 2,
   "metadata": {},
   "outputs": [],
   "source": [
    "# target corpora:\n",
    "corpora = ['Bernstein', 'Peters', 'Rollins', 'Bloom', \n",
    "           'Brent', 'Nelson', 'Braunwald', 'Soderstrom', 'Sachs',\n",
    "           'McCune', 'NewmanRatner', 'Lund', 'Andren', 'Nieva',\n",
    "           'Remedi', 'York', 'Tong', 'Argus', 'Zupping','MacWhinney',\n",
    "           'Family', 'Ishii', 'MiiPro', 'Miyata', 'Santos',\n",
    "           'Ryu', 'Kovacevic', 'Leo', 'Rigol', 'YipMatthews',\n",
    "           'MCF', 'Providence', 'Garmann', 'LlinasOjea', 'Lyon',\n",
    "           'Yamaguchi', 'Paris', 'Hunkeler', 'Tsay', 'Kuwaiti',\n",
    "           'WeistJarosz', 'FallsChurch']"
   ]
  },
  {
   "cell_type": "code",
   "execution_count": 3,
   "metadata": {
    "tags": []
   },
   "outputs": [
    {
     "name": "stderr",
     "output_type": "stream",
     "text": [
      "R[write to console]: Using current database version: '2021.1'.\n",
      "\n",
      "R[write to console]: Getting data from 3 children in 1 corpus ...\n",
      "\n",
      "R[write to console]: Using current database version: '2021.1'.\n",
      "\n"
     ]
    },
    {
     "name": "stdout",
     "output_type": "stream",
     "text": [
      "Rollins\n",
      "not longer than 10\n",
      "not longer than 10\n",
      "not longer than 10\n",
      "not enough child utterrances\n",
      "not longer than 10\n",
      "not longer than 10\n",
      "not longer than 10\n",
      "not longer than 10\n",
      "not longer than 10\n",
      "not longer than 10\n",
      "not longer than 10\n",
      "not longer than 10\n",
      "not longer than 10\n",
      "not longer than 10\n",
      "not longer than 10\n",
      "not longer than 10\n",
      "not longer than 10\n",
      "not longer than 10\n",
      "not longer than 10\n",
      "not longer than 10\n",
      "not longer than 10\n",
      "not longer than 10\n",
      "not longer than 10\n",
      "not longer than 10\n",
      "not enough child utterrances\n",
      "not longer than 10\n",
      "not longer than 10\n",
      "not longer than 10\n",
      "not longer than 10\n",
      "not longer than 10\n",
      "not longer than 10\n",
      "not longer than 10\n",
      "not longer than 10\n",
      "27\n"
     ]
    },
    {
     "name": "stderr",
     "output_type": "stream",
     "text": [
      "R[write to console]: Using current database version: '2021.1'.\n",
      "\n",
      "R[write to console]: Using current database version: '2021.1'.\n",
      "\n",
      "R[write to console]: Using current database version: '2021.1'.\n",
      "\n",
      "R[write to console]: Using current database version: '2021.1'.\n",
      "\n",
      "R[write to console]: Using current database version: '2021.1'.\n",
      "\n",
      "R[write to console]: Using current database version: '2021.1'.\n",
      "\n",
      "R[write to console]: Using current database version: '2021.1'.\n",
      "\n",
      "R[write to console]: Using current database version: '2021.1'.\n",
      "\n",
      "R[write to console]: Using current database version: '2021.1'.\n",
      "\n",
      "R[write to console]: Using current database version: '2021.1'.\n",
      "\n",
      "R[write to console]: Using current database version: '2021.1'.\n",
      "\n",
      "R[write to console]: Using current database version: '2021.1'.\n",
      "\n",
      "R[write to console]: Using current database version: '2021.1'.\n",
      "\n",
      "R[write to console]: Using current database version: '2021.1'.\n",
      "\n",
      "R[write to console]: Using current database version: '2021.1'.\n",
      "\n",
      "R[write to console]: Using current database version: '2021.1'.\n",
      "\n",
      "R[write to console]: Using current database version: '2021.1'.\n",
      "\n",
      "R[write to console]: Using current database version: '2021.1'.\n",
      "\n",
      "R[write to console]: Using current database version: '2021.1'.\n",
      "\n",
      "R[write to console]: Using current database version: '2021.1'.\n",
      "\n",
      "R[write to console]: Using current database version: '2021.1'.\n",
      "\n",
      "R[write to console]: Using current database version: '2021.1'.\n",
      "\n",
      "R[write to console]: Using current database version: '2021.1'.\n",
      "\n",
      "R[write to console]: Using current database version: '2021.1'.\n",
      "\n",
      "R[write to console]: Using current database version: '2021.1'.\n",
      "\n",
      "R[write to console]: Using current database version: '2021.1'.\n",
      "\n"
     ]
    },
    {
     "name": "stdout",
     "output_type": "stream",
     "text": [
      "Errors:  []\n"
     ]
    }
   ],
   "source": [
    "rand_dat = sample_extraction.get_random_samples(corpora,600)"
   ]
  },
  {
   "cell_type": "code",
   "execution_count": null,
   "metadata": {},
   "outputs": [],
   "source": [
    "rand_dat.to_csv('../data/rand_dat.csv')"
   ]
  }
 ],
 "metadata": {
  "kernelspec": {
   "display_name": "Python 3.10.6 64-bit",
   "language": "python",
   "name": "python3"
  },
  "language_info": {
   "codemirror_mode": {
    "name": "ipython",
    "version": 3
   },
   "file_extension": ".py",
   "mimetype": "text/x-python",
   "name": "python",
   "nbconvert_exporter": "python",
   "pygments_lexer": "ipython3",
   "version": "3.11.5"
  },
  "vscode": {
   "interpreter": {
    "hash": "916dbcbb3f70747c44a77c7bcd40155683ae19c65e1c03b4aa3499c5328201f1"
   }
  }
 },
 "nbformat": 4,
 "nbformat_minor": 5
}
