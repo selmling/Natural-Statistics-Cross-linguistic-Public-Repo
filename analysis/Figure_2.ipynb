{
 "cells": [
  {
   "cell_type": "markdown",
   "id": "829f3e99-c324-4874-ab24-2244758c1faf",
   "metadata": {},
   "source": [
    "# Natural Statistics Cross-linguistic:\n",
    "\n",
    "#### Recording context overview, Figure 2 in the manuscript, generated from play context log (manual collation of play contexts reported by CHILDES contributors)."
   ]
  },
  {
   "cell_type": "code",
   "execution_count": 1,
   "id": "4265b544-0b17-429a-9385-7fec7e73be2c",
   "metadata": {
    "collapsed": true,
    "jupyter": {
     "outputs_hidden": true
    },
    "tags": []
   },
   "outputs": [
    {
     "ename": "NameError",
     "evalue": "name 'library' is not defined",
     "output_type": "error",
     "traceback": [
      "\u001b[0;31m---------------------------------------------------------------------------\u001b[0m",
      "\u001b[0;31mNameError\u001b[0m                                 Traceback (most recent call last)",
      "Input \u001b[0;32mIn [1]\u001b[0m, in \u001b[0;36m<module>\u001b[0;34m\u001b[0m\n\u001b[0;32m----> 1\u001b[0m \u001b[43mlibrary\u001b[49m(\u001b[38;5;124m'\u001b[39m\u001b[38;5;124mtidyverse\u001b[39m\u001b[38;5;124m'\u001b[39m)\n\u001b[1;32m      3\u001b[0m context_dat \u001b[38;5;241m<\u001b[39m\u001b[38;5;241m-\u001b[39m read\u001b[38;5;241m.\u001b[39mcsv(\u001b[38;5;124m\"\u001b[39m\u001b[38;5;124m../data/context_counts_subject_level.csv\u001b[39m\u001b[38;5;124m\"\u001b[39m)\n",
      "\u001b[0;31mNameError\u001b[0m: name 'library' is not defined"
     ]
    }
   ],
   "source": [
    "library('tidyverse')\n",
    "\n",
    "context_dat <- read.csv(\"../data/context_counts_subject_level.csv\")"
   ]
  },
  {
   "cell_type": "code",
   "execution_count": 70,
   "id": "f6df6677-afe6-4e86-87b4-8e56ef09a2c3",
   "metadata": {},
   "outputs": [],
   "source": [
    "context_dat$context <- gsub(\"HomeBook-reading\",\"Home: book reading\",context_dat$context)\n",
    "context_dat$context <- gsub(\"HomeInterview/Unstructured\",\"Home: interview/unstructured\",context_dat$context)\n",
    "context_dat$context <- gsub(\"HomeNaN\",\"Home: unreported\",context_dat$context)\n",
    "context_dat$context <- gsub(\"HomeOther\",\"Home: other\",context_dat$context)\n",
    "context_dat$context <- gsub(\"HomeUnstructured\",\"Home: unstructured\",context_dat$context)\n",
    "context_dat$context <- gsub(\"LabOther\",\"Lab: other\",context_dat$context)\n",
    "context_dat$context <- gsub(\"LabTabletop play\",\"Lab: tabletop play\",context_dat$context)\n",
    "context_dat$context <- gsub(\"LabInterview/Unstructured\",\"Lab: interview/unstructured\",context_dat$context)\n",
    "context_dat$context <- gsub(\"LabUnstructured\",\"Lab: unstructured\",context_dat$context)\n",
    "context_dat$context <- gsub(\"NaNNaN\",\"Unreported\",context_dat$context)\n",
    "context_dat$context <- gsub(\"OtherUnstructured\",\"Other: unstructured\",context_dat$context)"
   ]
  },
  {
   "cell_type": "code",
   "execution_count": 71,
   "id": "5e19c7aa-615e-4b4c-826b-095fde115baa",
   "metadata": {
    "tags": []
   },
   "outputs": [
    {
     "data": {
      "text/html": [
       "<style>\n",
       ".list-inline {list-style: none; margin:0; padding: 0}\n",
       ".list-inline>li {display: inline-block}\n",
       ".list-inline>li:not(:last-child)::after {content: \"\\00b7\"; padding: 0 .5ex}\n",
       "</style>\n",
       "<ol class=list-inline><li>'Home: unstructured'</li><li>'Home: other'</li><li>'Lab: interview/unstructured'</li><li>'Lab: tabletop play'</li><li>'Lab: unstructured'</li><li>'Other: unstructured'</li><li>'Unreported'</li><li>'Home: book reading'</li><li>'Home: unreported'</li><li>'Home: interview/unstructured'</li></ol>\n"
      ],
      "text/latex": [
       "\\begin{enumerate*}\n",
       "\\item 'Home: unstructured'\n",
       "\\item 'Home: other'\n",
       "\\item 'Lab: interview/unstructured'\n",
       "\\item 'Lab: tabletop play'\n",
       "\\item 'Lab: unstructured'\n",
       "\\item 'Other: unstructured'\n",
       "\\item 'Unreported'\n",
       "\\item 'Home: book reading'\n",
       "\\item 'Home: unreported'\n",
       "\\item 'Home: interview/unstructured'\n",
       "\\end{enumerate*}\n"
      ],
      "text/markdown": [
       "1. 'Home: unstructured'\n",
       "2. 'Home: other'\n",
       "3. 'Lab: interview/unstructured'\n",
       "4. 'Lab: tabletop play'\n",
       "5. 'Lab: unstructured'\n",
       "6. 'Other: unstructured'\n",
       "7. 'Unreported'\n",
       "8. 'Home: book reading'\n",
       "9. 'Home: unreported'\n",
       "10. 'Home: interview/unstructured'\n",
       "\n",
       "\n"
      ],
      "text/plain": [
       " [1] \"Home: unstructured\"           \"Home: other\"                 \n",
       " [3] \"Lab: interview/unstructured\"  \"Lab: tabletop play\"          \n",
       " [5] \"Lab: unstructured\"            \"Other: unstructured\"         \n",
       " [7] \"Unreported\"                   \"Home: book reading\"          \n",
       " [9] \"Home: unreported\"             \"Home: interview/unstructured\""
      ]
     },
     "metadata": {},
     "output_type": "display_data"
    }
   ],
   "source": [
    "unique(context_dat$context)"
   ]
  },
  {
   "cell_type": "code",
   "execution_count": 72,
   "id": "547ec5e8-1612-4e2e-a974-9274d64232cd",
   "metadata": {},
   "outputs": [],
   "source": [
    "context_summary <- context_dat %>%\n",
    "                    group_by(Language_name) %>%\n",
    "                    mutate(percent = count / sum(count) * 100)"
   ]
  },
  {
   "cell_type": "code",
   "execution_count": 73,
   "id": "e11c5b87-a1f0-47b6-9f56-ff22f4fb645e",
   "metadata": {
    "tags": []
   },
   "outputs": [
    {
     "data": {
      "text/html": [
       "<table class=\"dataframe\">\n",
       "<caption>A grouped_df: 21 × 5</caption>\n",
       "<thead>\n",
       "\t<tr><th scope=col>X</th><th scope=col>Language_name</th><th scope=col>context</th><th scope=col>count</th><th scope=col>percent</th></tr>\n",
       "\t<tr><th scope=col>&lt;int&gt;</th><th scope=col>&lt;chr&gt;</th><th scope=col>&lt;chr&gt;</th><th scope=col>&lt;int&gt;</th><th scope=col>&lt;dbl&gt;</th></tr>\n",
       "</thead>\n",
       "<tbody>\n",
       "\t<tr><td> 0</td><td>Croatian  </td><td>Home: unstructured          </td><td> 79</td><td>100.000000</td></tr>\n",
       "\t<tr><td> 1</td><td>English   </td><td>Home: other                 </td><td> 20</td><td>  1.928640</td></tr>\n",
       "\t<tr><td> 2</td><td>English   </td><td>Home: unstructured          </td><td>397</td><td> 38.283510</td></tr>\n",
       "\t<tr><td> 3</td><td>English   </td><td>Lab: interview/unstructured </td><td>433</td><td> 41.755063</td></tr>\n",
       "\t<tr><td> 4</td><td>English   </td><td>Lab: tabletop play          </td><td> 27</td><td>  2.603664</td></tr>\n",
       "\t<tr><td> 5</td><td>English   </td><td>Lab: unstructured           </td><td> 30</td><td>  2.892960</td></tr>\n",
       "\t<tr><td> 6</td><td>English   </td><td>Other: unstructured         </td><td>130</td><td> 12.536162</td></tr>\n",
       "\t<tr><td> 7</td><td>Estonian  </td><td>Home: unstructured          </td><td> 22</td><td>100.000000</td></tr>\n",
       "\t<tr><td> 8</td><td>French    </td><td>Home: unstructured          </td><td>258</td><td> 85.148515</td></tr>\n",
       "\t<tr><td> 9</td><td>French    </td><td>Unreported                  </td><td> 45</td><td> 14.851485</td></tr>\n",
       "\t<tr><td>10</td><td>German    </td><td>Home: unstructured          </td><td> 39</td><td>100.000000</td></tr>\n",
       "\t<tr><td>11</td><td>Japanese  </td><td>Home: unstructured          </td><td> 86</td><td> 61.870504</td></tr>\n",
       "\t<tr><td>12</td><td>Japanese  </td><td>Unreported                  </td><td> 53</td><td> 38.129496</td></tr>\n",
       "\t<tr><td>13</td><td>Korean    </td><td>Home: book reading          </td><td> 37</td><td>100.000000</td></tr>\n",
       "\t<tr><td>14</td><td>Mandarin  </td><td>Home: unstructured          </td><td>  2</td><td>100.000000</td></tr>\n",
       "\t<tr><td>15</td><td>Norwegian </td><td>Home: unstructured          </td><td> 56</td><td>100.000000</td></tr>\n",
       "\t<tr><td>16</td><td>Persian   </td><td>Home: unreported            </td><td> 12</td><td>100.000000</td></tr>\n",
       "\t<tr><td>17</td><td>Polish    </td><td>Home: interview/unstructured</td><td>  1</td><td>100.000000</td></tr>\n",
       "\t<tr><td>18</td><td>Portuguese</td><td>Home: unstructured          </td><td> 24</td><td>100.000000</td></tr>\n",
       "\t<tr><td>19</td><td>Spanish   </td><td>Home: unstructured          </td><td> 31</td><td>100.000000</td></tr>\n",
       "\t<tr><td>20</td><td>Swedish   </td><td>Home: unstructured          </td><td> 16</td><td>100.000000</td></tr>\n",
       "</tbody>\n",
       "</table>\n"
      ],
      "text/latex": [
       "A grouped\\_df: 21 × 5\n",
       "\\begin{tabular}{lllll}\n",
       " X & Language\\_name & context & count & percent\\\\\n",
       " <int> & <chr> & <chr> & <int> & <dbl>\\\\\n",
       "\\hline\n",
       "\t  0 & Croatian   & Home: unstructured           &  79 & 100.000000\\\\\n",
       "\t  1 & English    & Home: other                  &  20 &   1.928640\\\\\n",
       "\t  2 & English    & Home: unstructured           & 397 &  38.283510\\\\\n",
       "\t  3 & English    & Lab: interview/unstructured  & 433 &  41.755063\\\\\n",
       "\t  4 & English    & Lab: tabletop play           &  27 &   2.603664\\\\\n",
       "\t  5 & English    & Lab: unstructured            &  30 &   2.892960\\\\\n",
       "\t  6 & English    & Other: unstructured          & 130 &  12.536162\\\\\n",
       "\t  7 & Estonian   & Home: unstructured           &  22 & 100.000000\\\\\n",
       "\t  8 & French     & Home: unstructured           & 258 &  85.148515\\\\\n",
       "\t  9 & French     & Unreported                   &  45 &  14.851485\\\\\n",
       "\t 10 & German     & Home: unstructured           &  39 & 100.000000\\\\\n",
       "\t 11 & Japanese   & Home: unstructured           &  86 &  61.870504\\\\\n",
       "\t 12 & Japanese   & Unreported                   &  53 &  38.129496\\\\\n",
       "\t 13 & Korean     & Home: book reading           &  37 & 100.000000\\\\\n",
       "\t 14 & Mandarin   & Home: unstructured           &   2 & 100.000000\\\\\n",
       "\t 15 & Norwegian  & Home: unstructured           &  56 & 100.000000\\\\\n",
       "\t 16 & Persian    & Home: unreported             &  12 & 100.000000\\\\\n",
       "\t 17 & Polish     & Home: interview/unstructured &   1 & 100.000000\\\\\n",
       "\t 18 & Portuguese & Home: unstructured           &  24 & 100.000000\\\\\n",
       "\t 19 & Spanish    & Home: unstructured           &  31 & 100.000000\\\\\n",
       "\t 20 & Swedish    & Home: unstructured           &  16 & 100.000000\\\\\n",
       "\\end{tabular}\n"
      ],
      "text/markdown": [
       "\n",
       "A grouped_df: 21 × 5\n",
       "\n",
       "| X &lt;int&gt; | Language_name &lt;chr&gt; | context &lt;chr&gt; | count &lt;int&gt; | percent &lt;dbl&gt; |\n",
       "|---|---|---|---|---|\n",
       "|  0 | Croatian   | Home: unstructured           |  79 | 100.000000 |\n",
       "|  1 | English    | Home: other                  |  20 |   1.928640 |\n",
       "|  2 | English    | Home: unstructured           | 397 |  38.283510 |\n",
       "|  3 | English    | Lab: interview/unstructured  | 433 |  41.755063 |\n",
       "|  4 | English    | Lab: tabletop play           |  27 |   2.603664 |\n",
       "|  5 | English    | Lab: unstructured            |  30 |   2.892960 |\n",
       "|  6 | English    | Other: unstructured          | 130 |  12.536162 |\n",
       "|  7 | Estonian   | Home: unstructured           |  22 | 100.000000 |\n",
       "|  8 | French     | Home: unstructured           | 258 |  85.148515 |\n",
       "|  9 | French     | Unreported                   |  45 |  14.851485 |\n",
       "| 10 | German     | Home: unstructured           |  39 | 100.000000 |\n",
       "| 11 | Japanese   | Home: unstructured           |  86 |  61.870504 |\n",
       "| 12 | Japanese   | Unreported                   |  53 |  38.129496 |\n",
       "| 13 | Korean     | Home: book reading           |  37 | 100.000000 |\n",
       "| 14 | Mandarin   | Home: unstructured           |   2 | 100.000000 |\n",
       "| 15 | Norwegian  | Home: unstructured           |  56 | 100.000000 |\n",
       "| 16 | Persian    | Home: unreported             |  12 | 100.000000 |\n",
       "| 17 | Polish     | Home: interview/unstructured |   1 | 100.000000 |\n",
       "| 18 | Portuguese | Home: unstructured           |  24 | 100.000000 |\n",
       "| 19 | Spanish    | Home: unstructured           |  31 | 100.000000 |\n",
       "| 20 | Swedish    | Home: unstructured           |  16 | 100.000000 |\n",
       "\n"
      ],
      "text/plain": [
       "   X  Language_name context                      count percent   \n",
       "1   0 Croatian      Home: unstructured            79   100.000000\n",
       "2   1 English       Home: other                   20     1.928640\n",
       "3   2 English       Home: unstructured           397    38.283510\n",
       "4   3 English       Lab: interview/unstructured  433    41.755063\n",
       "5   4 English       Lab: tabletop play            27     2.603664\n",
       "6   5 English       Lab: unstructured             30     2.892960\n",
       "7   6 English       Other: unstructured          130    12.536162\n",
       "8   7 Estonian      Home: unstructured            22   100.000000\n",
       "9   8 French        Home: unstructured           258    85.148515\n",
       "10  9 French        Unreported                    45    14.851485\n",
       "11 10 German        Home: unstructured            39   100.000000\n",
       "12 11 Japanese      Home: unstructured            86    61.870504\n",
       "13 12 Japanese      Unreported                    53    38.129496\n",
       "14 13 Korean        Home: book reading            37   100.000000\n",
       "15 14 Mandarin      Home: unstructured             2   100.000000\n",
       "16 15 Norwegian     Home: unstructured            56   100.000000\n",
       "17 16 Persian       Home: unreported              12   100.000000\n",
       "18 17 Polish        Home: interview/unstructured   1   100.000000\n",
       "19 18 Portuguese    Home: unstructured            24   100.000000\n",
       "20 19 Spanish       Home: unstructured            31   100.000000\n",
       "21 20 Swedish       Home: unstructured            16   100.000000"
      ]
     },
     "metadata": {},
     "output_type": "display_data"
    }
   ],
   "source": [
    "context_summary[order(context_summary$Language_name),]"
   ]
  },
  {
   "cell_type": "code",
   "execution_count": 74,
   "id": "7cf197bb-c4fb-4bfe-b4e9-9847ff1f6449",
   "metadata": {},
   "outputs": [],
   "source": [
    "context_summary$context <- factor(context_summary$context, levels = c(\"Home: book reading\",\n",
    "                                                                      \"Home: interview/unstructured\",\n",
    "                                                                      \"Home: unstructured\",\n",
    "                                                                      \"Home: other\",\n",
    "                                                                      \"Home: unreported\",\n",
    "                                                                      \"Lab: tabletop play\",\n",
    "                                                                      \"Lab: interview/unstructured\",\n",
    "                                                                      \"Lab: unstructured\",\n",
    "                                                                      \"Lab: other\",\n",
    "                                                                      \"Other: unstructured\",\n",
    "                                                                      \"Unreported\"))"
   ]
  },
  {
   "cell_type": "code",
   "execution_count": 75,
   "id": "599f5fbe-1a0a-42c5-b02c-105664a0d48e",
   "metadata": {},
   "outputs": [],
   "source": [
    "context_summary <- context_summary %>% mutate(row = case_when(\n",
    "                    Language_name==\"Croatian\" ~ 0,\n",
    "                    Language_name==\"English\" ~ 0,\n",
    "                    Language_name==\"Estonian\" ~ 0,\n",
    "                    Language_name==\"French\" ~ 0,\n",
    "                    Language_name==\"German\" ~ 0,\n",
    "                    Language_name==\"Japanese\" ~ 0,\n",
    "                    Language_name==\"Korean\" ~ 0,\n",
    "                    Language_name==\"Mandarin\" ~ 1,\n",
    "                    Language_name==\"Norwegian\" ~ 1,\n",
    "                    Language_name==\"Persian\" ~ 1,\n",
    "                    Language_name==\"Polish\" ~ 1,\n",
    "                    Language_name==\"Portuguese\" ~ 1,\n",
    "                    Language_name==\"Spanish\" ~ 1,\n",
    "                    Language_name==\"Swedish\" ~ 1))"
   ]
  },
  {
   "cell_type": "code",
   "execution_count": 76,
   "id": "c1162ade-3ceb-4def-ad20-8f3c60865b6f",
   "metadata": {},
   "outputs": [
    {
     "data": {
      "text/html": [
       "<table class=\"dataframe\">\n",
       "<caption>A grouped_df: 21 × 6</caption>\n",
       "<thead>\n",
       "\t<tr><th scope=col>X</th><th scope=col>Language_name</th><th scope=col>context</th><th scope=col>count</th><th scope=col>percent</th><th scope=col>row</th></tr>\n",
       "\t<tr><th scope=col>&lt;int&gt;</th><th scope=col>&lt;chr&gt;</th><th scope=col>&lt;fct&gt;</th><th scope=col>&lt;int&gt;</th><th scope=col>&lt;dbl&gt;</th><th scope=col>&lt;dbl&gt;</th></tr>\n",
       "</thead>\n",
       "<tbody>\n",
       "\t<tr><td> 0</td><td>Croatian  </td><td>Home: unstructured          </td><td> 79</td><td>100.000000</td><td>0</td></tr>\n",
       "\t<tr><td> 1</td><td>English   </td><td>Home: other                 </td><td> 20</td><td>  1.928640</td><td>0</td></tr>\n",
       "\t<tr><td> 2</td><td>English   </td><td>Home: unstructured          </td><td>397</td><td> 38.283510</td><td>0</td></tr>\n",
       "\t<tr><td> 3</td><td>English   </td><td>Lab: interview/unstructured </td><td>433</td><td> 41.755063</td><td>0</td></tr>\n",
       "\t<tr><td> 4</td><td>English   </td><td>Lab: tabletop play          </td><td> 27</td><td>  2.603664</td><td>0</td></tr>\n",
       "\t<tr><td> 5</td><td>English   </td><td>Lab: unstructured           </td><td> 30</td><td>  2.892960</td><td>0</td></tr>\n",
       "\t<tr><td> 6</td><td>English   </td><td>Other: unstructured         </td><td>130</td><td> 12.536162</td><td>0</td></tr>\n",
       "\t<tr><td> 7</td><td>Estonian  </td><td>Home: unstructured          </td><td> 22</td><td>100.000000</td><td>0</td></tr>\n",
       "\t<tr><td> 8</td><td>French    </td><td>Home: unstructured          </td><td>258</td><td> 85.148515</td><td>0</td></tr>\n",
       "\t<tr><td> 9</td><td>French    </td><td>Unreported                  </td><td> 45</td><td> 14.851485</td><td>0</td></tr>\n",
       "\t<tr><td>10</td><td>German    </td><td>Home: unstructured          </td><td> 39</td><td>100.000000</td><td>0</td></tr>\n",
       "\t<tr><td>11</td><td>Japanese  </td><td>Home: unstructured          </td><td> 86</td><td> 61.870504</td><td>0</td></tr>\n",
       "\t<tr><td>12</td><td>Japanese  </td><td>Unreported                  </td><td> 53</td><td> 38.129496</td><td>0</td></tr>\n",
       "\t<tr><td>13</td><td>Korean    </td><td>Home: book reading          </td><td> 37</td><td>100.000000</td><td>0</td></tr>\n",
       "\t<tr><td>14</td><td>Mandarin  </td><td>Home: unstructured          </td><td>  2</td><td>100.000000</td><td>1</td></tr>\n",
       "\t<tr><td>15</td><td>Norwegian </td><td>Home: unstructured          </td><td> 56</td><td>100.000000</td><td>1</td></tr>\n",
       "\t<tr><td>16</td><td>Persian   </td><td>Home: unreported            </td><td> 12</td><td>100.000000</td><td>1</td></tr>\n",
       "\t<tr><td>17</td><td>Polish    </td><td>Home: interview/unstructured</td><td>  1</td><td>100.000000</td><td>1</td></tr>\n",
       "\t<tr><td>18</td><td>Portuguese</td><td>Home: unstructured          </td><td> 24</td><td>100.000000</td><td>1</td></tr>\n",
       "\t<tr><td>19</td><td>Spanish   </td><td>Home: unstructured          </td><td> 31</td><td>100.000000</td><td>1</td></tr>\n",
       "\t<tr><td>20</td><td>Swedish   </td><td>Home: unstructured          </td><td> 16</td><td>100.000000</td><td>1</td></tr>\n",
       "</tbody>\n",
       "</table>\n"
      ],
      "text/latex": [
       "A grouped\\_df: 21 × 6\n",
       "\\begin{tabular}{llllll}\n",
       " X & Language\\_name & context & count & percent & row\\\\\n",
       " <int> & <chr> & <fct> & <int> & <dbl> & <dbl>\\\\\n",
       "\\hline\n",
       "\t  0 & Croatian   & Home: unstructured           &  79 & 100.000000 & 0\\\\\n",
       "\t  1 & English    & Home: other                  &  20 &   1.928640 & 0\\\\\n",
       "\t  2 & English    & Home: unstructured           & 397 &  38.283510 & 0\\\\\n",
       "\t  3 & English    & Lab: interview/unstructured  & 433 &  41.755063 & 0\\\\\n",
       "\t  4 & English    & Lab: tabletop play           &  27 &   2.603664 & 0\\\\\n",
       "\t  5 & English    & Lab: unstructured            &  30 &   2.892960 & 0\\\\\n",
       "\t  6 & English    & Other: unstructured          & 130 &  12.536162 & 0\\\\\n",
       "\t  7 & Estonian   & Home: unstructured           &  22 & 100.000000 & 0\\\\\n",
       "\t  8 & French     & Home: unstructured           & 258 &  85.148515 & 0\\\\\n",
       "\t  9 & French     & Unreported                   &  45 &  14.851485 & 0\\\\\n",
       "\t 10 & German     & Home: unstructured           &  39 & 100.000000 & 0\\\\\n",
       "\t 11 & Japanese   & Home: unstructured           &  86 &  61.870504 & 0\\\\\n",
       "\t 12 & Japanese   & Unreported                   &  53 &  38.129496 & 0\\\\\n",
       "\t 13 & Korean     & Home: book reading           &  37 & 100.000000 & 0\\\\\n",
       "\t 14 & Mandarin   & Home: unstructured           &   2 & 100.000000 & 1\\\\\n",
       "\t 15 & Norwegian  & Home: unstructured           &  56 & 100.000000 & 1\\\\\n",
       "\t 16 & Persian    & Home: unreported             &  12 & 100.000000 & 1\\\\\n",
       "\t 17 & Polish     & Home: interview/unstructured &   1 & 100.000000 & 1\\\\\n",
       "\t 18 & Portuguese & Home: unstructured           &  24 & 100.000000 & 1\\\\\n",
       "\t 19 & Spanish    & Home: unstructured           &  31 & 100.000000 & 1\\\\\n",
       "\t 20 & Swedish    & Home: unstructured           &  16 & 100.000000 & 1\\\\\n",
       "\\end{tabular}\n"
      ],
      "text/markdown": [
       "\n",
       "A grouped_df: 21 × 6\n",
       "\n",
       "| X &lt;int&gt; | Language_name &lt;chr&gt; | context &lt;fct&gt; | count &lt;int&gt; | percent &lt;dbl&gt; | row &lt;dbl&gt; |\n",
       "|---|---|---|---|---|---|\n",
       "|  0 | Croatian   | Home: unstructured           |  79 | 100.000000 | 0 |\n",
       "|  1 | English    | Home: other                  |  20 |   1.928640 | 0 |\n",
       "|  2 | English    | Home: unstructured           | 397 |  38.283510 | 0 |\n",
       "|  3 | English    | Lab: interview/unstructured  | 433 |  41.755063 | 0 |\n",
       "|  4 | English    | Lab: tabletop play           |  27 |   2.603664 | 0 |\n",
       "|  5 | English    | Lab: unstructured            |  30 |   2.892960 | 0 |\n",
       "|  6 | English    | Other: unstructured          | 130 |  12.536162 | 0 |\n",
       "|  7 | Estonian   | Home: unstructured           |  22 | 100.000000 | 0 |\n",
       "|  8 | French     | Home: unstructured           | 258 |  85.148515 | 0 |\n",
       "|  9 | French     | Unreported                   |  45 |  14.851485 | 0 |\n",
       "| 10 | German     | Home: unstructured           |  39 | 100.000000 | 0 |\n",
       "| 11 | Japanese   | Home: unstructured           |  86 |  61.870504 | 0 |\n",
       "| 12 | Japanese   | Unreported                   |  53 |  38.129496 | 0 |\n",
       "| 13 | Korean     | Home: book reading           |  37 | 100.000000 | 0 |\n",
       "| 14 | Mandarin   | Home: unstructured           |   2 | 100.000000 | 1 |\n",
       "| 15 | Norwegian  | Home: unstructured           |  56 | 100.000000 | 1 |\n",
       "| 16 | Persian    | Home: unreported             |  12 | 100.000000 | 1 |\n",
       "| 17 | Polish     | Home: interview/unstructured |   1 | 100.000000 | 1 |\n",
       "| 18 | Portuguese | Home: unstructured           |  24 | 100.000000 | 1 |\n",
       "| 19 | Spanish    | Home: unstructured           |  31 | 100.000000 | 1 |\n",
       "| 20 | Swedish    | Home: unstructured           |  16 | 100.000000 | 1 |\n",
       "\n"
      ],
      "text/plain": [
       "   X  Language_name context                      count percent    row\n",
       "1   0 Croatian      Home: unstructured            79   100.000000 0  \n",
       "2   1 English       Home: other                   20     1.928640 0  \n",
       "3   2 English       Home: unstructured           397    38.283510 0  \n",
       "4   3 English       Lab: interview/unstructured  433    41.755063 0  \n",
       "5   4 English       Lab: tabletop play            27     2.603664 0  \n",
       "6   5 English       Lab: unstructured             30     2.892960 0  \n",
       "7   6 English       Other: unstructured          130    12.536162 0  \n",
       "8   7 Estonian      Home: unstructured            22   100.000000 0  \n",
       "9   8 French        Home: unstructured           258    85.148515 0  \n",
       "10  9 French        Unreported                    45    14.851485 0  \n",
       "11 10 German        Home: unstructured            39   100.000000 0  \n",
       "12 11 Japanese      Home: unstructured            86    61.870504 0  \n",
       "13 12 Japanese      Unreported                    53    38.129496 0  \n",
       "14 13 Korean        Home: book reading            37   100.000000 0  \n",
       "15 14 Mandarin      Home: unstructured             2   100.000000 1  \n",
       "16 15 Norwegian     Home: unstructured            56   100.000000 1  \n",
       "17 16 Persian       Home: unreported              12   100.000000 1  \n",
       "18 17 Polish        Home: interview/unstructured   1   100.000000 1  \n",
       "19 18 Portuguese    Home: unstructured            24   100.000000 1  \n",
       "20 19 Spanish       Home: unstructured            31   100.000000 1  \n",
       "21 20 Swedish       Home: unstructured            16   100.000000 1  "
      ]
     },
     "metadata": {},
     "output_type": "display_data"
    }
   ],
   "source": [
    "context_summary"
   ]
  },
  {
   "cell_type": "markdown",
   "id": "067495d9-5258-44da-998f-29a33ff6cb1d",
   "metadata": {},
   "source": [
    "For black background figures:"
   ]
  },
  {
   "cell_type": "code",
   "execution_count": 94,
   "id": "6c287e9b-623b-44c5-9091-45951fae7409",
   "metadata": {},
   "outputs": [],
   "source": [
    "theme_black = function(base_size = 11, base_family = \"\") {\n",
    " \n",
    "  theme_grey(base_size = base_size, base_family = base_family) %+replace%\n",
    " \n",
    "    theme(\n",
    "      # Specify axis options\n",
    "      axis.line = element_line(colour = \"white\"),  \n",
    "      axis.text.x = element_text(color = \"white\",margin = margin(2, 2, 2, 2),size=8),  \n",
    "      axis.text.y = element_text(color = \"white\",hjust=1,margin = margin(2, 2, 2, 2)),  \n",
    "      axis.ticks = element_line(color = \"white\"),  \n",
    "      axis.title.x = element_text(size = base_size, color = \"white\"),  \n",
    "      axis.title.y = element_text(size = base_size, color = \"white\", angle = 90,margin = margin(0, 10, 0, 0)),  \n",
    "      # Specify legend options\n",
    "      legend.background = element_rect(color = NA, fill = \"black\"),  \n",
    "      legend.key = element_rect(color = \"white\",  fill = \"black\"),  \n",
    "      legend.key.size = unit(1.2, \"lines\"),  \n",
    "      legend.key.height = NULL,  \n",
    "      legend.key.width = NULL,      \n",
    "      legend.text = element_text(size = base_size*0.8, color = \"white\"),  \n",
    "      legend.title = element_text(size = base_size*0.8, face = \"bold\", hjust = 0, color = \"white\"),  \n",
    "      legend.position = \"right\",  \n",
    "      legend.text.align = NULL,  \n",
    "      legend.title.align = NULL,  \n",
    "      legend.direction = \"vertical\",  \n",
    "      legend.box = NULL, \n",
    "      # Specify panel options\n",
    "      panel.background = element_blank(),  \n",
    "      panel.border = element_blank(),  \n",
    "      panel.grid.major = element_blank(),  \n",
    "      panel.grid.minor = element_blank(),  \n",
    "#       panel.margin = unit(0.5, \"lines\"),   \n",
    "      # Specify facetting options\n",
    "      strip.background = element_rect(fill = \"black\", color = \"white\"),  \n",
    "      strip.text.x = element_text( color = \"white\"),  \n",
    "      strip.text.y = element_text(size = base_size*0.8, color = \"white\",angle = -90),  \n",
    "      # Specify plot options\n",
    "      plot.background = element_rect(color = \"black\", fill = \"black\"),  \n",
    "      plot.title = element_text(size = base_size, color = \"white\"),  \n",
    "      plot.margin = unit(rep(1, 4), \"lines\")\n",
    " \n",
    "    )\n",
    " \n",
    "}"
   ]
  },
  {
   "cell_type": "markdown",
   "id": "d2b9e009-d6e4-4889-ae67-804622103d82",
   "metadata": {},
   "source": [
    "Generate plot:"
   ]
  },
  {
   "cell_type": "code",
   "execution_count": 95,
   "id": "6105b4d3-d2e0-4713-a4d0-dfaaa926eaee",
   "metadata": {},
   "outputs": [],
   "source": [
    "library('ggplot2')\n",
    "library('viridis')\n",
    "library('scales')\n",
    "\n",
    "p <- ggplot() +\n",
    "     geom_bar(aes(y = percent, x = Language_name, fill = context),\n",
    "              data = context_summary,\n",
    "              stat=\"identity\") +\n",
    "    facet_wrap(~row, ncol=1, scales='free') +\n",
    "    scale_fill_viridis(discrete = TRUE,\n",
    "                       option=\"plasma\",\n",
    "                       name = \"Recording context\") +\n",
    "    labs(y = \"Percentage of transcripts\",\n",
    "         x = \"\") +\n",
    "    theme_classic() +\n",
    "    theme_black() +\n",
    "    scale_x_discrete(position = \"top\") +\n",
    "    theme(text = element_text(size=11),\n",
    "          axis.text.x = element_text(colour=\"white\",vjust = 0.5, hjust = 0.5),\n",
    "          axis.ticks.x=element_blank(),\n",
    "          axis.text.y = element_text(colour=\"white\"),\n",
    "          strip.text.x = element_blank(),\n",
    "          legend.key.size = unit(4, 'mm'),\n",
    "          legend.background = element_rect(fill=\"black\",\n",
    "                                           size=0, linetype=\"dotted\",\n",
    "                                           colour = \"black\"))\n",
    "\n",
    "# ggsave(\"../figures/Figure_2_black.pdf\", width = 7, height = 2.4,dpi=1200)\n",
    "ggsave(\"../figures/Figure_2_.pdf\", width = 7, height = 2.4,dpi=1200)"
   ]
  },
  {
   "cell_type": "code",
   "execution_count": null,
   "id": "c622b263-7bfb-42eb-b110-d3e6cd8b1dec",
   "metadata": {},
   "outputs": [],
   "source": []
  }
 ],
 "metadata": {
  "kernelspec": {
   "display_name": "Python 3 (ipykernel)",
   "language": "python",
   "name": "python3"
  },
  "language_info": {
   "codemirror_mode": {
    "name": "ipython",
    "version": 3
   },
   "file_extension": ".py",
   "mimetype": "text/x-python",
   "name": "python",
   "nbconvert_exporter": "python",
   "pygments_lexer": "ipython3",
   "version": "3.9.12"
  }
 },
 "nbformat": 4,
 "nbformat_minor": 5
}
